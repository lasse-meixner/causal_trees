{
 "cells": [
  {
   "cell_type": "code",
   "execution_count": 2,
   "metadata": {},
   "outputs": [],
   "source": [
    "%load_ext autoreload\n",
    "%autoreload 2"
   ]
  },
  {
   "cell_type": "markdown",
   "metadata": {},
   "source": [
    "In this notebook I look at SHAP values in the context of simple linear models and index models to make its behaviour transparent in environments that econometricians are familiar with. I will consider \n",
    "1. Linear model with independent covariates\n",
    "2. Linear model with dependent covariates\n",
    "3. Index model (logit) with independent covariates\n",
    "4. Index model (logit) with dependent covariates"
   ]
  },
  {
   "cell_type": "markdown",
   "metadata": {},
   "source": [
    "### Linear model"
   ]
  },
  {
   "cell_type": "markdown",
   "metadata": {},
   "source": [
    "see goodnotes."
   ]
  },
  {
   "cell_type": "markdown",
   "metadata": {},
   "source": [
    "### Logit"
   ]
  },
  {
   "cell_type": "markdown",
   "metadata": {},
   "source": [
    "With the logit, there is no nice closed form solution for the conditional expected value of the prediction. Here, I will compute these integrals exactly using numerical integration through scipy. Alternatively, and probably much faster, would be to Monte-Carlo approximate those integrals."
   ]
  },
  {
   "cell_type": "code",
   "execution_count": 10,
   "metadata": {},
   "outputs": [],
   "source": [
    "import numpy as np\n",
    "import scipy.integrate as integrate\n",
    "from scipy.stats import multivariate_normal as mvn\n",
    "from scipy.stats import norm"
   ]
  },
  {
   "cell_type": "code",
   "execution_count": 11,
   "metadata": {},
   "outputs": [],
   "source": [
    "def get_sigma_decomposition(conditioning_indices, Sigma):\n",
    "    \"\"\"\n",
    "    Decomposes the covariance matrix Sigma into three submatrices based on the conditioning indices.\n",
    "    cf: https://stats.stackexchange.com/questions/30588/deriving-the-conditional-distributions-of-a-multivariate-normal-distribution\n",
    "\n",
    "    Parameters:\n",
    "    conditioning_indices (list): List of indices representing the conditioning variables.\n",
    "    Sigma (numpy.ndarray): Covariance matrix.\n",
    "\n",
    "    Returns:\n",
    "    Sigma11 (numpy.ndarray): Submatrix of Sigma containing the non-conditioning variables.\n",
    "    Sigma12 (numpy.ndarray): Submatrix of Sigma containing the cross-covariance between non-conditioning and conditioning variables.\n",
    "    Sigma22 (numpy.ndarray): Submatrix of Sigma containing the conditioning variables.\n",
    "    \"\"\"\n",
    "    non_conditioning_indices = [i for i in range(Sigma.shape[0]) if i not in conditioning_indices]\n",
    "    Sigma11 = Sigma[np.ix_(non_conditioning_indices, non_conditioning_indices)]\n",
    "    Sigma12 = Sigma[np.ix_(non_conditioning_indices, conditioning_indices)]\n",
    "    Sigma22 = Sigma[np.ix_(conditioning_indices, conditioning_indices)]\n",
    "    return Sigma11, Sigma12, Sigma22\n",
    "\n",
    "# densities of conditional normal functions\n",
    "def get_conditional_params(values, conditioning_var_inds=[1, 2], mus=np.array([0, 0, 0]), Sigma=np.array([[1, 0, 0], [0, 1, 0], [0, 0, 1]])):\n",
    "    \"\"\"\n",
    "    Calculate the expected value and variance of a conditional normal distribution.\n",
    "\n",
    "    Parameters:\n",
    "    values (list): The observed values of the conditioning variables.\n",
    "    conditioning_var_inds (list): The indices of the conditioning variables.\n",
    "    mus (ndarray): The mean vector of the joint normal distribution.\n",
    "    Sigma (ndarray): The covariance matrix of the joint normal distribution.\n",
    "\n",
    "    Returns:\n",
    "    tuple: A tuple containing the expected value and variance of the conditional normal distribution.\n",
    "    \"\"\"\n",
    "    \n",
    "    assert(len(values) == len(conditioning_var_inds))\n",
    "\n",
    "    # generate list of variables by length of mus\n",
    "    free_var_inds = [i for i in range(len(mus)) if i not in conditioning_var_inds]\n",
    "\n",
    "    # get Sigma decomposition\n",
    "    Sigma11, Sigma12, Sigma22 = get_sigma_decomposition(conditioning_var_inds, Sigma)\n",
    "    # get expected value and variance of conditional normal distribution\n",
    "    exp = mus[free_var_inds] + np.dot(Sigma12, np.dot(np.linalg.inv(Sigma22), (np.array(values) - mus[conditioning_var_inds])))\n",
    "    sig = Sigma11 - np.dot(Sigma12, np.dot(np.linalg.inv(Sigma22), Sigma12.T))\n",
    "    return exp, sig\n",
    "\n",
    "def normal_conditional_density(x, conditioning_values, conditioning_indices, params={\"mus\": np.array([0, 0, 0]), \"Sigma\": np.array([[1, 0, 0], [0, 1, 0], [0, 0, 1]])}):\n",
    "    \"\"\"\n",
    "    Calculates the conditional density of a multivariate normal distribution.\n",
    "\n",
    "    Parameters:\n",
    "    x (array-like): The value at which to evaluate the density.\n",
    "    conditioning_values (array-like): The values of the conditioning variables.\n",
    "    conditioning_indices (array-like): The indices of the conditioning variables.\n",
    "\n",
    "    Returns:\n",
    "    float: The value of the conditional density at x.\n",
    "    \"\"\"\n",
    "    exp, sig = get_conditional_params(conditioning_values, conditioning_indices, mus=params[\"mus\"], Sigma=params[\"Sigma\"])\n",
    "    assert(len(conditioning_values) == len(conditioning_indices))\n",
    "    return mvn.pdf(x, mean=exp, cov=sig)\n",
    "\n",
    "\n",
    "# logit\n",
    "def f_logit(x, conditioning_values, conditioning_indices, coefs = np.array([1, 1, 1])):\n",
    "    # select coefs using conditioning_indices and multiply with conditioning_values\n",
    "    w = coefs[conditioning_indices]\n",
    "    summand = np.dot(w, conditioning_values)\n",
    "    # get remaining coefs\n",
    "    if x is not None:\n",
    "        w_remaining = coefs[[i for i in range(len(coefs)) if i not in conditioning_indices]]\n",
    "        summand += np.dot(w_remaining, x)\n",
    "    return np.sum(np.exp(summand)/(1 + np.exp(summand))) # sum to return scalar"
   ]
  },
  {
   "cell_type": "code",
   "execution_count": 12,
   "metadata": {},
   "outputs": [
    {
     "data": {
      "text/plain": [
       "(array([0.]), array([[1.]]))"
      ]
     },
     "execution_count": 12,
     "metadata": {},
     "output_type": "execute_result"
    }
   ],
   "source": [
    "get_conditional_params([1,0],[0,2])"
   ]
  },
  {
   "cell_type": "code",
   "execution_count": 13,
   "metadata": {},
   "outputs": [],
   "source": [
    "# integrals for 3 variables\n",
    "def E_f(values, conditioning_vars, params={\"mus\": np.array([0, 0, 0]), \"Sigma\": np.array([[1, 0, 0], [0, 1, 0], [0, 0, 1]]), \"coefs\": np.array([1, 1, 1])}):\n",
    "    \"\"\"\n",
    "    Calculate the expected value of an outcome function f_logit under different conditioning variables with normal distributions for arbitrary parameters.\n",
    "\n",
    "    Parameters:\n",
    "    values (list): List of values for the conditioning variables.\n",
    "    conditioning_vars (list): List of indices of the conditioning variables.\n",
    "    params (dict): Dictionary of parameters for the function f_logit.\n",
    "\n",
    "    Returns:\n",
    "    tuple: A tuple containing the result and error of the calculation.\n",
    "    \"\"\"\n",
    "    abs_error_tolerance = 1.49e-08\n",
    "    assert(len(values) == len(conditioning_vars))\n",
    "    normal_params = {\"mus\": params[\"mus\"], \"Sigma\": params[\"Sigma\"]}\n",
    "\n",
    "    if len(conditioning_vars) == 3:\n",
    "        result = f_logit(x = None, conditioning_values=values, conditioning_indices=conditioning_vars)\n",
    "        error = None\n",
    "\n",
    "    if len(conditioning_vars) == 2:\n",
    "        result, error = integrate.quad(lambda x: normal_conditional_density(x, conditioning_values=values, conditioning_indices=conditioning_vars, params=normal_params) * f_logit(x, conditioning_values=values, conditioning_indices=conditioning_vars, coefs=params[\"coefs\"]), -100, 100, epsabs=abs_error_tolerance, epsrel=abs_error_tolerance)\n",
    "    \n",
    "    if len(conditioning_vars) == 1:\n",
    "        result, error = integrate.dblquad(lambda x,y: normal_conditional_density((x,y), conditioning_values=values, conditioning_indices=conditioning_vars, params=normal_params) * f_logit((x,y), conditioning_values=values, conditioning_indices=conditioning_vars, coefs=params[\"coefs\"]), -100, 100, -100, 100, epsabs=abs_error_tolerance, epsrel=abs_error_tolerance)\n",
    "\n",
    "    if len(conditioning_vars) == 0:\n",
    "        if np.allclose(params[\"mus\"], np.array([0, 0, 0])):\n",
    "            result = 0.5\n",
    "            error = None\n",
    "        else:\n",
    "            result, error = integrate.tplquad(lambda x,y,z: mvn.pdf((x,y,z), mean=params[\"mus\"], cov=params[\"Sigma\"]) * f_logit((x,y,z), conditioning_values=values, conditioning_indices=conditioning_vars, coefs=params[\"coefs\"]), -100, 100, -100, 100, -100, 100, epsabs=abs_error_tolerance, epsrel=abs_error_tolerance)\n",
    "\n",
    "    return result, error\n"
   ]
  },
  {
   "cell_type": "markdown",
   "metadata": {},
   "source": [
    "Note that this function could be run just the same for another plug-in model simply by replacing the f_logit."
   ]
  },
  {
   "cell_type": "markdown",
   "metadata": {},
   "source": [
    "### checks and tests"
   ]
  },
  {
   "cell_type": "code",
   "execution_count": 35,
   "metadata": {},
   "outputs": [
    {
     "data": {
      "text/plain": [
       "array([1, 1])"
      ]
     },
     "execution_count": 35,
     "metadata": {},
     "output_type": "execute_result"
    }
   ],
   "source": [
    "coefs = np.array([1, 1, 1])\n",
    "coefs[[1,2]]"
   ]
  },
  {
   "cell_type": "code",
   "execution_count": 36,
   "metadata": {},
   "outputs": [
    {
     "data": {
      "text/plain": [
       "0.8807970779778824"
      ]
     },
     "execution_count": 36,
     "metadata": {},
     "output_type": "execute_result"
    }
   ],
   "source": [
    "f_logit(x = 2, conditioning_values = [0, 0], conditioning_indices = [1, 2], coefs = np.array([1, 1, 1]))"
   ]
  },
  {
   "cell_type": "code",
   "execution_count": 37,
   "metadata": {},
   "outputs": [
    {
     "data": {
      "text/plain": [
       "0.5"
      ]
     },
     "execution_count": 37,
     "metadata": {},
     "output_type": "execute_result"
    }
   ],
   "source": [
    "f_logit(x = (0,0), conditioning_values = [0], conditioning_indices = [1], coefs = np.array([1, 1, 1]))"
   ]
  },
  {
   "cell_type": "code",
   "execution_count": 38,
   "metadata": {},
   "outputs": [
    {
     "data": {
      "text/plain": [
       "0.5"
      ]
     },
     "execution_count": 38,
     "metadata": {},
     "output_type": "execute_result"
    }
   ],
   "source": [
    "f_logit(x = (0,0,0), conditioning_values = [], conditioning_indices = [], coefs = np.array([1, 1, 1]))"
   ]
  },
  {
   "cell_type": "code",
   "execution_count": 8,
   "metadata": {},
   "outputs": [
    {
     "data": {
      "text/plain": [
       "(array([[1]]),\n",
       " array([[0, 0]]),\n",
       " array([[1, 0],\n",
       "        [0, 1]]))"
      ]
     },
     "execution_count": 8,
     "metadata": {},
     "output_type": "execute_result"
    }
   ],
   "source": [
    "get_sigma_decomposition([1,2], Sigma = np.array([[1,0,0],[0,1,0],[0,0,1]]))"
   ]
  },
  {
   "cell_type": "code",
   "execution_count": 9,
   "metadata": {},
   "outputs": [
    {
     "data": {
      "text/plain": [
       "(array([[1, 0],\n",
       "        [0, 1]]),\n",
       " array([[0],\n",
       "        [0]]),\n",
       " array([[1]]))"
      ]
     },
     "execution_count": 9,
     "metadata": {},
     "output_type": "execute_result"
    }
   ],
   "source": [
    "get_sigma_decomposition([2], Sigma = np.array([[1,0,0],[0,1,0],[0,0,1]]))"
   ]
  },
  {
   "cell_type": "code",
   "execution_count": 10,
   "metadata": {},
   "outputs": [
    {
     "data": {
      "text/plain": [
       "(array([0., 0.]),\n",
       " array([[1., 0.],\n",
       "        [0., 1.]]))"
      ]
     },
     "execution_count": 10,
     "metadata": {},
     "output_type": "execute_result"
    }
   ],
   "source": [
    "get_conditional_params(values = [0], conditioning_var_inds = [2])"
   ]
  },
  {
   "cell_type": "code",
   "execution_count": 11,
   "metadata": {},
   "outputs": [
    {
     "data": {
      "text/plain": [
       "0.15915494309189535"
      ]
     },
     "execution_count": 11,
     "metadata": {},
     "output_type": "execute_result"
    }
   ],
   "source": [
    "normal_conditional_density(x = [0,0], conditioning_values=[0], conditioning_indices=[2])"
   ]
  },
  {
   "cell_type": "code",
   "execution_count": 39,
   "metadata": {},
   "outputs": [
    {
     "data": {
      "text/plain": [
       "(1.0000000011805943, 0.0001413029331700994)"
      ]
     },
     "execution_count": 39,
     "metadata": {},
     "output_type": "execute_result"
    }
   ],
   "source": [
    "# check if the conditional densities are correct by integrating\n",
    "\n",
    "integrate.dblquad(lambda x,y: normal_conditional_density((x,y), [0], [2]), -np.inf, np.inf, -np.inf, np.inf, epsabs=abs_error_tolerance, epsrel=abs_error_tolerance)"
   ]
  },
  {
   "cell_type": "code",
   "execution_count": 40,
   "metadata": {},
   "outputs": [
    {
     "data": {
      "text/plain": [
       "(0.9999999997941593, 9.361124086700034e-05)"
      ]
     },
     "execution_count": 40,
     "metadata": {},
     "output_type": "execute_result"
    }
   ],
   "source": [
    "integrate.quad(lambda x: normal_conditional_density(x, [0,3], [1,2]), -np.inf, np.inf, epsabs=abs_error_tolerance, epsrel=abs_error_tolerance)"
   ]
  },
  {
   "cell_type": "code",
   "execution_count": 41,
   "metadata": {},
   "outputs": [
    {
     "data": {
      "text/plain": [
       "(0.5000000000000001, 5.943013844712378e-13)"
      ]
     },
     "execution_count": 41,
     "metadata": {},
     "output_type": "execute_result"
    }
   ],
   "source": [
    "integrate.quad(lambda x: f_logit(x, [0,0], [1,2]) * normal_conditional_density(x, [0,0], [1,2]), -100, 100)"
   ]
  },
  {
   "cell_type": "code",
   "execution_count": 42,
   "metadata": {},
   "outputs": [
    {
     "data": {
      "text/plain": [
       "0.06349363593424098"
      ]
     },
     "execution_count": 42,
     "metadata": {},
     "output_type": "execute_result"
    }
   ],
   "source": [
    "mvn.pdf((0,0,0), np.array([0,0,0]), np.array([[1,0,0],[0,1,0],[0,0,1]]))"
   ]
  },
  {
   "cell_type": "markdown",
   "metadata": {},
   "source": [
    "For some reason this only works if I throw in bounds of 100, for larger (e.g. np.inf) it doesnt compute the integral, I guess it has trouble with large values of the logic and small tail probability masses."
   ]
  },
  {
   "cell_type": "code",
   "execution_count": 16,
   "metadata": {},
   "outputs": [
    {
     "data": {
      "text/plain": [
       "(0.9306761419957146, 7.25675477206413e-13)"
      ]
     },
     "execution_count": 16,
     "metadata": {},
     "output_type": "execute_result"
    }
   ],
   "source": [
    "E_f(values = [1,2], conditioning_vars = [1,2])"
   ]
  },
  {
   "cell_type": "code",
   "execution_count": 17,
   "metadata": {},
   "outputs": [
    {
     "data": {
      "text/plain": [
       "(0.6750567023488913, 1.4870789199628173e-08)"
      ]
     },
     "execution_count": 17,
     "metadata": {},
     "output_type": "execute_result"
    }
   ],
   "source": [
    "E_f(values = [1], conditioning_vars = [2])"
   ]
  },
  {
   "cell_type": "markdown",
   "metadata": {},
   "source": [
    "### SHAP value computation via Kernel representation"
   ]
  },
  {
   "cell_type": "markdown",
   "metadata": {},
   "source": [
    "The code is based on a description of the Kernel Shap procedure from KJERSTI AAS, MARTIN JULLUM, and ANDERS LØLAND in EXPLAINING INDIVIDUAL PREDICTIONS WHEN FEATURES ARE DEPENDENT:\n",
    "MORE ACCURATE APPROXIMATIONS TO SHAPLEY VALUES."
   ]
  },
  {
   "cell_type": "code",
   "execution_count": 14,
   "metadata": {},
   "outputs": [],
   "source": [
    "import pandas as pd\n",
    "import numpy as np\n",
    "import math\n",
    "import tqdm\n",
    "import matplotlib.pyplot as plt\n",
    "import seaborn as sns\n",
    "\n",
    "class ShapleyWLS:\n",
    "    def __init__(self, SHAP_value_function, data_instance, value_function_params):\n",
    "        self.SHAP_value_function = SHAP_value_function\n",
    "        self.data_instance = data_instance\n",
    "        self.value_function_params = value_function_params\n",
    "        self.M = len(data_instance)\n",
    "        self.Z = None\n",
    "        self.W = None\n",
    "        self.v = None\n",
    "        self.shapley_values = None\n",
    "\n",
    "    def build_Z(self):\n",
    "        self.Z = np.ones((2**self.M, self.M+1))\n",
    "        self.Z[:, 1:] = np.unpackbits(np.arange(2**self.M, dtype=np.uint8)[:, np.newaxis], axis=1)[:, -self.M:]\n",
    "        print(\"Z built.\")\n",
    "\n",
    "    def build_W(self):\n",
    "        self.W = np.zeros((2**self.M, 2**self.M))\n",
    "        for i in range(2**self.M):\n",
    "            sum_Z = int(np.sum(self.Z[i, 1:]))\n",
    "            if sum_Z == 0 or sum_Z == self.M:\n",
    "                self.W[i, i] = 10e7 # should be infinity, in practice set to large constant\n",
    "            else:\n",
    "                self.W[i, i] = (self.M-1)/(math.comb(self.M, sum_Z) * (self.M-sum_Z) * sum_Z)\n",
    "        print(\"W built.\")\n",
    "\n",
    "    def build_v(self):\n",
    "        self.v = np.zeros((2**self.M, 1))\n",
    "        for i in tqdm.tqdm(range(2**self.M)):\n",
    "            conditioning_indices = np.where(self.Z[i, 1:] == 1)[0] # indices of \"playing\" features\n",
    "            self.v[i] = self.SHAP_value_function(values = self.data_instance[conditioning_indices] , conditioning_vars = conditioning_indices, params = self.value_function_params)[0]\n",
    "            print(f\"v_{i}: {self.v[i]}\")\n",
    "\n",
    "    def compute_shapley_values(self):\n",
    "        self.build_Z()\n",
    "        self.build_W()\n",
    "        self.build_v()\n",
    "        self.shapley_values = np.dot(np.dot(np.dot(np.linalg.inv(np.dot(np.dot(self.Z.T, self.W), self.Z)), self.Z.T), self.W), self.v)\n",
    "        return self.shapley_values\n",
    "    \n",
    "    def get_prediction(self):\n",
    "        return self.SHAP_value_function(values = self.data_instance, conditioning_vars = [0,1,2], params = self.value_function_params)[0]\n",
    "    \n",
    "    def plot_waterfall(self):\n",
    "        assert self.shapley_values is not None; \"Shapley values not computed yet.\"\n",
    "\n",
    "         # get model prediction for the instance\n",
    "        prediction = self.get_prediction()\n",
    "        df = pd.DataFrame({\"feature\": [\"default\",\"x1\", \"x2\", \"x3\"], \"SHAP\": self.shapley_values.flatten(), \"value\": np.insert(self.data_instance,0,0)})\n",
    "        df[\"cumulative_SHAP\"] = df[\"SHAP\"].cumsum()\n",
    "\n",
    "        # build waterfall plot\n",
    "        f = plt.figure(figsize=(10, 5))\n",
    "        sns.barplot(x=\"feature\", y=\"cumulative_SHAP\", data=df, color=\"lightblue\", label=\"Cumulative SHAP\", width = 0.2)\n",
    "        sns.barplot(x=\"feature\", y=\"SHAP\", data=df, color = \"green\", width=0.8, alpha=0.5, label = \"Individual SHAP\")\n",
    "        sns.scatterplot(x=\"feature\", y=\"value\", data=df, color=\"purple\", alpha=0.6, label=\"Feature Value\")\n",
    "        ax = plt.gca()\n",
    "        ax.axhline(prediction, color='blue', linewidth=2, linestyle='--', label = \"Model Prediction\")\n",
    "        # annotate the SHAP bars with their value\n",
    "        for i, v in enumerate(df[\"SHAP\"]):\n",
    "            ax.text(i, v, round(v, 2), ha='center', va='bottom')\n",
    "\n",
    "        # add legend\n",
    "        plt.legend()\n",
    "\n",
    "        plt.show()"
   ]
  },
  {
   "cell_type": "markdown",
   "metadata": {},
   "source": [
    "Let's try if this works in the logit for a (0,0,0) instance: all instances are equal to their individual expectation, so the default shap value $\\phi(\\emptyset) = 0.5$ and the other are all zero..."
   ]
  },
  {
   "cell_type": "code",
   "execution_count": 88,
   "metadata": {},
   "outputs": [
    {
     "data": {
      "text/plain": [
       "0.5"
      ]
     },
     "execution_count": 88,
     "metadata": {},
     "output_type": "execute_result"
    }
   ],
   "source": [
    "SHAP_WLS_test = ShapleyWLS(SHAP_value_function = E_f, data_instance = np.array([0,0,0]), value_function_params = {\"mus\": np.array([0, 0, 0]), \"Sigma\": np.array([[1, 0, 0], [0, 1, 0], [0, 0, 1]]), \"coefs\": np.array([1, 1, 1])})\n",
    "SHAP_WLS_test.get_prediction()"
   ]
  },
  {
   "cell_type": "code",
   "execution_count": 89,
   "metadata": {},
   "outputs": [
    {
     "name": "stdout",
     "output_type": "stream",
     "text": [
      "Z built.\n",
      "W built.\n"
     ]
    },
    {
     "name": "stderr",
     "output_type": "stream",
     "text": [
      "  0%|          | 0/8 [00:00<?, ?it/s]"
     ]
    },
    {
     "name": "stdout",
     "output_type": "stream",
     "text": [
      "v_0: [0.5]\n"
     ]
    },
    {
     "name": "stderr",
     "output_type": "stream",
     "text": [
      " 25%|██▌       | 2/8 [00:05<00:17,  2.95s/it]"
     ]
    },
    {
     "name": "stdout",
     "output_type": "stream",
     "text": [
      "v_1: [0.5]\n"
     ]
    },
    {
     "name": "stderr",
     "output_type": "stream",
     "text": [
      " 38%|███▊      | 3/8 [00:11<00:20,  4.17s/it]"
     ]
    },
    {
     "name": "stdout",
     "output_type": "stream",
     "text": [
      "v_2: [0.5]\n",
      "v_3: [0.5]\n"
     ]
    },
    {
     "name": "stderr",
     "output_type": "stream",
     "text": [
      "100%|██████████| 8/8 [00:17<00:00,  2.24s/it]"
     ]
    },
    {
     "name": "stdout",
     "output_type": "stream",
     "text": [
      "v_4: [0.5]\n",
      "v_5: [0.5]\n",
      "v_6: [0.5]\n",
      "v_7: [0.5]\n"
     ]
    },
    {
     "name": "stderr",
     "output_type": "stream",
     "text": [
      "\n"
     ]
    },
    {
     "data": {
      "text/plain": [
       "array([[ 4.99999996e-01],\n",
       "       [ 9.26233191e-09],\n",
       "       [-4.01732103e-09],\n",
       "       [-2.17707569e-09]])"
      ]
     },
     "execution_count": 89,
     "metadata": {},
     "output_type": "execute_result"
    }
   ],
   "source": [
    "sv0 = SHAP_WLS_test.compute_shapley_values()\n",
    "sv0"
   ]
  },
  {
   "cell_type": "code",
   "execution_count": 90,
   "metadata": {},
   "outputs": [
    {
     "data": {
      "image/png": "[encoded data removed]",
      "text/plain": [
       "<Figure size 1000x500 with 1 Axes>"
      ]
     },
     "metadata": {},
     "output_type": "display_data"
    }
   ],
   "source": [
    "SHAP_WLS_test.plot_waterfall()"
   ]
  },
  {
   "cell_type": "markdown",
   "metadata": {},
   "source": [
    "Lets now look at the case where we have a single feature that is 1 and the others are 0"
   ]
  },
  {
   "cell_type": "code",
   "execution_count": 91,
   "metadata": {},
   "outputs": [
    {
     "name": "stdout",
     "output_type": "stream",
     "text": [
      "Z built.\n",
      "W built.\n"
     ]
    },
    {
     "name": "stderr",
     "output_type": "stream",
     "text": [
      "  0%|          | 0/8 [00:00<?, ?it/s]"
     ]
    },
    {
     "name": "stdout",
     "output_type": "stream",
     "text": [
      "v_0: [0.5]\n"
     ]
    },
    {
     "name": "stderr",
     "output_type": "stream",
     "text": [
      " 25%|██▌       | 2/8 [00:05<00:17,  2.98s/it]"
     ]
    },
    {
     "name": "stdout",
     "output_type": "stream",
     "text": [
      "v_1: [0.5]\n"
     ]
    },
    {
     "name": "stderr",
     "output_type": "stream",
     "text": [
      " 38%|███▊      | 3/8 [00:11<00:20,  4.15s/it]"
     ]
    },
    {
     "name": "stdout",
     "output_type": "stream",
     "text": [
      "v_2: [0.5]\n",
      "v_3: [0.5]\n"
     ]
    },
    {
     "name": "stderr",
     "output_type": "stream",
     "text": [
      "100%|██████████| 8/8 [00:17<00:00,  2.23s/it]"
     ]
    },
    {
     "name": "stdout",
     "output_type": "stream",
     "text": [
      "v_4: [0.6750567]\n",
      "v_5: [0.69673467]\n",
      "v_6: [0.69673467]\n",
      "v_7: [0.73105858]\n"
     ]
    },
    {
     "name": "stderr",
     "output_type": "stream",
     "text": [
      "\n"
     ]
    },
    {
     "data": {
      "text/plain": [
       "array([[0.49999999],\n",
       "       [0.20095   ],\n",
       "       [0.01505429],\n",
       "       [0.01505429]])"
      ]
     },
     "execution_count": 91,
     "metadata": {},
     "output_type": "execute_result"
    }
   ],
   "source": [
    "SHAP_logit1 = ShapleyWLS(SHAP_value_function = E_f, data_instance = np.array([1,0,0]), value_function_params = {\"mus\": np.array([0, 0, 0]), \"Sigma\": np.array([[1, 0, 0], [0, 1, 0], [0, 0, 1]]), \"coefs\": np.array([1, 1, 1])})\n",
    "sv1 = SHAP_logit1.compute_shapley_values()\n",
    "sv1"
   ]
  },
  {
   "cell_type": "code",
   "execution_count": 92,
   "metadata": {},
   "outputs": [
    {
     "data": {
      "image/png": "[encoded data removed]",
      "text/plain": [
       "<Figure size 1000x500 with 1 Axes>"
      ]
     },
     "metadata": {},
     "output_type": "display_data"
    }
   ],
   "source": [
    "SHAP_logit1.plot_waterfall()"
   ]
  },
  {
   "cell_type": "markdown",
   "metadata": {},
   "source": [
    "What is perhaps a little surprising here is that by setting feature x1 equal to 1, we also get small, but non-zero contribution from the zero features even though the covariates are themselves independent of one another. To see how this happens, consider one of the constituents of $\\phi_2$, namely the marginal contribution of x2 in v(x1,x2) - v(x1). As soon as x1 > 0, this difference will become positive as the first term will grow more than the second term as a result of the non-linearity of f."
   ]
  },
  {
   "cell_type": "markdown",
   "metadata": {},
   "source": [
    "Looks good! Now consider the case where x1 is correlated with x2. Some of the attribution of x1 will be shifted to x2:\n",
    "1. For the SHAP value of x1, for some coalitions the marginal contribution of x1 will be reduced because its lower than what one would expect based on observing x2\n",
    "2. For the SHAP value of x2, for some coalitions the marginal contribution of x2 will be increased because its higher than what one would expect based on observing x1"
   ]
  },
  {
   "cell_type": "code",
   "execution_count": 18,
   "metadata": {},
   "outputs": [
    {
     "data": {
      "text/plain": [
       "0.7310585786300049"
      ]
     },
     "execution_count": 18,
     "metadata": {},
     "output_type": "execute_result"
    }
   ],
   "source": [
    "SHAP_logit2 = ShapleyWLS(SHAP_value_function = E_f, data_instance = np.array([1,0,0]), value_function_params = {\"mus\": np.array([0, 0, 0]), \"Sigma\": np.array([[1, 0.7, 0], [0.7, 1, 0], [0, 0, 1]]), \"coefs\": np.array([1, 1, 1])})\n",
    "SHAP_logit2.get_prediction()"
   ]
  },
  {
   "cell_type": "code",
   "execution_count": 19,
   "metadata": {},
   "outputs": [
    {
     "name": "stdout",
     "output_type": "stream",
     "text": [
      "Z built.\n",
      "W built.\n"
     ]
    },
    {
     "name": "stderr",
     "output_type": "stream",
     "text": [
      "  0%|          | 0/8 [00:00<?, ?it/s]"
     ]
    },
    {
     "name": "stdout",
     "output_type": "stream",
     "text": [
      "v_0: [0.5]\n"
     ]
    },
    {
     "name": "stderr",
     "output_type": "stream",
     "text": [
      " 25%|██▌       | 2/8 [00:06<00:18,  3.09s/it]"
     ]
    },
    {
     "name": "stdout",
     "output_type": "stream",
     "text": [
      "v_1: [0.5]\n"
     ]
    },
    {
     "name": "stderr",
     "output_type": "stream",
     "text": [
      " 38%|███▊      | 3/8 [00:12<00:21,  4.34s/it]"
     ]
    },
    {
     "name": "stdout",
     "output_type": "stream",
     "text": [
      "v_2: [0.5]\n",
      "v_3: [0.5]\n"
     ]
    },
    {
     "name": "stderr",
     "output_type": "stream",
     "text": [
      "100%|██████████| 8/8 [00:18<00:00,  2.33s/it]"
     ]
    },
    {
     "name": "stdout",
     "output_type": "stream",
     "text": [
      "v_4: [0.79146488]\n",
      "v_5: [0.82424899]\n",
      "v_6: [0.69673467]\n",
      "v_7: [0.73105858]\n"
     ]
    },
    {
     "name": "stderr",
     "output_type": "stream",
     "text": [
      "\n"
     ]
    }
   ],
   "source": [
    "sv_logit2 = SHAP_logit2.compute_shapley_values()"
   ]
  },
  {
   "cell_type": "code",
   "execution_count": 20,
   "metadata": {},
   "outputs": [
    {
     "data": {
      "text/plain": [
       "array([[ 0.49999999],\n",
       "       [ 0.26100511],\n",
       "       [-0.04685184],\n",
       "       [ 0.01690532]])"
      ]
     },
     "execution_count": 20,
     "metadata": {},
     "output_type": "execute_result"
    }
   ],
   "source": [
    "SHAP_logit2.shapley_values"
   ]
  },
  {
   "cell_type": "code",
   "execution_count": 21,
   "metadata": {},
   "outputs": [
    {
     "data": {
      "image/png": "[encoded data removed]",
      "text/plain": [
       "<Figure size 1000x500 with 1 Axes>"
      ]
     },
     "metadata": {},
     "output_type": "display_data"
    }
   ],
   "source": [
    "SHAP_logit2.plot_waterfall()"
   ]
  },
  {
   "cell_type": "code",
   "execution_count": 15,
   "metadata": {},
   "outputs": [
    {
     "data": {
      "text/plain": [
       "0.9999546021312976"
      ]
     },
     "execution_count": 15,
     "metadata": {},
     "output_type": "execute_result"
    }
   ],
   "source": [
    "logit_another_test = ShapleyWLS(SHAP_value_function = E_f, data_instance = np.array([0,10,0]), value_function_params = {\"mus\": np.array([0, 0, 0]), \"Sigma\": np.array([[1, 0, 0], [0, 1, 0], [0, 0, 1]]), \"coefs\": np.array([1, 1, 1])})\n",
    "logit_another_test.get_prediction()"
   ]
  },
  {
   "cell_type": "code",
   "execution_count": 16,
   "metadata": {},
   "outputs": [
    {
     "name": "stdout",
     "output_type": "stream",
     "text": [
      "Z built.\n",
      "W built.\n"
     ]
    },
    {
     "name": "stderr",
     "output_type": "stream",
     "text": [
      "  0%|          | 0/8 [00:00<?, ?it/s]"
     ]
    },
    {
     "name": "stdout",
     "output_type": "stream",
     "text": [
      "v_0: [0.5]\n"
     ]
    },
    {
     "name": "stderr",
     "output_type": "stream",
     "text": [
      " 25%|██▌       | 2/8 [00:06<00:18,  3.03s/it]"
     ]
    },
    {
     "name": "stdout",
     "output_type": "stream",
     "text": [
      "v_1: [0.5]\n"
     ]
    },
    {
     "name": "stderr",
     "output_type": "stream",
     "text": [
      " 38%|███▊      | 3/8 [00:12<00:21,  4.35s/it]"
     ]
    },
    {
     "name": "stdout",
     "output_type": "stream",
     "text": [
      "v_2: [0.9998767]\n",
      "v_3: [0.99992516]\n"
     ]
    },
    {
     "name": "stderr",
     "output_type": "stream",
     "text": [
      "100%|██████████| 8/8 [00:18<00:00,  2.31s/it]"
     ]
    },
    {
     "name": "stdout",
     "output_type": "stream",
     "text": [
      "v_4: [0.5]\n",
      "v_5: [0.5]\n",
      "v_6: [0.99992516]\n",
      "v_7: [0.9999546]\n"
     ]
    },
    {
     "name": "stderr",
     "output_type": "stream",
     "text": [
      "\n"
     ]
    },
    {
     "data": {
      "text/plain": [
       "array([[4.99999991e-01],\n",
       "       [1.79095716e-05],\n",
       "       [4.99918812e-01],\n",
       "       [1.78866939e-05]])"
      ]
     },
     "execution_count": 16,
     "metadata": {},
     "output_type": "execute_result"
    }
   ],
   "source": [
    "sv3 = logit_another_test.compute_shapley_values()\n",
    "sv3"
   ]
  },
  {
   "cell_type": "code",
   "execution_count": 17,
   "metadata": {},
   "outputs": [
    {
     "data": {
      "image/png": "[encoded data removed]",
      "text/plain": [
       "<Figure size 1000x500 with 1 Axes>"
      ]
     },
     "metadata": {},
     "output_type": "display_data"
    }
   ],
   "source": [
    "logit_another_test.plot_waterfall()"
   ]
  },
  {
   "cell_type": "code",
   "execution_count": null,
   "metadata": {},
   "outputs": [],
   "source": []
  }
 ],
 "metadata": {
  "kernelspec": {
   "display_name": "thesis",
   "language": "python",
   "name": "python3"
  },
  "language_info": {
   "codemirror_mode": {
    "name": "ipython",
    "version": 3
   },
   "file_extension": ".py",
   "mimetype": "text/x-python",
   "name": "python",
   "nbconvert_exporter": "python",
   "pygments_lexer": "ipython3",
   "version": "3.11.7"
  }
 },
 "nbformat": 4,
 "nbformat_minor": 2
}
