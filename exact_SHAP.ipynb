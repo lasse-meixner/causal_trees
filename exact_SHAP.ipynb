{
 "cells": [
  {
   "cell_type": "markdown",
   "metadata": {},
   "source": [
    "In this notebook I look at SHAP values in the context of simple linear models and index models to make its behaviour transparent in environments that econometricians are familiar with. I will consider \n",
    "1. Linear model with independent covariates\n",
    "2. Linear model with dependent covariates\n",
    "3. Index model (logit) with independent covariates\n",
    "4. Index model (logit) with dependent covariates"
   ]
  },
  {
   "cell_type": "markdown",
   "metadata": {},
   "source": [
    "### Linear model"
   ]
  },
  {
   "cell_type": "markdown",
   "metadata": {},
   "source": [
    "see goodnotes."
   ]
  },
  {
   "cell_type": "markdown",
   "metadata": {},
   "source": [
    "### Logit"
   ]
  },
  {
   "cell_type": "markdown",
   "metadata": {},
   "source": [
    "With the logit, there is no nice closed form solution for the conditional expected value of the prediction. Here, I will compute these integrals exactly using numerical integration through scipy. Alternatively, and probably much faster, would be to Monte-Carlo approximate those integrals."
   ]
  },
  {
   "cell_type": "code",
   "execution_count": 1,
   "metadata": {},
   "outputs": [],
   "source": [
    "import numpy as np\n",
    "import scipy.integrate as integrate\n",
    "from scipy.stats import multivariate_normal as mvn\n",
    "from scipy.stats import norm"
   ]
  },
  {
   "cell_type": "code",
   "execution_count": 29,
   "metadata": {},
   "outputs": [],
   "source": [
    "def get_sigma_decomposition(conditioning_indices, Sigma):\n",
    "    \"\"\"\n",
    "    Decomposes the covariance matrix Sigma into three submatrices based on the conditioning indices.\n",
    "    cf: https://stats.stackexchange.com/questions/30588/deriving-the-conditional-distributions-of-a-multivariate-normal-distribution\n",
    "\n",
    "    Parameters:\n",
    "    conditioning_indices (list): List of indices representing the conditioning variables.\n",
    "    Sigma (numpy.ndarray): Covariance matrix.\n",
    "\n",
    "    Returns:\n",
    "    Sigma11 (numpy.ndarray): Submatrix of Sigma containing the non-conditioning variables.\n",
    "    Sigma12 (numpy.ndarray): Submatrix of Sigma containing the cross-covariance between non-conditioning and conditioning variables.\n",
    "    Sigma22 (numpy.ndarray): Submatrix of Sigma containing the conditioning variables.\n",
    "    \"\"\"\n",
    "    non_conditioning_indices = [i for i in range(Sigma.shape[0]) if i not in conditioning_indices]\n",
    "    Sigma11 = Sigma[np.ix_(non_conditioning_indices, non_conditioning_indices)]\n",
    "    Sigma12 = Sigma[np.ix_(non_conditioning_indices, conditioning_indices)]\n",
    "    Sigma22 = Sigma[np.ix_(conditioning_indices, conditioning_indices)]\n",
    "    return Sigma11, Sigma12, Sigma22\n",
    "\n",
    "# densities of conditional normal functions\n",
    "def get_conditional_params(values, conditioning_var_inds=[1, 2], mus=np.array([0, 0, 0]), Sigma=np.array([[1, 0, 0], [0, 1, 0], [0, 0, 1]])):\n",
    "    \"\"\"\n",
    "    Calculate the expected value and variance of a conditional normal distribution.\n",
    "\n",
    "    Parameters:\n",
    "    values (list): The observed values of the conditioning variables.\n",
    "    conditioning_var_inds (list): The indices of the conditioning variables.\n",
    "    mus (ndarray): The mean vector of the joint normal distribution.\n",
    "    Sigma (ndarray): The covariance matrix of the joint normal distribution.\n",
    "\n",
    "    Returns:\n",
    "    tuple: A tuple containing the expected value and variance of the conditional normal distribution.\n",
    "    \"\"\"\n",
    "    \n",
    "    assert(len(values) == len(conditioning_var_inds))\n",
    "\n",
    "    # generate list of variables by length of mus\n",
    "    free_var_inds = [i for i in range(len(mus)) if i not in conditioning_var_inds]\n",
    "\n",
    "    # get Sigma decomposition\n",
    "    Sigma11, Sigma12, Sigma22 = get_sigma_decomposition(conditioning_var_inds, Sigma)\n",
    "    # get expected value and variance of conditional normal distribution\n",
    "    exp = mus[free_var_inds] + np.dot(Sigma12, np.dot(np.linalg.inv(Sigma22), (np.array(values) - mus[conditioning_var_inds])))\n",
    "    sig = Sigma11 - np.dot(Sigma12, np.dot(np.linalg.inv(Sigma22), Sigma12.T))\n",
    "    return exp, sig\n",
    "\n",
    "def normal_conditional_density(x, conditioning_values, conditioning_indices, params={\"mus\": np.array([0, 0, 0]), \"Sigma\": np.array([[1, 0, 0], [0, 1, 0], [0, 0, 1]])}):\n",
    "    \"\"\"\n",
    "    Calculates the conditional density of a multivariate normal distribution.\n",
    "\n",
    "    Parameters:\n",
    "    x (array-like): The value at which to evaluate the density.\n",
    "    conditioning_values (array-like): The values of the conditioning variables.\n",
    "    conditioning_indices (array-like): The indices of the conditioning variables.\n",
    "\n",
    "    Returns:\n",
    "    float: The value of the conditional density at x.\n",
    "    \"\"\"\n",
    "    exp, sig = get_conditional_params(conditioning_values, conditioning_indices, mus=params[\"mus\"], Sigma=params[\"Sigma\"])\n",
    "    assert(len(conditioning_values) == len(conditioning_indices))\n",
    "    return mvn.pdf(x, mean=exp, cov=sig)\n",
    "\n",
    "\n",
    "# logit\n",
    "def f_logit(x, conditioning_values, conditioning_indices, weights = np.array([1, 1, 1])):\n",
    "    # select weights using conditioning_indices and multiply with conditioning_values\n",
    "    w = weights[conditioning_indices]\n",
    "    summand = np.dot(w, conditioning_values)\n",
    "    # get remaining weights\n",
    "    if x is not None:\n",
    "        w_remaining = weights[[i for i in range(len(weights)) if i not in conditioning_indices]]\n",
    "        summand += np.dot(w_remaining, x)\n",
    "    return np.sum(np.exp(summand)/(1 + np.exp(summand))) # sum to return scalar"
   ]
  },
  {
   "cell_type": "code",
   "execution_count": 62,
   "metadata": {},
   "outputs": [],
   "source": [
    "# integrals for 3 variables\n",
    "def E_f(values, conditioning_vars, params={\"mus\": np.array([0, 0, 0]), \"Sigma\": np.array([[1, 0, 0], [0, 1, 0], [0, 0, 1]]), \"weights\": np.array([1, 1, 1])}):\n",
    "    assert(len(values) == len(conditioning_vars))\n",
    "    normal_params = {\"mus\": params[\"mus\"], \"Sigma\": params[\"Sigma\"]}\n",
    "\n",
    "    if len(conditioning_vars) == 3:\n",
    "        result = f_logit(x = None, conditioning_values=values, conditioning_indices=conditioning_vars)\n",
    "        error = None\n",
    "\n",
    "    if len(conditioning_vars) == 2:\n",
    "        result, error = integrate.quad(lambda x: normal_conditional_density(x, conditioning_values=values, conditioning_indices=conditioning_vars, params=normal_params) * f_logit(x, conditioning_values=values, conditioning_indices=conditioning_vars, weights=params[\"weights\"]), -100, 100, epsabs=1.49e-04, epsrel=1.49e-04)\n",
    "    \n",
    "    if len(conditioning_vars) == 1:\n",
    "        result, error = integrate.dblquad(lambda x,y: normal_conditional_density((x,y), conditioning_values=values, conditioning_indices=conditioning_vars, params=normal_params) * f_logit((x,y), conditioning_values=values, conditioning_indices=conditioning_vars, weights=params[\"weights\"]), -100, 100, -100, 100, epsabs=1.49e-04, epsrel=1.49e-04)\n",
    "\n",
    "    if len(conditioning_vars) == 0:\n",
    "        result, error = integrate.tplquad(lambda x,y,z: mvn.pdf((x,y,z), mean=params[\"mus\"], cov=params[\"Sigma\"]) * f_logit((x,y,z), conditioning_values=values, conditioning_indices=conditioning_vars, weights=params[\"weights\"]), -100, 100, -100, 100, -100, 100, epsabs=1.49e-04, epsrel=1.49e-04)\n",
    "\n",
    "    return result, error\n"
   ]
  },
  {
   "cell_type": "markdown",
   "metadata": {},
   "source": [
    "### checks and tests"
   ]
  },
  {
   "cell_type": "code",
   "execution_count": 35,
   "metadata": {},
   "outputs": [
    {
     "data": {
      "text/plain": [
       "array([1, 1])"
      ]
     },
     "execution_count": 35,
     "metadata": {},
     "output_type": "execute_result"
    }
   ],
   "source": [
    "weights = np.array([1, 1, 1])\n",
    "weights[[1,2]]"
   ]
  },
  {
   "cell_type": "code",
   "execution_count": 36,
   "metadata": {},
   "outputs": [
    {
     "data": {
      "text/plain": [
       "0.8807970779778824"
      ]
     },
     "execution_count": 36,
     "metadata": {},
     "output_type": "execute_result"
    }
   ],
   "source": [
    "f_logit(x = 2, conditioning_values = [0, 0], conditioning_indices = [1, 2], weights = np.array([1, 1, 1]))"
   ]
  },
  {
   "cell_type": "code",
   "execution_count": 37,
   "metadata": {},
   "outputs": [
    {
     "data": {
      "text/plain": [
       "0.5"
      ]
     },
     "execution_count": 37,
     "metadata": {},
     "output_type": "execute_result"
    }
   ],
   "source": [
    "f_logit(x = (0,0), conditioning_values = [0], conditioning_indices = [1], weights = np.array([1, 1, 1]))"
   ]
  },
  {
   "cell_type": "code",
   "execution_count": 38,
   "metadata": {},
   "outputs": [
    {
     "data": {
      "text/plain": [
       "0.5"
      ]
     },
     "execution_count": 38,
     "metadata": {},
     "output_type": "execute_result"
    }
   ],
   "source": [
    "f_logit(x = (0,0,0), conditioning_values = [], conditioning_indices = [], weights = np.array([1, 1, 1]))"
   ]
  },
  {
   "cell_type": "code",
   "execution_count": 8,
   "metadata": {},
   "outputs": [
    {
     "data": {
      "text/plain": [
       "(array([[1]]),\n",
       " array([[0, 0]]),\n",
       " array([[1, 0],\n",
       "        [0, 1]]))"
      ]
     },
     "execution_count": 8,
     "metadata": {},
     "output_type": "execute_result"
    }
   ],
   "source": [
    "get_sigma_decomposition([1,2], Sigma = np.array([[1,0,0],[0,1,0],[0,0,1]]))"
   ]
  },
  {
   "cell_type": "code",
   "execution_count": 9,
   "metadata": {},
   "outputs": [
    {
     "data": {
      "text/plain": [
       "(array([[1, 0],\n",
       "        [0, 1]]),\n",
       " array([[0],\n",
       "        [0]]),\n",
       " array([[1]]))"
      ]
     },
     "execution_count": 9,
     "metadata": {},
     "output_type": "execute_result"
    }
   ],
   "source": [
    "get_sigma_decomposition([2], Sigma = np.array([[1,0,0],[0,1,0],[0,0,1]]))"
   ]
  },
  {
   "cell_type": "code",
   "execution_count": 10,
   "metadata": {},
   "outputs": [
    {
     "data": {
      "text/plain": [
       "(array([0., 0.]),\n",
       " array([[1., 0.],\n",
       "        [0., 1.]]))"
      ]
     },
     "execution_count": 10,
     "metadata": {},
     "output_type": "execute_result"
    }
   ],
   "source": [
    "get_conditional_params(values = [0], conditioning_var_inds = [2])"
   ]
  },
  {
   "cell_type": "code",
   "execution_count": 11,
   "metadata": {},
   "outputs": [
    {
     "data": {
      "text/plain": [
       "0.15915494309189535"
      ]
     },
     "execution_count": 11,
     "metadata": {},
     "output_type": "execute_result"
    }
   ],
   "source": [
    "normal_conditional_density(x = [0,0], conditioning_values=[0], conditioning_indices=[2])"
   ]
  },
  {
   "cell_type": "code",
   "execution_count": 39,
   "metadata": {},
   "outputs": [
    {
     "data": {
      "text/plain": [
       "(1.0000000011805943, 0.0001413029331700994)"
      ]
     },
     "execution_count": 39,
     "metadata": {},
     "output_type": "execute_result"
    }
   ],
   "source": [
    "# check if the conditional densities are correct by integrating\n",
    "\n",
    "integrate.dblquad(lambda x,y: normal_conditional_density((x,y), [0], [2]), -np.inf, np.inf, -np.inf, np.inf, epsabs=1.49e-04, epsrel=1.49e-04)"
   ]
  },
  {
   "cell_type": "code",
   "execution_count": 40,
   "metadata": {},
   "outputs": [
    {
     "data": {
      "text/plain": [
       "(0.9999999997941593, 9.361124086700034e-05)"
      ]
     },
     "execution_count": 40,
     "metadata": {},
     "output_type": "execute_result"
    }
   ],
   "source": [
    "integrate.quad(lambda x: normal_conditional_density(x, [0,3], [1,2]), -np.inf, np.inf, epsabs=1.49e-04, epsrel=1.49e-04)"
   ]
  },
  {
   "cell_type": "code",
   "execution_count": 41,
   "metadata": {},
   "outputs": [
    {
     "data": {
      "text/plain": [
       "(0.5000000000000001, 5.943013844712378e-13)"
      ]
     },
     "execution_count": 41,
     "metadata": {},
     "output_type": "execute_result"
    }
   ],
   "source": [
    "integrate.quad(lambda x: f_logit(x, [0,0], [1,2]) * normal_conditional_density(x, [0,0], [1,2]), -100, 100)"
   ]
  },
  {
   "cell_type": "code",
   "execution_count": 42,
   "metadata": {},
   "outputs": [
    {
     "data": {
      "text/plain": [
       "0.06349363593424098"
      ]
     },
     "execution_count": 42,
     "metadata": {},
     "output_type": "execute_result"
    }
   ],
   "source": [
    "mvn.pdf((0,0,0), np.array([0,0,0]), np.array([[1,0,0],[0,1,0],[0,0,1]]))"
   ]
  },
  {
   "cell_type": "markdown",
   "metadata": {},
   "source": [
    "For some reason this only works if I throw in bounds of 100, for larger (e.g. np.inf) it doesnt compute the integral, I guess it has trouble with large values of the logic and small tail probability masses."
   ]
  },
  {
   "cell_type": "code",
   "execution_count": 16,
   "metadata": {},
   "outputs": [
    {
     "data": {
      "text/plain": [
       "(0.9306761419957146, 7.25675477206413e-13)"
      ]
     },
     "execution_count": 16,
     "metadata": {},
     "output_type": "execute_result"
    }
   ],
   "source": [
    "E_f(values = [1,2], conditioning_vars = [1,2])"
   ]
  },
  {
   "cell_type": "code",
   "execution_count": 17,
   "metadata": {},
   "outputs": [
    {
     "data": {
      "text/plain": [
       "(0.6750567023488913, 1.4870789199628173e-08)"
      ]
     },
     "execution_count": 17,
     "metadata": {},
     "output_type": "execute_result"
    }
   ],
   "source": [
    "E_f(values = [1], conditioning_vars = [2])"
   ]
  },
  {
   "cell_type": "markdown",
   "metadata": {},
   "source": [
    "### SHAP value computation via Kernel representation"
   ]
  },
  {
   "cell_type": "code",
   "execution_count": 21,
   "metadata": {},
   "outputs": [
    {
     "name": "stdout",
     "output_type": "stream",
     "text": [
      "Z built.\n"
     ]
    },
    {
     "data": {
      "text/plain": [
       "array([[1., 0., 0., 0.],\n",
       "       [1., 0., 0., 1.],\n",
       "       [1., 0., 1., 0.],\n",
       "       [1., 0., 1., 1.],\n",
       "       [1., 1., 0., 0.],\n",
       "       [1., 1., 0., 1.],\n",
       "       [1., 1., 1., 0.],\n",
       "       [1., 1., 1., 1.]])"
      ]
     },
     "execution_count": 21,
     "metadata": {},
     "output_type": "execute_result"
    }
   ],
   "source": [
    "M = 3\n",
    "Z = np.ones((2**M, M+1))\n",
    "Z[:, 1:] = np.unpackbits(np.arange(2**M, dtype=np.uint8)[:, np.newaxis], axis=1)[:, -M:]\n",
    "print(\"Z built.\")\n",
    "Z"
   ]
  },
  {
   "cell_type": "code",
   "execution_count": 88,
   "metadata": {},
   "outputs": [],
   "source": [
    "M = 3\n",
    "\n",
    "# define 2^M x (M+1) binary matrix representing all possible coalitions, first column being ones\n",
    "Z = np.ones((2**M, M+1))\n",
    "Z[:, 1:] = np.unpackbits(np.arange(2**M, dtype=np.uint8)[:, np.newaxis], axis=1)[:, -M:]\n",
    "\n",
    "# define the 2^M x 2^M diagonal weight matrix, where each diagonal element is k(M,|S|), where S is resembles the binary representation of the coalition of the corresponding row in Z\n",
    "# k(M,|S|) = (M-1)/((M choose |S|) * (M-|S|) * |S|)\n",
    "W = np.zeros((2**M, 2**M))\n",
    "for i in range(2**M):\n",
    "    sum_Z = int(np.sum(Z[i, 1:]))\n",
    "    if sum_Z == 0 or sum_Z == M:\n",
    "        W[i, i] = 10e6 # should be infinity, in practice set to large constant\n",
    "    else:\n",
    "        W[i, i] = (M-1)/(math.comb(M, sum_Z) * (M-sum_Z) * sum_Z)\n"
   ]
  },
  {
   "cell_type": "code",
   "execution_count": 89,
   "metadata": {},
   "outputs": [
    {
     "data": {
      "text/plain": [
       "array([[1., 0., 0., 0.],\n",
       "       [1., 0., 0., 1.],\n",
       "       [1., 0., 1., 0.],\n",
       "       [1., 0., 1., 1.],\n",
       "       [1., 1., 0., 0.],\n",
       "       [1., 1., 0., 1.],\n",
       "       [1., 1., 1., 0.],\n",
       "       [1., 1., 1., 1.]])"
      ]
     },
     "execution_count": 89,
     "metadata": {},
     "output_type": "execute_result"
    }
   ],
   "source": [
    "Z"
   ]
  },
  {
   "cell_type": "code",
   "execution_count": 90,
   "metadata": {},
   "outputs": [
    {
     "data": {
      "text/plain": [
       "array([[1.00000000e+07, 0.00000000e+00, 0.00000000e+00, 0.00000000e+00,\n",
       "        0.00000000e+00, 0.00000000e+00, 0.00000000e+00, 0.00000000e+00],\n",
       "       [0.00000000e+00, 3.33333333e-01, 0.00000000e+00, 0.00000000e+00,\n",
       "        0.00000000e+00, 0.00000000e+00, 0.00000000e+00, 0.00000000e+00],\n",
       "       [0.00000000e+00, 0.00000000e+00, 3.33333333e-01, 0.00000000e+00,\n",
       "        0.00000000e+00, 0.00000000e+00, 0.00000000e+00, 0.00000000e+00],\n",
       "       [0.00000000e+00, 0.00000000e+00, 0.00000000e+00, 3.33333333e-01,\n",
       "        0.00000000e+00, 0.00000000e+00, 0.00000000e+00, 0.00000000e+00],\n",
       "       [0.00000000e+00, 0.00000000e+00, 0.00000000e+00, 0.00000000e+00,\n",
       "        3.33333333e-01, 0.00000000e+00, 0.00000000e+00, 0.00000000e+00],\n",
       "       [0.00000000e+00, 0.00000000e+00, 0.00000000e+00, 0.00000000e+00,\n",
       "        0.00000000e+00, 3.33333333e-01, 0.00000000e+00, 0.00000000e+00],\n",
       "       [0.00000000e+00, 0.00000000e+00, 0.00000000e+00, 0.00000000e+00,\n",
       "        0.00000000e+00, 0.00000000e+00, 3.33333333e-01, 0.00000000e+00],\n",
       "       [0.00000000e+00, 0.00000000e+00, 0.00000000e+00, 0.00000000e+00,\n",
       "        0.00000000e+00, 0.00000000e+00, 0.00000000e+00, 1.00000000e+07]])"
      ]
     },
     "execution_count": 90,
     "metadata": {},
     "output_type": "execute_result"
    }
   ],
   "source": [
    "W"
   ]
  },
  {
   "cell_type": "code",
   "execution_count": 91,
   "metadata": {},
   "outputs": [],
   "source": [
    "import tqdm\n",
    "import math\n",
    "\n",
    "def Shapley_WLS(SHAP_value_function, data_instance, value_function_params):\n",
    "    \"\"\"Compute exact Shapley values as the optimal solution of a weighted least squares problem.\n",
    "\n",
    "    Args:\n",
    "        coalition_value_function (function): returns the value of the game for a given coalition.\n",
    "        dataset (numpy.ndarray): The dataset for which to compute the Shapley values. (Implicitely assumed to have been generated under the same population distribution as the value function parameters)\n",
    "    \"\"\"\n",
    "    # get nr of features\n",
    "    M = len(data_instance)\n",
    "\n",
    "    # define 2^M x (M+1) binary matrix representing all possible coalitions, first column being ones\n",
    "    Z = np.ones((2**M, M+1))\n",
    "    Z[:, 1:] = np.unpackbits(np.arange(2**M, dtype=np.uint8)[:, np.newaxis], axis=1)[:, -M:]\n",
    "    print(\"Z built.\")\n",
    "\n",
    "    # define the 2^M x 2^M diagonal weight matrix, where  each element k(M,|S|), where S is resembles the binary representation of the coalition of the corresponding row in Z\n",
    "    # k(M,|S|) = (M-1)/((M choose |S|) * (M-|S|) * |S|)\n",
    "    W = np.zeros((2**M, 2**M))\n",
    "    for i in range(2**M):\n",
    "        sum_Z = int(np.sum(Z[i, 1:]))\n",
    "        if sum_Z == 0 or sum_Z == M:\n",
    "            W[i, i] = 10e6 # should be infinity, in practice set to large constant\n",
    "        else:\n",
    "            W[i, i] = (M-1)/(math.comb(M, sum_Z) * (M-sum_Z) * sum_Z)\n",
    "    print(\" W built.\")\n",
    "    \n",
    "    # define the 2^M x 1 vector of the value of the game for each coalition\n",
    "    print(\"Building v...\")\n",
    "    v = np.zeros((2**M, 1))\n",
    "    for i in tqdm.tqdm(range(2**M)):\n",
    "        conditioning_indices = np.where(Z[i, 1:] == 1)[0] # indices of \"playing\" features\n",
    "        v[i] = SHAP_value_function(values = data_instance[conditioning_indices] , conditioning_vars = conditioning_indices, params = value_function_params)[0]\n",
    "        print(f\"v_{i}: {v[i]}\")\n",
    "    \n",
    "    # compute solution: (Z'WZ)^-1Z'Wv\n",
    "    shapley_values = np.dot(np.dot(np.dot(np.linalg.inv(np.dot(np.dot(Z.T, W), Z)), Z.T), W), v)\n",
    "\n",
    "    return shapley_values\n",
    "\n"
   ]
  },
  {
   "cell_type": "markdown",
   "metadata": {},
   "source": [
    "Let's try if this works in the logit for a (0,0,0) instance: all instances are equal to their individual expectation, so the default shap value $\\phi(\\emptyset) = 0.5$ and the other are all zero..."
   ]
  },
  {
   "cell_type": "code",
   "execution_count": 92,
   "metadata": {},
   "outputs": [
    {
     "name": "stdout",
     "output_type": "stream",
     "text": [
      "Z built.\n",
      " W built.\n",
      "Building v...\n"
     ]
    },
    {
     "name": "stderr",
     "output_type": "stream",
     "text": [
      " 12%|█▎        | 1/8 [01:54<13:21, 114.45s/it]"
     ]
    },
    {
     "name": "stdout",
     "output_type": "stream",
     "text": [
      "v_0: [0.50000741]\n"
     ]
    },
    {
     "name": "stderr",
     "output_type": "stream",
     "text": [
      " 25%|██▌       | 2/8 [01:57<04:53, 48.84s/it] "
     ]
    },
    {
     "name": "stdout",
     "output_type": "stream",
     "text": [
      "v_1: [0.50000004]\n"
     ]
    },
    {
     "name": "stderr",
     "output_type": "stream",
     "text": [
      " 38%|███▊      | 3/8 [02:00<02:19, 27.86s/it]"
     ]
    },
    {
     "name": "stdout",
     "output_type": "stream",
     "text": [
      "v_2: [0.50000004]\n",
      "v_3: [0.5]\n"
     ]
    },
    {
     "name": "stderr",
     "output_type": "stream",
     "text": [
      "100%|██████████| 8/8 [02:03<00:00, 15.42s/it]"
     ]
    },
    {
     "name": "stdout",
     "output_type": "stream",
     "text": [
      "v_4: [0.50000004]\n",
      "v_5: [0.5]\n",
      "v_6: [0.5]\n",
      "v_7: [0.5]\n"
     ]
    },
    {
     "name": "stderr",
     "output_type": "stream",
     "text": [
      "\n"
     ]
    }
   ],
   "source": [
    "SV = Shapley_WLS(SHAP_value_function = E_f, data_instance = np.array([0,0,0]), value_function_params = {\"mus\": np.array([0, 0, 0]), \"Sigma\": np.array([[1, 0, 0], [0, 1, 0], [0, 0, 1]]), \"weights\": np.array([1, 1, 1])})"
   ]
  },
  {
   "cell_type": "markdown",
   "metadata": {},
   "source": [
    "These values are all right."
   ]
  },
  {
   "cell_type": "code",
   "execution_count": 93,
   "metadata": {},
   "outputs": [
    {
     "data": {
      "text/plain": [
       "array([[ 5.00007409e-01],\n",
       "       [-2.46896957e-06],\n",
       "       [-2.47092606e-06],\n",
       "       [-2.46960549e-06]])"
      ]
     },
     "execution_count": 93,
     "metadata": {},
     "output_type": "execute_result"
    }
   ],
   "source": [
    "# print SV\n",
    "SV"
   ]
  },
  {
   "cell_type": "markdown",
   "metadata": {},
   "source": [
    "Let's see the decomposition via a waterfall plot"
   ]
  },
  {
   "cell_type": "code",
   "execution_count": 95,
   "metadata": {},
   "outputs": [
    {
     "data": {
      "image/png": "[encoded data removed]",
      "text/plain": [
       "<Figure size 1000x500 with 1 Axes>"
      ]
     },
     "metadata": {},
     "output_type": "display_data"
    }
   ],
   "source": [
    "import seaborn as sns\n",
    "import matplotlib.pyplot as plt\n",
    "import pandas as pd\n",
    "\n",
    "# get model prediction for the instance\n",
    "prediction = f_logit(x = np.array([0,0,0]), conditioning_values = [], conditioning_indices = [], weights = np.array([1, 1, 1]))\n",
    "df = pd.DataFrame({\"feature\": [\"default\",\"x1\", \"x2\", \"x3\"], \"SHAP\": SV.flatten(), \"value\": [0,1,2,3]})\n",
    "df[\"cumulative_SHAP\"] = df[\"SHAP\"].cumsum()\n",
    "\n",
    "# build waterfall plot\n",
    "f = plt.figure(figsize=(10, 5))\n",
    "sns.barplot(x=\"feature\", y=\"cumulative_SHAP\", data=df, color=\"lightblue\")\n",
    "sns.barplot(x=\"feature\", y=\"SHAP\", data=df, color=\"green\", width=0.1, alpha = 0.2)\n",
    "ax = plt.gca()\n",
    "ax.axhline(prediction, color='blue', linewidth=2, linestyle='--')\n",
    "\n",
    "plt.show()"
   ]
  }
 ],
 "metadata": {
  "kernelspec": {
   "display_name": "thesis",
   "language": "python",
   "name": "python3"
  },
  "language_info": {
   "codemirror_mode": {
    "name": "ipython",
    "version": 3
   },
   "file_extension": ".py",
   "mimetype": "text/x-python",
   "name": "python",
   "nbconvert_exporter": "python",
   "pygments_lexer": "ipython3",
   "version": "3.11.7"
  }
 },
 "nbformat": 4,
 "nbformat_minor": 2
}
