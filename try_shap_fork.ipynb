{
 "cells": [
  {
   "cell_type": "code",
   "execution_count": 1,
   "metadata": {},
   "outputs": [],
   "source": [
    "%load_ext autoreload\n",
    "%autoreload 2"
   ]
  },
  {
   "cell_type": "markdown",
   "metadata": {},
   "source": [
    "I will try get explanations to the squared loss by modifying the default shap code through my local fork:\n",
    "\n",
    "- Fork the shap package\n",
    "- clone it from GitHub\n",
    "- create a new conda environment\n",
    "- install the package in editable mode\n",
    "\n",
    "this works:"
   ]
  },
  {
   "cell_type": "code",
   "execution_count": 2,
   "metadata": {},
   "outputs": [
    {
     "name": "stdout",
     "output_type": "stream",
     "text": [
      "imported from folder\n"
     ]
    },
    {
     "name": "stderr",
     "output_type": "stream",
     "text": [
      "IProgress not found. Please update jupyter and ipywidgets. See https://ipywidgets.readthedocs.io/en/stable/user_install.html\n"
     ]
    }
   ],
   "source": [
    "from shap.explainers import _tree"
   ]
  },
  {
   "cell_type": "markdown",
   "metadata": {},
   "source": [
    "Structure of the treeExplainer\n",
    "\n",
    "- \\_init\\_(): \n",
    "  - creates a treeExplainer object:\n",
    "  - self.model = TreeEnsemble (custom class):\n",
    "    - attribute self.model_output, set to \"raw\" for RFR\n",
    "    - attribute self.objective\n",
    "    - method get_transform() -> this links to custom C++ classes. Here by default the RFR gets \"identity\". We want \"squared_loss\"\n",
    "- shap_values():\n",
    "  - gets transform = self.model.get_transform()\n",
    "  - passes to c function _cext.dense_tree_shap(..., transform)\n",
    "\n",
    "-> Initialising the get_transform() to \"squared_loss\" should do the trick?\n",
    "\n",
    "For details of the changes I made to the shap package, check out the fork.\n",
    "\n"
   ]
  },
  {
   "cell_type": "code",
   "execution_count": 3,
   "metadata": {},
   "outputs": [
    {
     "data": {
      "text/plain": [
       "0.4911965468843005"
      ]
     },
     "execution_count": 3,
     "metadata": {},
     "output_type": "execute_result"
    }
   ],
   "source": [
    "# build a toy model\n",
    "import pandas as pd\n",
    "from sklearn.ensemble import RandomForestRegressor\n",
    "from sklearn.datasets import load_diabetes\n",
    "\n",
    "# Load the Diabetes dataset\n",
    "diabetes = load_diabetes()\n",
    "\n",
    "# create data\n",
    "X = pd.DataFrame(diabetes.data, columns=diabetes.feature_names)\n",
    "y = diabetes.target\n",
    "\n",
    "# train a random forest model\n",
    "model = RandomForestRegressor(n_estimators=50, max_depth=2, random_state=0)\n",
    "model.fit(X, y)\n",
    "model.score(X, y)\n"
   ]
  },
  {
   "cell_type": "code",
   "execution_count": 4,
   "metadata": {},
   "outputs": [],
   "source": [
    "tE = _tree.TreeExplainer(model, data = X, model_output=\"squared_loss\", feature_perturbation=\"interventional\")"
   ]
  },
  {
   "cell_type": "code",
   "execution_count": 5,
   "metadata": {},
   "outputs": [
    {
     "data": {
      "text/plain": [
       "'squared_loss'"
      ]
     },
     "execution_count": 5,
     "metadata": {},
     "output_type": "execute_result"
    }
   ],
   "source": [
    "tE.model_output"
   ]
  },
  {
   "cell_type": "markdown",
   "metadata": {},
   "source": [
    "I change the source code to override the transform argument that will be passed to the c function for shap computation."
   ]
  },
  {
   "cell_type": "code",
   "execution_count": 6,
   "metadata": {},
   "outputs": [
    {
     "data": {
      "text/plain": [
       "'squared_loss'"
      ]
     },
     "execution_count": 6,
     "metadata": {},
     "output_type": "execute_result"
    }
   ],
   "source": [
    "tE.model.get_transform()"
   ]
  },
  {
   "cell_type": "markdown",
   "metadata": {},
   "source": [
    "Let's try compute the shap values for this loss:"
   ]
  },
  {
   "cell_type": "code",
   "execution_count": 7,
   "metadata": {},
   "outputs": [
    {
     "name": "stdout",
     "output_type": "stream",
     "text": [
      "(442, 10)\n"
     ]
    }
   ],
   "source": [
    "print(X.shape)"
   ]
  },
  {
   "cell_type": "code",
   "execution_count": 9,
   "metadata": {},
   "outputs": [
    {
     "data": {
      "text/plain": [
       "26485.97396824045"
      ]
     },
     "execution_count": 9,
     "metadata": {},
     "output_type": "execute_result"
    }
   ],
   "source": [
    "tE.expected_value"
   ]
  },
  {
   "cell_type": "code",
   "execution_count": 11,
   "metadata": {},
   "outputs": [
    {
     "data": {
      "text/plain": [
       "23167.55646157506"
      ]
     },
     "execution_count": 11,
     "metadata": {},
     "output_type": "execute_result"
    }
   ],
   "source": [
    "model.predict(X).mean()**2"
   ]
  },
  {
   "cell_type": "markdown",
   "metadata": {},
   "source": [
    "... not sure if this is the right ballpark..."
   ]
  },
  {
   "cell_type": "code",
   "execution_count": 13,
   "metadata": {},
   "outputs": [
    {
     "data": {
      "text/plain": [
       "(442, 10)"
      ]
     },
     "execution_count": 13,
     "metadata": {},
     "output_type": "execute_result"
    }
   ],
   "source": [
    "# get reference value (mean prediction of model)\n",
    "\n",
    "sv = tE.shap_values(X, y=y)\n",
    "sv.shape"
   ]
  },
  {
   "cell_type": "markdown",
   "metadata": {},
   "source": [
    "So the code is running. Let's check if I get what I want. For this purpose I construct a super simple tree."
   ]
  },
  {
   "cell_type": "code",
   "execution_count": 14,
   "metadata": {},
   "outputs": [
    {
     "data": {
      "text/plain": [
       "[1, 1, 1, 1, 1, 1, 1, 1, 1, 1, 2, 2, 2, 2, 2, 2, 2, 2, 2, 2]"
      ]
     },
     "execution_count": 14,
     "metadata": {},
     "output_type": "execute_result"
    }
   ],
   "source": [
    "[1]*10 + [2]*10"
   ]
  },
  {
   "cell_type": "code",
   "execution_count": 15,
   "metadata": {},
   "outputs": [
    {
     "data": {
      "text/html": [
       "<div>\n",
       "<style scoped>\n",
       "    .dataframe tbody tr th:only-of-type {\n",
       "        vertical-align: middle;\n",
       "    }\n",
       "\n",
       "    .dataframe tbody tr th {\n",
       "        vertical-align: top;\n",
       "    }\n",
       "\n",
       "    .dataframe thead th {\n",
       "        text-align: right;\n",
       "    }\n",
       "</style>\n",
       "<table border=\"1\" class=\"dataframe\">\n",
       "  <thead>\n",
       "    <tr style=\"text-align: right;\">\n",
       "      <th></th>\n",
       "      <th>x1</th>\n",
       "      <th>x2</th>\n",
       "      <th>y</th>\n",
       "    </tr>\n",
       "  </thead>\n",
       "  <tbody>\n",
       "    <tr>\n",
       "      <th>0</th>\n",
       "      <td>0.0</td>\n",
       "      <td>1.0</td>\n",
       "      <td>1.0</td>\n",
       "    </tr>\n",
       "    <tr>\n",
       "      <th>1</th>\n",
       "      <td>0.0</td>\n",
       "      <td>0.0</td>\n",
       "      <td>0.0</td>\n",
       "    </tr>\n",
       "    <tr>\n",
       "      <th>2</th>\n",
       "      <td>0.0</td>\n",
       "      <td>1.0</td>\n",
       "      <td>1.0</td>\n",
       "    </tr>\n",
       "    <tr>\n",
       "      <th>3</th>\n",
       "      <td>0.0</td>\n",
       "      <td>0.0</td>\n",
       "      <td>0.0</td>\n",
       "    </tr>\n",
       "    <tr>\n",
       "      <th>4</th>\n",
       "      <td>0.0</td>\n",
       "      <td>1.0</td>\n",
       "      <td>1.0</td>\n",
       "    </tr>\n",
       "    <tr>\n",
       "      <th>5</th>\n",
       "      <td>0.0</td>\n",
       "      <td>0.0</td>\n",
       "      <td>0.0</td>\n",
       "    </tr>\n",
       "    <tr>\n",
       "      <th>6</th>\n",
       "      <td>0.0</td>\n",
       "      <td>1.0</td>\n",
       "      <td>1.0</td>\n",
       "    </tr>\n",
       "    <tr>\n",
       "      <th>7</th>\n",
       "      <td>0.0</td>\n",
       "      <td>0.0</td>\n",
       "      <td>0.0</td>\n",
       "    </tr>\n",
       "    <tr>\n",
       "      <th>8</th>\n",
       "      <td>0.0</td>\n",
       "      <td>1.0</td>\n",
       "      <td>1.0</td>\n",
       "    </tr>\n",
       "    <tr>\n",
       "      <th>9</th>\n",
       "      <td>0.0</td>\n",
       "      <td>0.0</td>\n",
       "      <td>0.0</td>\n",
       "    </tr>\n",
       "    <tr>\n",
       "      <th>10</th>\n",
       "      <td>1.0</td>\n",
       "      <td>1.0</td>\n",
       "      <td>2.0</td>\n",
       "    </tr>\n",
       "    <tr>\n",
       "      <th>11</th>\n",
       "      <td>1.0</td>\n",
       "      <td>0.0</td>\n",
       "      <td>1.0</td>\n",
       "    </tr>\n",
       "    <tr>\n",
       "      <th>12</th>\n",
       "      <td>1.0</td>\n",
       "      <td>1.0</td>\n",
       "      <td>2.0</td>\n",
       "    </tr>\n",
       "    <tr>\n",
       "      <th>13</th>\n",
       "      <td>1.0</td>\n",
       "      <td>0.0</td>\n",
       "      <td>1.0</td>\n",
       "    </tr>\n",
       "    <tr>\n",
       "      <th>14</th>\n",
       "      <td>1.0</td>\n",
       "      <td>1.0</td>\n",
       "      <td>2.0</td>\n",
       "    </tr>\n",
       "    <tr>\n",
       "      <th>15</th>\n",
       "      <td>1.0</td>\n",
       "      <td>0.0</td>\n",
       "      <td>1.0</td>\n",
       "    </tr>\n",
       "    <tr>\n",
       "      <th>16</th>\n",
       "      <td>1.0</td>\n",
       "      <td>1.0</td>\n",
       "      <td>2.0</td>\n",
       "    </tr>\n",
       "    <tr>\n",
       "      <th>17</th>\n",
       "      <td>1.0</td>\n",
       "      <td>0.0</td>\n",
       "      <td>1.0</td>\n",
       "    </tr>\n",
       "    <tr>\n",
       "      <th>18</th>\n",
       "      <td>1.0</td>\n",
       "      <td>1.0</td>\n",
       "      <td>2.0</td>\n",
       "    </tr>\n",
       "    <tr>\n",
       "      <th>19</th>\n",
       "      <td>1.0</td>\n",
       "      <td>0.0</td>\n",
       "      <td>1.0</td>\n",
       "    </tr>\n",
       "  </tbody>\n",
       "</table>\n",
       "</div>"
      ],
      "text/plain": [
       "     x1   x2    y\n",
       "0   0.0  1.0  1.0\n",
       "1   0.0  0.0  0.0\n",
       "2   0.0  1.0  1.0\n",
       "3   0.0  0.0  0.0\n",
       "4   0.0  1.0  1.0\n",
       "5   0.0  0.0  0.0\n",
       "6   0.0  1.0  1.0\n",
       "7   0.0  0.0  0.0\n",
       "8   0.0  1.0  1.0\n",
       "9   0.0  0.0  0.0\n",
       "10  1.0  1.0  2.0\n",
       "11  1.0  0.0  1.0\n",
       "12  1.0  1.0  2.0\n",
       "13  1.0  0.0  1.0\n",
       "14  1.0  1.0  2.0\n",
       "15  1.0  0.0  1.0\n",
       "16  1.0  1.0  2.0\n",
       "17  1.0  0.0  1.0\n",
       "18  1.0  1.0  2.0\n",
       "19  1.0  0.0  1.0"
      ]
     },
     "execution_count": 15,
     "metadata": {},
     "output_type": "execute_result"
    }
   ],
   "source": [
    "from sklearn.tree import DecisionTreeRegressor\n",
    "\n",
    "x1 = [0]*10 + [1.0]*10\n",
    "x2 = [1.0,0]*10\n",
    "data = pd.DataFrame({\"x1\":x1, \"x2\":x2})\n",
    "data[\"y\"] = data.x1 + data.x2\n",
    "\n",
    "data.head(20)"
   ]
  },
  {
   "cell_type": "code",
   "execution_count": 16,
   "metadata": {},
   "outputs": [
    {
     "data": {
      "text/plain": [
       "1.0"
      ]
     },
     "execution_count": 16,
     "metadata": {},
     "output_type": "execute_result"
    }
   ],
   "source": [
    "# train Decision Tree with depth = 2\n",
    "X = data[[\"x1\", \"x2\"]]\n",
    "y = data.y\n",
    "\n",
    "simple_tree = DecisionTreeRegressor(max_depth=2)\n",
    "simple_tree.fit(X = X, y = y)\n",
    "\n",
    "simple_tree.score(X = X, y = y)"
   ]
  },
  {
   "cell_type": "code",
   "execution_count": 17,
   "metadata": {},
   "outputs": [
    {
     "data": {
      "text/plain": [
       "[Text(0.5, 0.8333333333333334, 'x2 <= 0.5\\nsquared_error = 0.5\\nsamples = 20\\nvalue = 1.0'),\n",
       " Text(0.25, 0.5, 'x1 <= 0.5\\nsquared_error = 0.25\\nsamples = 10\\nvalue = 0.5'),\n",
       " Text(0.125, 0.16666666666666666, 'squared_error = 0.0\\nsamples = 5\\nvalue = 0.0'),\n",
       " Text(0.375, 0.16666666666666666, 'squared_error = 0.0\\nsamples = 5\\nvalue = 1.0'),\n",
       " Text(0.75, 0.5, 'x1 <= 0.5\\nsquared_error = 0.25\\nsamples = 10\\nvalue = 1.5'),\n",
       " Text(0.625, 0.16666666666666666, 'squared_error = 0.0\\nsamples = 5\\nvalue = 1.0'),\n",
       " Text(0.875, 0.16666666666666666, 'squared_error = 0.0\\nsamples = 5\\nvalue = 2.0')]"
      ]
     },
     "execution_count": 17,
     "metadata": {},
     "output_type": "execute_result"
    },
    {
     "data": {
      "image/png": "[encoded data removed]",
      "text/plain": [
       "<Figure size 640x480 with 1 Axes>"
      ]
     },
     "metadata": {},
     "output_type": "display_data"
    }
   ],
   "source": [
    "# visualize the tree\n",
    "\n",
    "from sklearn.tree import plot_tree\n",
    "\n",
    "plot_tree(simple_tree, feature_names=[\"x1\", \"x2\"], filled=True)\n"
   ]
  },
  {
   "cell_type": "markdown",
   "metadata": {},
   "source": [
    "Let's first initalize a TreeExplainer for the purpose of **prediction explanation**:"
   ]
  },
  {
   "cell_type": "code",
   "execution_count": 18,
   "metadata": {},
   "outputs": [],
   "source": [
    "simple_tE = _tree.TreeExplainer(simple_tree, data = X, model_output=\"raw\", feature_perturbation=\"interventional\")"
   ]
  },
  {
   "cell_type": "code",
   "execution_count": 58,
   "metadata": {},
   "outputs": [
    {
     "data": {
      "text/plain": [
       "1.0"
      ]
     },
     "execution_count": 58,
     "metadata": {},
     "output_type": "execute_result"
    }
   ],
   "source": [
    "simple_tE.expected_value"
   ]
  },
  {
   "cell_type": "code",
   "execution_count": 19,
   "metadata": {},
   "outputs": [
    {
     "data": {
      "text/plain": [
       "'identity'"
      ]
     },
     "execution_count": 19,
     "metadata": {},
     "output_type": "execute_result"
    }
   ],
   "source": [
    "simple_tE.model.get_transform()"
   ]
  },
  {
   "cell_type": "code",
   "execution_count": 20,
   "metadata": {},
   "outputs": [
    {
     "data": {
      "text/plain": [
       "(20, 2)"
      ]
     },
     "execution_count": 20,
     "metadata": {},
     "output_type": "execute_result"
    }
   ],
   "source": [
    "prediction_sv = simple_tE.shap_values(data[[\"x1\", \"x2\"]])\n",
    "prediction_sv.shape"
   ]
  },
  {
   "cell_type": "code",
   "execution_count": 21,
   "metadata": {},
   "outputs": [
    {
     "data": {
      "text/plain": [
       "array([[-0.5,  0.5],\n",
       "       [-0.5, -0.5],\n",
       "       [-0.5,  0.5],\n",
       "       [-0.5, -0.5],\n",
       "       [-0.5,  0.5],\n",
       "       [-0.5, -0.5],\n",
       "       [-0.5,  0.5],\n",
       "       [-0.5, -0.5],\n",
       "       [-0.5,  0.5],\n",
       "       [-0.5, -0.5],\n",
       "       [ 0.5,  0.5],\n",
       "       [ 0.5, -0.5],\n",
       "       [ 0.5,  0.5],\n",
       "       [ 0.5, -0.5],\n",
       "       [ 0.5,  0.5],\n",
       "       [ 0.5, -0.5],\n",
       "       [ 0.5,  0.5],\n",
       "       [ 0.5, -0.5],\n",
       "       [ 0.5,  0.5],\n",
       "       [ 0.5, -0.5]])"
      ]
     },
     "execution_count": 21,
     "metadata": {},
     "output_type": "execute_result"
    }
   ],
   "source": [
    "prediction_sv"
   ]
  },
  {
   "cell_type": "markdown",
   "metadata": {},
   "source": [
    "This all works correctly also in my modified shap code. Let's now try to compute the shap values for the squared deviation from the mean prediction:"
   ]
  },
  {
   "cell_type": "code",
   "execution_count": 72,
   "metadata": {},
   "outputs": [],
   "source": [
    "simple_tE_dev = _tree.TreeExplainer(simple_tree, data = X, model_output=\"squared_loss\", feature_perturbation=\"interventional\")"
   ]
  },
  {
   "cell_type": "code",
   "execution_count": 101,
   "metadata": {},
   "outputs": [
    {
     "data": {
      "text/plain": [
       "1.5"
      ]
     },
     "execution_count": 101,
     "metadata": {},
     "output_type": "execute_result"
    }
   ],
   "source": [
    "simple_tE_dev.expected_value # expected value of the square! does not \"subtract y\", if y is not specified. and there is no way to specify y in the TreeExplainer..."
   ]
  },
  {
   "cell_type": "code",
   "execution_count": 53,
   "metadata": {},
   "outputs": [
    {
     "data": {
      "text/plain": [
       "array([1., 0., 1., 0., 1., 0., 1., 0., 1., 0., 2., 1., 2., 1., 2., 1., 2.,\n",
       "       1., 2., 1.])"
      ]
     },
     "execution_count": 53,
     "metadata": {},
     "output_type": "execute_result"
    }
   ],
   "source": [
    "simple_tree.predict(X)"
   ]
  },
  {
   "cell_type": "code",
   "execution_count": 74,
   "metadata": {},
   "outputs": [
    {
     "data": {
      "text/plain": [
       "array([1., 4., 1., 4., 1., 4., 1., 4., 1., 4., 0., 1., 0., 1., 0., 1., 0.,\n",
       "       1., 0., 1.])"
      ]
     },
     "execution_count": 74,
     "metadata": {},
     "output_type": "execute_result"
    }
   ],
   "source": [
    "simple_tE_dev.model.predict(X,y = np.array([2]*20))"
   ]
  },
  {
   "cell_type": "markdown",
   "metadata": {},
   "source": [
    "These values are correct for prediction of the transformed outcome! So this method works for getting the right expected value! (the _cext.dense_tree_predict() method)."
   ]
  },
  {
   "cell_type": "code",
   "execution_count": 82,
   "metadata": {},
   "outputs": [
    {
     "data": {
      "text/plain": [
       "0.5"
      ]
     },
     "execution_count": 82,
     "metadata": {},
     "output_type": "execute_result"
    }
   ],
   "source": [
    "true_exp_v = simple_tE_dev.model.predict(X,y = np.array([data.y.mean(0)]*20)).mean() # data.y.mean() = 1\n",
    "true_exp_v"
   ]
  },
  {
   "cell_type": "markdown",
   "metadata": {},
   "source": [
    "This will be the value to which the shap values have to be added to explain the total squared deviation."
   ]
  },
  {
   "cell_type": "code",
   "execution_count": 75,
   "metadata": {},
   "outputs": [
    {
     "data": {
      "text/plain": [
       "'squared_loss'"
      ]
     },
     "execution_count": 75,
     "metadata": {},
     "output_type": "execute_result"
    }
   ],
   "source": [
    "simple_tE_dev.model.get_transform()"
   ]
  },
  {
   "cell_type": "markdown",
   "metadata": {},
   "source": [
    "To compute the deviations, we need to pass our reference value in a vectorized fashion to the y argument:"
   ]
  },
  {
   "cell_type": "code",
   "execution_count": 93,
   "metadata": {},
   "outputs": [
    {
     "data": {
      "text/plain": [
       "array([1, 1, 1, 1, 1, 1, 1, 1, 1, 1, 1, 1, 1, 1, 1, 1, 1, 1, 1, 1])"
      ]
     },
     "execution_count": 93,
     "metadata": {},
     "output_type": "execute_result"
    }
   ],
   "source": [
    "# get reference vector\n",
    "import numpy as np\n",
    "\n",
    "ref = np.array([1]*20) # the ATE (average prediction)\n",
    "ref"
   ]
  },
  {
   "cell_type": "code",
   "execution_count": 94,
   "metadata": {},
   "outputs": [
    {
     "data": {
      "text/plain": [
       "(20, 2)"
      ]
     },
     "execution_count": 94,
     "metadata": {},
     "output_type": "execute_result"
    }
   ],
   "source": [
    "dev_sv = simple_tE_dev.shap_values(data[[\"x1\", \"x2\"]], y=ref)\n",
    "dev_sv.shape"
   ]
  },
  {
   "cell_type": "code",
   "execution_count": 95,
   "metadata": {},
   "outputs": [
    {
     "data": {
      "text/plain": [
       "array([[-0.5 ,  0.  ],\n",
       "       [ 0.25,  0.25],\n",
       "       [-0.5 ,  0.  ],\n",
       "       [ 0.25,  0.25],\n",
       "       [-0.5 ,  0.  ],\n",
       "       [ 0.25,  0.25],\n",
       "       [-0.5 ,  0.  ],\n",
       "       [ 0.25,  0.25],\n",
       "       [-0.5 ,  0.  ],\n",
       "       [ 0.25,  0.25],\n",
       "       [ 0.25,  0.25],\n",
       "       [ 0.  , -0.5 ],\n",
       "       [ 0.25,  0.25],\n",
       "       [ 0.  , -0.5 ],\n",
       "       [ 0.25,  0.25],\n",
       "       [ 0.  , -0.5 ],\n",
       "       [ 0.25,  0.25],\n",
       "       [ 0.  , -0.5 ],\n",
       "       [ 0.25,  0.25],\n",
       "       [ 0.  , -0.5 ]])"
      ]
     },
     "execution_count": 95,
     "metadata": {},
     "output_type": "execute_result"
    }
   ],
   "source": [
    "dev_sv"
   ]
  },
  {
   "cell_type": "code",
   "execution_count": 97,
   "metadata": {},
   "outputs": [
    {
     "data": {
      "text/html": [
       "<div>\n",
       "<style scoped>\n",
       "    .dataframe tbody tr th:only-of-type {\n",
       "        vertical-align: middle;\n",
       "    }\n",
       "\n",
       "    .dataframe tbody tr th {\n",
       "        vertical-align: top;\n",
       "    }\n",
       "\n",
       "    .dataframe thead th {\n",
       "        text-align: right;\n",
       "    }\n",
       "</style>\n",
       "<table border=\"1\" class=\"dataframe\">\n",
       "  <thead>\n",
       "    <tr style=\"text-align: right;\">\n",
       "      <th></th>\n",
       "      <th>x1</th>\n",
       "      <th>x2</th>\n",
       "      <th>y</th>\n",
       "      <th>ref</th>\n",
       "      <th>dev_sq</th>\n",
       "      <th>x1_shap_dev</th>\n",
       "      <th>x2_shap_dev</th>\n",
       "      <th>Exp_dev</th>\n",
       "      <th>shap_implied_total</th>\n",
       "      <th>check</th>\n",
       "    </tr>\n",
       "  </thead>\n",
       "  <tbody>\n",
       "    <tr>\n",
       "      <th>0</th>\n",
       "      <td>0.0</td>\n",
       "      <td>1.0</td>\n",
       "      <td>1.0</td>\n",
       "      <td>1</td>\n",
       "      <td>0.0</td>\n",
       "      <td>-0.50</td>\n",
       "      <td>0.00</td>\n",
       "      <td>0.5</td>\n",
       "      <td>0.0</td>\n",
       "      <td>True</td>\n",
       "    </tr>\n",
       "    <tr>\n",
       "      <th>1</th>\n",
       "      <td>0.0</td>\n",
       "      <td>0.0</td>\n",
       "      <td>0.0</td>\n",
       "      <td>1</td>\n",
       "      <td>1.0</td>\n",
       "      <td>0.25</td>\n",
       "      <td>0.25</td>\n",
       "      <td>0.5</td>\n",
       "      <td>1.0</td>\n",
       "      <td>True</td>\n",
       "    </tr>\n",
       "    <tr>\n",
       "      <th>2</th>\n",
       "      <td>0.0</td>\n",
       "      <td>1.0</td>\n",
       "      <td>1.0</td>\n",
       "      <td>1</td>\n",
       "      <td>0.0</td>\n",
       "      <td>-0.50</td>\n",
       "      <td>0.00</td>\n",
       "      <td>0.5</td>\n",
       "      <td>0.0</td>\n",
       "      <td>True</td>\n",
       "    </tr>\n",
       "    <tr>\n",
       "      <th>3</th>\n",
       "      <td>0.0</td>\n",
       "      <td>0.0</td>\n",
       "      <td>0.0</td>\n",
       "      <td>1</td>\n",
       "      <td>1.0</td>\n",
       "      <td>0.25</td>\n",
       "      <td>0.25</td>\n",
       "      <td>0.5</td>\n",
       "      <td>1.0</td>\n",
       "      <td>True</td>\n",
       "    </tr>\n",
       "    <tr>\n",
       "      <th>4</th>\n",
       "      <td>0.0</td>\n",
       "      <td>1.0</td>\n",
       "      <td>1.0</td>\n",
       "      <td>1</td>\n",
       "      <td>0.0</td>\n",
       "      <td>-0.50</td>\n",
       "      <td>0.00</td>\n",
       "      <td>0.5</td>\n",
       "      <td>0.0</td>\n",
       "      <td>True</td>\n",
       "    </tr>\n",
       "    <tr>\n",
       "      <th>5</th>\n",
       "      <td>0.0</td>\n",
       "      <td>0.0</td>\n",
       "      <td>0.0</td>\n",
       "      <td>1</td>\n",
       "      <td>1.0</td>\n",
       "      <td>0.25</td>\n",
       "      <td>0.25</td>\n",
       "      <td>0.5</td>\n",
       "      <td>1.0</td>\n",
       "      <td>True</td>\n",
       "    </tr>\n",
       "    <tr>\n",
       "      <th>6</th>\n",
       "      <td>0.0</td>\n",
       "      <td>1.0</td>\n",
       "      <td>1.0</td>\n",
       "      <td>1</td>\n",
       "      <td>0.0</td>\n",
       "      <td>-0.50</td>\n",
       "      <td>0.00</td>\n",
       "      <td>0.5</td>\n",
       "      <td>0.0</td>\n",
       "      <td>True</td>\n",
       "    </tr>\n",
       "    <tr>\n",
       "      <th>7</th>\n",
       "      <td>0.0</td>\n",
       "      <td>0.0</td>\n",
       "      <td>0.0</td>\n",
       "      <td>1</td>\n",
       "      <td>1.0</td>\n",
       "      <td>0.25</td>\n",
       "      <td>0.25</td>\n",
       "      <td>0.5</td>\n",
       "      <td>1.0</td>\n",
       "      <td>True</td>\n",
       "    </tr>\n",
       "    <tr>\n",
       "      <th>8</th>\n",
       "      <td>0.0</td>\n",
       "      <td>1.0</td>\n",
       "      <td>1.0</td>\n",
       "      <td>1</td>\n",
       "      <td>0.0</td>\n",
       "      <td>-0.50</td>\n",
       "      <td>0.00</td>\n",
       "      <td>0.5</td>\n",
       "      <td>0.0</td>\n",
       "      <td>True</td>\n",
       "    </tr>\n",
       "    <tr>\n",
       "      <th>9</th>\n",
       "      <td>0.0</td>\n",
       "      <td>0.0</td>\n",
       "      <td>0.0</td>\n",
       "      <td>1</td>\n",
       "      <td>1.0</td>\n",
       "      <td>0.25</td>\n",
       "      <td>0.25</td>\n",
       "      <td>0.5</td>\n",
       "      <td>1.0</td>\n",
       "      <td>True</td>\n",
       "    </tr>\n",
       "    <tr>\n",
       "      <th>10</th>\n",
       "      <td>1.0</td>\n",
       "      <td>1.0</td>\n",
       "      <td>2.0</td>\n",
       "      <td>1</td>\n",
       "      <td>1.0</td>\n",
       "      <td>0.25</td>\n",
       "      <td>0.25</td>\n",
       "      <td>0.5</td>\n",
       "      <td>1.0</td>\n",
       "      <td>True</td>\n",
       "    </tr>\n",
       "    <tr>\n",
       "      <th>11</th>\n",
       "      <td>1.0</td>\n",
       "      <td>0.0</td>\n",
       "      <td>1.0</td>\n",
       "      <td>1</td>\n",
       "      <td>0.0</td>\n",
       "      <td>0.00</td>\n",
       "      <td>-0.50</td>\n",
       "      <td>0.5</td>\n",
       "      <td>0.0</td>\n",
       "      <td>True</td>\n",
       "    </tr>\n",
       "    <tr>\n",
       "      <th>12</th>\n",
       "      <td>1.0</td>\n",
       "      <td>1.0</td>\n",
       "      <td>2.0</td>\n",
       "      <td>1</td>\n",
       "      <td>1.0</td>\n",
       "      <td>0.25</td>\n",
       "      <td>0.25</td>\n",
       "      <td>0.5</td>\n",
       "      <td>1.0</td>\n",
       "      <td>True</td>\n",
       "    </tr>\n",
       "    <tr>\n",
       "      <th>13</th>\n",
       "      <td>1.0</td>\n",
       "      <td>0.0</td>\n",
       "      <td>1.0</td>\n",
       "      <td>1</td>\n",
       "      <td>0.0</td>\n",
       "      <td>0.00</td>\n",
       "      <td>-0.50</td>\n",
       "      <td>0.5</td>\n",
       "      <td>0.0</td>\n",
       "      <td>True</td>\n",
       "    </tr>\n",
       "    <tr>\n",
       "      <th>14</th>\n",
       "      <td>1.0</td>\n",
       "      <td>1.0</td>\n",
       "      <td>2.0</td>\n",
       "      <td>1</td>\n",
       "      <td>1.0</td>\n",
       "      <td>0.25</td>\n",
       "      <td>0.25</td>\n",
       "      <td>0.5</td>\n",
       "      <td>1.0</td>\n",
       "      <td>True</td>\n",
       "    </tr>\n",
       "    <tr>\n",
       "      <th>15</th>\n",
       "      <td>1.0</td>\n",
       "      <td>0.0</td>\n",
       "      <td>1.0</td>\n",
       "      <td>1</td>\n",
       "      <td>0.0</td>\n",
       "      <td>0.00</td>\n",
       "      <td>-0.50</td>\n",
       "      <td>0.5</td>\n",
       "      <td>0.0</td>\n",
       "      <td>True</td>\n",
       "    </tr>\n",
       "    <tr>\n",
       "      <th>16</th>\n",
       "      <td>1.0</td>\n",
       "      <td>1.0</td>\n",
       "      <td>2.0</td>\n",
       "      <td>1</td>\n",
       "      <td>1.0</td>\n",
       "      <td>0.25</td>\n",
       "      <td>0.25</td>\n",
       "      <td>0.5</td>\n",
       "      <td>1.0</td>\n",
       "      <td>True</td>\n",
       "    </tr>\n",
       "    <tr>\n",
       "      <th>17</th>\n",
       "      <td>1.0</td>\n",
       "      <td>0.0</td>\n",
       "      <td>1.0</td>\n",
       "      <td>1</td>\n",
       "      <td>0.0</td>\n",
       "      <td>0.00</td>\n",
       "      <td>-0.50</td>\n",
       "      <td>0.5</td>\n",
       "      <td>0.0</td>\n",
       "      <td>True</td>\n",
       "    </tr>\n",
       "    <tr>\n",
       "      <th>18</th>\n",
       "      <td>1.0</td>\n",
       "      <td>1.0</td>\n",
       "      <td>2.0</td>\n",
       "      <td>1</td>\n",
       "      <td>1.0</td>\n",
       "      <td>0.25</td>\n",
       "      <td>0.25</td>\n",
       "      <td>0.5</td>\n",
       "      <td>1.0</td>\n",
       "      <td>True</td>\n",
       "    </tr>\n",
       "    <tr>\n",
       "      <th>19</th>\n",
       "      <td>1.0</td>\n",
       "      <td>0.0</td>\n",
       "      <td>1.0</td>\n",
       "      <td>1</td>\n",
       "      <td>0.0</td>\n",
       "      <td>0.00</td>\n",
       "      <td>-0.50</td>\n",
       "      <td>0.5</td>\n",
       "      <td>0.0</td>\n",
       "      <td>True</td>\n",
       "    </tr>\n",
       "  </tbody>\n",
       "</table>\n",
       "</div>"
      ],
      "text/plain": [
       "     x1   x2    y  ref  dev_sq  x1_shap_dev  x2_shap_dev  Exp_dev  \\\n",
       "0   0.0  1.0  1.0    1     0.0        -0.50         0.00      0.5   \n",
       "1   0.0  0.0  0.0    1     1.0         0.25         0.25      0.5   \n",
       "2   0.0  1.0  1.0    1     0.0        -0.50         0.00      0.5   \n",
       "3   0.0  0.0  0.0    1     1.0         0.25         0.25      0.5   \n",
       "4   0.0  1.0  1.0    1     0.0        -0.50         0.00      0.5   \n",
       "5   0.0  0.0  0.0    1     1.0         0.25         0.25      0.5   \n",
       "6   0.0  1.0  1.0    1     0.0        -0.50         0.00      0.5   \n",
       "7   0.0  0.0  0.0    1     1.0         0.25         0.25      0.5   \n",
       "8   0.0  1.0  1.0    1     0.0        -0.50         0.00      0.5   \n",
       "9   0.0  0.0  0.0    1     1.0         0.25         0.25      0.5   \n",
       "10  1.0  1.0  2.0    1     1.0         0.25         0.25      0.5   \n",
       "11  1.0  0.0  1.0    1     0.0         0.00        -0.50      0.5   \n",
       "12  1.0  1.0  2.0    1     1.0         0.25         0.25      0.5   \n",
       "13  1.0  0.0  1.0    1     0.0         0.00        -0.50      0.5   \n",
       "14  1.0  1.0  2.0    1     1.0         0.25         0.25      0.5   \n",
       "15  1.0  0.0  1.0    1     0.0         0.00        -0.50      0.5   \n",
       "16  1.0  1.0  2.0    1     1.0         0.25         0.25      0.5   \n",
       "17  1.0  0.0  1.0    1     0.0         0.00        -0.50      0.5   \n",
       "18  1.0  1.0  2.0    1     1.0         0.25         0.25      0.5   \n",
       "19  1.0  0.0  1.0    1     0.0         0.00        -0.50      0.5   \n",
       "\n",
       "    shap_implied_total  check  \n",
       "0                  0.0   True  \n",
       "1                  1.0   True  \n",
       "2                  0.0   True  \n",
       "3                  1.0   True  \n",
       "4                  0.0   True  \n",
       "5                  1.0   True  \n",
       "6                  0.0   True  \n",
       "7                  1.0   True  \n",
       "8                  0.0   True  \n",
       "9                  1.0   True  \n",
       "10                 1.0   True  \n",
       "11                 0.0   True  \n",
       "12                 1.0   True  \n",
       "13                 0.0   True  \n",
       "14                 1.0   True  \n",
       "15                 0.0   True  \n",
       "16                 1.0   True  \n",
       "17                 0.0   True  \n",
       "18                 1.0   True  \n",
       "19                 0.0   True  "
      ]
     },
     "execution_count": 97,
     "metadata": {},
     "output_type": "execute_result"
    }
   ],
   "source": [
    "data[\"ref\"] = ref\n",
    "data[\"dev_sq\"] = (data.y - data.ref)**2\n",
    "data[[\"x1_shap_dev\", \"x2_shap_dev\"]] = dev_sv\n",
    "data[\"Exp_dev\"] = 0.5\n",
    "data[\"shap_implied_total\"] = data.Exp_dev + data.x1_shap_dev + data.x2_shap_dev\n",
    "data[\"check\"] = (data.shap_implied_total == data.dev_sq)\n",
    "data"
   ]
  },
  {
   "cell_type": "markdown",
   "metadata": {},
   "source": [
    "Let's not try with messier data:"
   ]
  },
  {
   "cell_type": "code",
   "execution_count": 104,
   "metadata": {},
   "outputs": [
    {
     "data": {
      "text/html": [
       "<div>\n",
       "<style scoped>\n",
       "    .dataframe tbody tr th:only-of-type {\n",
       "        vertical-align: middle;\n",
       "    }\n",
       "\n",
       "    .dataframe tbody tr th {\n",
       "        vertical-align: top;\n",
       "    }\n",
       "\n",
       "    .dataframe thead th {\n",
       "        text-align: right;\n",
       "    }\n",
       "</style>\n",
       "<table border=\"1\" class=\"dataframe\">\n",
       "  <thead>\n",
       "    <tr style=\"text-align: right;\">\n",
       "      <th></th>\n",
       "      <th>x1</th>\n",
       "      <th>x2</th>\n",
       "      <th>y</th>\n",
       "    </tr>\n",
       "  </thead>\n",
       "  <tbody>\n",
       "    <tr>\n",
       "      <th>0</th>\n",
       "      <td>0.0</td>\n",
       "      <td>0.976509</td>\n",
       "      <td>0.976509</td>\n",
       "    </tr>\n",
       "    <tr>\n",
       "      <th>1</th>\n",
       "      <td>0.0</td>\n",
       "      <td>-1.112258</td>\n",
       "      <td>-1.112258</td>\n",
       "    </tr>\n",
       "    <tr>\n",
       "      <th>2</th>\n",
       "      <td>0.0</td>\n",
       "      <td>1.183204</td>\n",
       "      <td>1.183204</td>\n",
       "    </tr>\n",
       "    <tr>\n",
       "      <th>3</th>\n",
       "      <td>0.0</td>\n",
       "      <td>1.780727</td>\n",
       "      <td>1.780727</td>\n",
       "    </tr>\n",
       "    <tr>\n",
       "      <th>4</th>\n",
       "      <td>0.0</td>\n",
       "      <td>0.206834</td>\n",
       "      <td>0.206834</td>\n",
       "    </tr>\n",
       "    <tr>\n",
       "      <th>5</th>\n",
       "      <td>0.0</td>\n",
       "      <td>0.521336</td>\n",
       "      <td>0.521336</td>\n",
       "    </tr>\n",
       "    <tr>\n",
       "      <th>6</th>\n",
       "      <td>0.0</td>\n",
       "      <td>1.493425</td>\n",
       "      <td>1.493425</td>\n",
       "    </tr>\n",
       "    <tr>\n",
       "      <th>7</th>\n",
       "      <td>0.0</td>\n",
       "      <td>-1.049948</td>\n",
       "      <td>-1.049948</td>\n",
       "    </tr>\n",
       "    <tr>\n",
       "      <th>8</th>\n",
       "      <td>0.0</td>\n",
       "      <td>-1.709292</td>\n",
       "      <td>-1.709292</td>\n",
       "    </tr>\n",
       "    <tr>\n",
       "      <th>9</th>\n",
       "      <td>0.0</td>\n",
       "      <td>0.585514</td>\n",
       "      <td>0.585514</td>\n",
       "    </tr>\n",
       "    <tr>\n",
       "      <th>10</th>\n",
       "      <td>1.0</td>\n",
       "      <td>0.704931</td>\n",
       "      <td>1.704931</td>\n",
       "    </tr>\n",
       "    <tr>\n",
       "      <th>11</th>\n",
       "      <td>1.0</td>\n",
       "      <td>-0.705002</td>\n",
       "      <td>0.294998</td>\n",
       "    </tr>\n",
       "    <tr>\n",
       "      <th>12</th>\n",
       "      <td>1.0</td>\n",
       "      <td>-0.342065</td>\n",
       "      <td>0.657935</td>\n",
       "    </tr>\n",
       "    <tr>\n",
       "      <th>13</th>\n",
       "      <td>1.0</td>\n",
       "      <td>0.406075</td>\n",
       "      <td>1.406075</td>\n",
       "    </tr>\n",
       "    <tr>\n",
       "      <th>14</th>\n",
       "      <td>1.0</td>\n",
       "      <td>-0.289594</td>\n",
       "      <td>0.710406</td>\n",
       "    </tr>\n",
       "    <tr>\n",
       "      <th>15</th>\n",
       "      <td>1.0</td>\n",
       "      <td>0.574644</td>\n",
       "      <td>1.574644</td>\n",
       "    </tr>\n",
       "    <tr>\n",
       "      <th>16</th>\n",
       "      <td>1.0</td>\n",
       "      <td>0.734524</td>\n",
       "      <td>1.734524</td>\n",
       "    </tr>\n",
       "    <tr>\n",
       "      <th>17</th>\n",
       "      <td>1.0</td>\n",
       "      <td>-0.106583</td>\n",
       "      <td>0.893417</td>\n",
       "    </tr>\n",
       "    <tr>\n",
       "      <th>18</th>\n",
       "      <td>1.0</td>\n",
       "      <td>-1.601427</td>\n",
       "      <td>-0.601427</td>\n",
       "    </tr>\n",
       "    <tr>\n",
       "      <th>19</th>\n",
       "      <td>1.0</td>\n",
       "      <td>-1.182217</td>\n",
       "      <td>-0.182217</td>\n",
       "    </tr>\n",
       "  </tbody>\n",
       "</table>\n",
       "</div>"
      ],
      "text/plain": [
       "     x1        x2         y\n",
       "0   0.0  0.976509  0.976509\n",
       "1   0.0 -1.112258 -1.112258\n",
       "2   0.0  1.183204  1.183204\n",
       "3   0.0  1.780727  1.780727\n",
       "4   0.0  0.206834  0.206834\n",
       "5   0.0  0.521336  0.521336\n",
       "6   0.0  1.493425  1.493425\n",
       "7   0.0 -1.049948 -1.049948\n",
       "8   0.0 -1.709292 -1.709292\n",
       "9   0.0  0.585514  0.585514\n",
       "10  1.0  0.704931  1.704931\n",
       "11  1.0 -0.705002  0.294998\n",
       "12  1.0 -0.342065  0.657935\n",
       "13  1.0  0.406075  1.406075\n",
       "14  1.0 -0.289594  0.710406\n",
       "15  1.0  0.574644  1.574644\n",
       "16  1.0  0.734524  1.734524\n",
       "17  1.0 -0.106583  0.893417\n",
       "18  1.0 -1.601427 -0.601427\n",
       "19  1.0 -1.182217 -0.182217"
      ]
     },
     "execution_count": 104,
     "metadata": {},
     "output_type": "execute_result"
    }
   ],
   "source": [
    "# draw x2 randomly from a normal distribution\n",
    "x2 = np.random.normal(0,1,20)\n",
    "data2 = pd.DataFrame({\"x1\":x1, \"x2\":x2})\n",
    "data2[\"y\"] = data2.x1 + data2.x2\n",
    "data2"
   ]
  },
  {
   "cell_type": "code",
   "execution_count": 105,
   "metadata": {},
   "outputs": [
    {
     "data": {
      "text/plain": [
       "0.8709321299122345"
      ]
     },
     "execution_count": 105,
     "metadata": {},
     "output_type": "execute_result"
    }
   ],
   "source": [
    "# train another tree\n",
    "simple_tree2 = DecisionTreeRegressor(max_depth=2)\n",
    "simple_tree2.fit(X = data2[[\"x1\", \"x2\"]], y = data2.y)\n",
    "simple_tree2.score(X = data2[[\"x1\", \"x2\"]], y = data2.y)"
   ]
  },
  {
   "cell_type": "code",
   "execution_count": 106,
   "metadata": {},
   "outputs": [
    {
     "data": {
      "text/plain": [
       "[Text(0.5, 0.8333333333333334, 'x2 <= -0.877\\nsquared_error = 1.007\\nsamples = 20\\nvalue = 0.553'),\n",
       " Text(0.25, 0.5, 'x1 <= 0.5\\nsquared_error = 0.264\\nsamples = 5\\nvalue = -0.931'),\n",
       " Text(0.125, 0.16666666666666666, 'squared_error = 0.088\\nsamples = 3\\nvalue = -1.29'),\n",
       " Text(0.375, 0.16666666666666666, 'squared_error = 0.044\\nsamples = 2\\nvalue = -0.392'),\n",
       " Text(0.75, 0.5, 'x2 <= 0.548\\nsquared_error = 0.275\\nsamples = 15\\nvalue = 1.048'),\n",
       " Text(0.625, 0.16666666666666666, 'squared_error = 0.139\\nsamples = 7\\nvalue = 0.67'),\n",
       " Text(0.875, 0.16666666666666666, 'squared_error = 0.159\\nsamples = 8\\nvalue = 1.379')]"
      ]
     },
     "execution_count": 106,
     "metadata": {},
     "output_type": "execute_result"
    },
    {
     "data": {
      "image/png": "[encoded data removed]",
      "text/plain": [
       "<Figure size 640x480 with 1 Axes>"
      ]
     },
     "metadata": {},
     "output_type": "display_data"
    }
   ],
   "source": [
    "# visualize the tree\n",
    "\n",
    "plot_tree(simple_tree2, feature_names=[\"x1\", \"x2\"], filled=True)"
   ]
  },
  {
   "cell_type": "code",
   "execution_count": 107,
   "metadata": {},
   "outputs": [],
   "source": [
    "simple_tE2_dev = _tree.TreeExplainer(simple_tree2, data = data2[[\"x1\",\"x2\"]], model_output=\"squared_loss\", feature_perturbation=\"interventional\")"
   ]
  },
  {
   "cell_type": "code",
   "execution_count": 108,
   "metadata": {},
   "outputs": [
    {
     "data": {
      "text/html": [
       "<div>\n",
       "<style scoped>\n",
       "    .dataframe tbody tr th:only-of-type {\n",
       "        vertical-align: middle;\n",
       "    }\n",
       "\n",
       "    .dataframe tbody tr th {\n",
       "        vertical-align: top;\n",
       "    }\n",
       "\n",
       "    .dataframe thead th {\n",
       "        text-align: right;\n",
       "    }\n",
       "</style>\n",
       "<table border=\"1\" class=\"dataframe\">\n",
       "  <thead>\n",
       "    <tr style=\"text-align: right;\">\n",
       "      <th></th>\n",
       "      <th>x1</th>\n",
       "      <th>x2</th>\n",
       "      <th>y</th>\n",
       "      <th>pred</th>\n",
       "      <th>ref</th>\n",
       "    </tr>\n",
       "  </thead>\n",
       "  <tbody>\n",
       "    <tr>\n",
       "      <th>0</th>\n",
       "      <td>0.0</td>\n",
       "      <td>0.976509</td>\n",
       "      <td>0.976509</td>\n",
       "      <td>1.379185</td>\n",
       "      <td>0.553467</td>\n",
       "    </tr>\n",
       "    <tr>\n",
       "      <th>1</th>\n",
       "      <td>0.0</td>\n",
       "      <td>-1.112258</td>\n",
       "      <td>-1.112258</td>\n",
       "      <td>-1.290499</td>\n",
       "      <td>0.553467</td>\n",
       "    </tr>\n",
       "    <tr>\n",
       "      <th>2</th>\n",
       "      <td>0.0</td>\n",
       "      <td>1.183204</td>\n",
       "      <td>1.183204</td>\n",
       "      <td>1.379185</td>\n",
       "      <td>0.553467</td>\n",
       "    </tr>\n",
       "    <tr>\n",
       "      <th>3</th>\n",
       "      <td>0.0</td>\n",
       "      <td>1.780727</td>\n",
       "      <td>1.780727</td>\n",
       "      <td>1.379185</td>\n",
       "      <td>0.553467</td>\n",
       "    </tr>\n",
       "    <tr>\n",
       "      <th>4</th>\n",
       "      <td>0.0</td>\n",
       "      <td>0.206834</td>\n",
       "      <td>0.206834</td>\n",
       "      <td>0.670143</td>\n",
       "      <td>0.553467</td>\n",
       "    </tr>\n",
       "    <tr>\n",
       "      <th>5</th>\n",
       "      <td>0.0</td>\n",
       "      <td>0.521336</td>\n",
       "      <td>0.521336</td>\n",
       "      <td>0.670143</td>\n",
       "      <td>0.553467</td>\n",
       "    </tr>\n",
       "    <tr>\n",
       "      <th>6</th>\n",
       "      <td>0.0</td>\n",
       "      <td>1.493425</td>\n",
       "      <td>1.493425</td>\n",
       "      <td>1.379185</td>\n",
       "      <td>0.553467</td>\n",
       "    </tr>\n",
       "    <tr>\n",
       "      <th>7</th>\n",
       "      <td>0.0</td>\n",
       "      <td>-1.049948</td>\n",
       "      <td>-1.049948</td>\n",
       "      <td>-1.290499</td>\n",
       "      <td>0.553467</td>\n",
       "    </tr>\n",
       "    <tr>\n",
       "      <th>8</th>\n",
       "      <td>0.0</td>\n",
       "      <td>-1.709292</td>\n",
       "      <td>-1.709292</td>\n",
       "      <td>-1.290499</td>\n",
       "      <td>0.553467</td>\n",
       "    </tr>\n",
       "    <tr>\n",
       "      <th>9</th>\n",
       "      <td>0.0</td>\n",
       "      <td>0.585514</td>\n",
       "      <td>0.585514</td>\n",
       "      <td>1.379185</td>\n",
       "      <td>0.553467</td>\n",
       "    </tr>\n",
       "    <tr>\n",
       "      <th>10</th>\n",
       "      <td>1.0</td>\n",
       "      <td>0.704931</td>\n",
       "      <td>1.704931</td>\n",
       "      <td>1.379185</td>\n",
       "      <td>0.553467</td>\n",
       "    </tr>\n",
       "    <tr>\n",
       "      <th>11</th>\n",
       "      <td>1.0</td>\n",
       "      <td>-0.705002</td>\n",
       "      <td>0.294998</td>\n",
       "      <td>0.670143</td>\n",
       "      <td>0.553467</td>\n",
       "    </tr>\n",
       "    <tr>\n",
       "      <th>12</th>\n",
       "      <td>1.0</td>\n",
       "      <td>-0.342065</td>\n",
       "      <td>0.657935</td>\n",
       "      <td>0.670143</td>\n",
       "      <td>0.553467</td>\n",
       "    </tr>\n",
       "    <tr>\n",
       "      <th>13</th>\n",
       "      <td>1.0</td>\n",
       "      <td>0.406075</td>\n",
       "      <td>1.406075</td>\n",
       "      <td>0.670143</td>\n",
       "      <td>0.553467</td>\n",
       "    </tr>\n",
       "    <tr>\n",
       "      <th>14</th>\n",
       "      <td>1.0</td>\n",
       "      <td>-0.289594</td>\n",
       "      <td>0.710406</td>\n",
       "      <td>0.670143</td>\n",
       "      <td>0.553467</td>\n",
       "    </tr>\n",
       "    <tr>\n",
       "      <th>15</th>\n",
       "      <td>1.0</td>\n",
       "      <td>0.574644</td>\n",
       "      <td>1.574644</td>\n",
       "      <td>1.379185</td>\n",
       "      <td>0.553467</td>\n",
       "    </tr>\n",
       "    <tr>\n",
       "      <th>16</th>\n",
       "      <td>1.0</td>\n",
       "      <td>0.734524</td>\n",
       "      <td>1.734524</td>\n",
       "      <td>1.379185</td>\n",
       "      <td>0.553467</td>\n",
       "    </tr>\n",
       "    <tr>\n",
       "      <th>17</th>\n",
       "      <td>1.0</td>\n",
       "      <td>-0.106583</td>\n",
       "      <td>0.893417</td>\n",
       "      <td>0.670143</td>\n",
       "      <td>0.553467</td>\n",
       "    </tr>\n",
       "    <tr>\n",
       "      <th>18</th>\n",
       "      <td>1.0</td>\n",
       "      <td>-1.601427</td>\n",
       "      <td>-0.601427</td>\n",
       "      <td>-0.391822</td>\n",
       "      <td>0.553467</td>\n",
       "    </tr>\n",
       "    <tr>\n",
       "      <th>19</th>\n",
       "      <td>1.0</td>\n",
       "      <td>-1.182217</td>\n",
       "      <td>-0.182217</td>\n",
       "      <td>-0.391822</td>\n",
       "      <td>0.553467</td>\n",
       "    </tr>\n",
       "  </tbody>\n",
       "</table>\n",
       "</div>"
      ],
      "text/plain": [
       "     x1        x2         y      pred       ref\n",
       "0   0.0  0.976509  0.976509  1.379185  0.553467\n",
       "1   0.0 -1.112258 -1.112258 -1.290499  0.553467\n",
       "2   0.0  1.183204  1.183204  1.379185  0.553467\n",
       "3   0.0  1.780727  1.780727  1.379185  0.553467\n",
       "4   0.0  0.206834  0.206834  0.670143  0.553467\n",
       "5   0.0  0.521336  0.521336  0.670143  0.553467\n",
       "6   0.0  1.493425  1.493425  1.379185  0.553467\n",
       "7   0.0 -1.049948 -1.049948 -1.290499  0.553467\n",
       "8   0.0 -1.709292 -1.709292 -1.290499  0.553467\n",
       "9   0.0  0.585514  0.585514  1.379185  0.553467\n",
       "10  1.0  0.704931  1.704931  1.379185  0.553467\n",
       "11  1.0 -0.705002  0.294998  0.670143  0.553467\n",
       "12  1.0 -0.342065  0.657935  0.670143  0.553467\n",
       "13  1.0  0.406075  1.406075  0.670143  0.553467\n",
       "14  1.0 -0.289594  0.710406  0.670143  0.553467\n",
       "15  1.0  0.574644  1.574644  1.379185  0.553467\n",
       "16  1.0  0.734524  1.734524  1.379185  0.553467\n",
       "17  1.0 -0.106583  0.893417  0.670143  0.553467\n",
       "18  1.0 -1.601427 -0.601427 -0.391822  0.553467\n",
       "19  1.0 -1.182217 -0.182217 -0.391822  0.553467"
      ]
     },
     "execution_count": 108,
     "metadata": {},
     "output_type": "execute_result"
    }
   ],
   "source": [
    "# get the mean prediction\n",
    "data2[\"pred\"] = simple_tree2.predict(data2[[\"x1\", \"x2\"]])\n",
    "data2[\"ref\"] = data2.pred.mean()\n",
    "data2"
   ]
  },
  {
   "cell_type": "code",
   "execution_count": 111,
   "metadata": {},
   "outputs": [
    {
     "data": {
      "text/plain": [
       "0.8768774674396314"
      ]
     },
     "execution_count": 111,
     "metadata": {},
     "output_type": "execute_result"
    }
   ],
   "source": [
    "# get the expected value of the explainable deviation\n",
    "mean_pred = simple_tE2_dev.model.predict(data2[[\"x1\",\"x2\"]], y = data2.ref).mean()\n",
    "mean_pred"
   ]
  },
  {
   "cell_type": "code",
   "execution_count": 113,
   "metadata": {},
   "outputs": [
    {
     "data": {
      "text/plain": [
       "(20, 2)"
      ]
     },
     "execution_count": 113,
     "metadata": {},
     "output_type": "execute_result"
    }
   ],
   "source": [
    "sv_dev2 = simple_tE2_dev.shap_values(data2[[\"x1\", \"x2\"]], y = data2.ref)\n",
    "sv_dev2.shape"
   ]
  },
  {
   "cell_type": "code",
   "execution_count": 116,
   "metadata": {},
   "outputs": [
    {
     "data": {
      "text/html": [
       "<div>\n",
       "<style scoped>\n",
       "    .dataframe tbody tr th:only-of-type {\n",
       "        vertical-align: middle;\n",
       "    }\n",
       "\n",
       "    .dataframe tbody tr th {\n",
       "        vertical-align: top;\n",
       "    }\n",
       "\n",
       "    .dataframe thead th {\n",
       "        text-align: right;\n",
       "    }\n",
       "</style>\n",
       "<table border=\"1\" class=\"dataframe\">\n",
       "  <thead>\n",
       "    <tr style=\"text-align: right;\">\n",
       "      <th></th>\n",
       "      <th>x1</th>\n",
       "      <th>x2</th>\n",
       "      <th>y</th>\n",
       "      <th>pred</th>\n",
       "      <th>ref</th>\n",
       "      <th>x1_shap_dev</th>\n",
       "      <th>x2_shap_dev</th>\n",
       "      <th>implied_total</th>\n",
       "      <th>dev</th>\n",
       "      <th>check</th>\n",
       "    </tr>\n",
       "  </thead>\n",
       "  <tbody>\n",
       "    <tr>\n",
       "      <th>0</th>\n",
       "      <td>0.0</td>\n",
       "      <td>0.976509</td>\n",
       "      <td>0.976509</td>\n",
       "      <td>1.379185</td>\n",
       "      <td>0.553467</td>\n",
       "      <td>0.005373</td>\n",
       "      <td>-0.200440</td>\n",
       "      <td>0.681810</td>\n",
       "      <td>0.681810</td>\n",
       "      <td>True</td>\n",
       "    </tr>\n",
       "    <tr>\n",
       "      <th>1</th>\n",
       "      <td>0.0</td>\n",
       "      <td>-1.112258</td>\n",
       "      <td>-1.112258</td>\n",
       "      <td>-1.290499</td>\n",
       "      <td>0.553467</td>\n",
       "      <td>0.513329</td>\n",
       "      <td>2.010004</td>\n",
       "      <td>3.400211</td>\n",
       "      <td>3.400211</td>\n",
       "      <td>True</td>\n",
       "    </tr>\n",
       "    <tr>\n",
       "      <th>2</th>\n",
       "      <td>0.0</td>\n",
       "      <td>1.183204</td>\n",
       "      <td>1.183204</td>\n",
       "      <td>1.379185</td>\n",
       "      <td>0.553467</td>\n",
       "      <td>0.005373</td>\n",
       "      <td>-0.200440</td>\n",
       "      <td>0.681810</td>\n",
       "      <td>0.681810</td>\n",
       "      <td>True</td>\n",
       "    </tr>\n",
       "    <tr>\n",
       "      <th>3</th>\n",
       "      <td>0.0</td>\n",
       "      <td>1.780727</td>\n",
       "      <td>1.780727</td>\n",
       "      <td>1.379185</td>\n",
       "      <td>0.553467</td>\n",
       "      <td>0.005373</td>\n",
       "      <td>-0.200440</td>\n",
       "      <td>0.681810</td>\n",
       "      <td>0.681810</td>\n",
       "      <td>True</td>\n",
       "    </tr>\n",
       "    <tr>\n",
       "      <th>4</th>\n",
       "      <td>0.0</td>\n",
       "      <td>0.206834</td>\n",
       "      <td>0.206834</td>\n",
       "      <td>0.670143</td>\n",
       "      <td>0.553467</td>\n",
       "      <td>0.037233</td>\n",
       "      <td>-0.900497</td>\n",
       "      <td>0.013613</td>\n",
       "      <td>0.013613</td>\n",
       "      <td>True</td>\n",
       "    </tr>\n",
       "    <tr>\n",
       "      <th>5</th>\n",
       "      <td>0.0</td>\n",
       "      <td>0.521336</td>\n",
       "      <td>0.521336</td>\n",
       "      <td>0.670143</td>\n",
       "      <td>0.553467</td>\n",
       "      <td>0.037233</td>\n",
       "      <td>-0.900497</td>\n",
       "      <td>0.013613</td>\n",
       "      <td>0.013613</td>\n",
       "      <td>True</td>\n",
       "    </tr>\n",
       "    <tr>\n",
       "      <th>6</th>\n",
       "      <td>0.0</td>\n",
       "      <td>1.493425</td>\n",
       "      <td>1.493425</td>\n",
       "      <td>1.379185</td>\n",
       "      <td>0.553467</td>\n",
       "      <td>0.005373</td>\n",
       "      <td>-0.200440</td>\n",
       "      <td>0.681810</td>\n",
       "      <td>0.681810</td>\n",
       "      <td>True</td>\n",
       "    </tr>\n",
       "    <tr>\n",
       "      <th>7</th>\n",
       "      <td>0.0</td>\n",
       "      <td>-1.049948</td>\n",
       "      <td>-1.049948</td>\n",
       "      <td>-1.290499</td>\n",
       "      <td>0.553467</td>\n",
       "      <td>0.513329</td>\n",
       "      <td>2.010004</td>\n",
       "      <td>3.400211</td>\n",
       "      <td>3.400211</td>\n",
       "      <td>True</td>\n",
       "    </tr>\n",
       "    <tr>\n",
       "      <th>8</th>\n",
       "      <td>0.0</td>\n",
       "      <td>-1.709292</td>\n",
       "      <td>-1.709292</td>\n",
       "      <td>-1.290499</td>\n",
       "      <td>0.553467</td>\n",
       "      <td>0.513329</td>\n",
       "      <td>2.010004</td>\n",
       "      <td>3.400211</td>\n",
       "      <td>3.400211</td>\n",
       "      <td>True</td>\n",
       "    </tr>\n",
       "    <tr>\n",
       "      <th>9</th>\n",
       "      <td>0.0</td>\n",
       "      <td>0.585514</td>\n",
       "      <td>0.585514</td>\n",
       "      <td>1.379185</td>\n",
       "      <td>0.553467</td>\n",
       "      <td>0.005373</td>\n",
       "      <td>-0.200440</td>\n",
       "      <td>0.681810</td>\n",
       "      <td>0.681810</td>\n",
       "      <td>True</td>\n",
       "    </tr>\n",
       "    <tr>\n",
       "      <th>10</th>\n",
       "      <td>1.0</td>\n",
       "      <td>0.704931</td>\n",
       "      <td>1.704931</td>\n",
       "      <td>1.379185</td>\n",
       "      <td>0.553467</td>\n",
       "      <td>-0.068631</td>\n",
       "      <td>-0.126437</td>\n",
       "      <td>0.681810</td>\n",
       "      <td>0.681810</td>\n",
       "      <td>True</td>\n",
       "    </tr>\n",
       "    <tr>\n",
       "      <th>11</th>\n",
       "      <td>1.0</td>\n",
       "      <td>-0.705002</td>\n",
       "      <td>0.294998</td>\n",
       "      <td>0.670143</td>\n",
       "      <td>0.553467</td>\n",
       "      <td>-0.116421</td>\n",
       "      <td>-0.746843</td>\n",
       "      <td>0.013613</td>\n",
       "      <td>0.013613</td>\n",
       "      <td>True</td>\n",
       "    </tr>\n",
       "    <tr>\n",
       "      <th>12</th>\n",
       "      <td>1.0</td>\n",
       "      <td>-0.342065</td>\n",
       "      <td>0.657935</td>\n",
       "      <td>0.670143</td>\n",
       "      <td>0.553467</td>\n",
       "      <td>-0.116421</td>\n",
       "      <td>-0.746843</td>\n",
       "      <td>0.013613</td>\n",
       "      <td>0.013613</td>\n",
       "      <td>True</td>\n",
       "    </tr>\n",
       "    <tr>\n",
       "      <th>13</th>\n",
       "      <td>1.0</td>\n",
       "      <td>0.406075</td>\n",
       "      <td>1.406075</td>\n",
       "      <td>0.670143</td>\n",
       "      <td>0.553467</td>\n",
       "      <td>-0.116421</td>\n",
       "      <td>-0.746843</td>\n",
       "      <td>0.013613</td>\n",
       "      <td>0.013613</td>\n",
       "      <td>True</td>\n",
       "    </tr>\n",
       "    <tr>\n",
       "      <th>14</th>\n",
       "      <td>1.0</td>\n",
       "      <td>-0.289594</td>\n",
       "      <td>0.710406</td>\n",
       "      <td>0.670143</td>\n",
       "      <td>0.553467</td>\n",
       "      <td>-0.116421</td>\n",
       "      <td>-0.746843</td>\n",
       "      <td>0.013613</td>\n",
       "      <td>0.013613</td>\n",
       "      <td>True</td>\n",
       "    </tr>\n",
       "    <tr>\n",
       "      <th>15</th>\n",
       "      <td>1.0</td>\n",
       "      <td>0.574644</td>\n",
       "      <td>1.574644</td>\n",
       "      <td>1.379185</td>\n",
       "      <td>0.553467</td>\n",
       "      <td>-0.068631</td>\n",
       "      <td>-0.126437</td>\n",
       "      <td>0.681810</td>\n",
       "      <td>0.681810</td>\n",
       "      <td>True</td>\n",
       "    </tr>\n",
       "    <tr>\n",
       "      <th>16</th>\n",
       "      <td>1.0</td>\n",
       "      <td>0.734524</td>\n",
       "      <td>1.734524</td>\n",
       "      <td>1.379185</td>\n",
       "      <td>0.553467</td>\n",
       "      <td>-0.068631</td>\n",
       "      <td>-0.126437</td>\n",
       "      <td>0.681810</td>\n",
       "      <td>0.681810</td>\n",
       "      <td>True</td>\n",
       "    </tr>\n",
       "    <tr>\n",
       "      <th>17</th>\n",
       "      <td>1.0</td>\n",
       "      <td>-0.106583</td>\n",
       "      <td>0.893417</td>\n",
       "      <td>0.670143</td>\n",
       "      <td>0.553467</td>\n",
       "      <td>-0.116421</td>\n",
       "      <td>-0.746843</td>\n",
       "      <td>0.013613</td>\n",
       "      <td>0.013613</td>\n",
       "      <td>True</td>\n",
       "    </tr>\n",
       "    <tr>\n",
       "      <th>18</th>\n",
       "      <td>1.0</td>\n",
       "      <td>-1.601427</td>\n",
       "      <td>-0.601427</td>\n",
       "      <td>-0.391822</td>\n",
       "      <td>0.553467</td>\n",
       "      <td>-0.426661</td>\n",
       "      <td>0.443354</td>\n",
       "      <td>0.893571</td>\n",
       "      <td>0.893571</td>\n",
       "      <td>True</td>\n",
       "    </tr>\n",
       "    <tr>\n",
       "      <th>19</th>\n",
       "      <td>1.0</td>\n",
       "      <td>-1.182217</td>\n",
       "      <td>-0.182217</td>\n",
       "      <td>-0.391822</td>\n",
       "      <td>0.553467</td>\n",
       "      <td>-0.426661</td>\n",
       "      <td>0.443354</td>\n",
       "      <td>0.893571</td>\n",
       "      <td>0.893571</td>\n",
       "      <td>True</td>\n",
       "    </tr>\n",
       "  </tbody>\n",
       "</table>\n",
       "</div>"
      ],
      "text/plain": [
       "     x1        x2         y      pred       ref  x1_shap_dev  x2_shap_dev  \\\n",
       "0   0.0  0.976509  0.976509  1.379185  0.553467     0.005373    -0.200440   \n",
       "1   0.0 -1.112258 -1.112258 -1.290499  0.553467     0.513329     2.010004   \n",
       "2   0.0  1.183204  1.183204  1.379185  0.553467     0.005373    -0.200440   \n",
       "3   0.0  1.780727  1.780727  1.379185  0.553467     0.005373    -0.200440   \n",
       "4   0.0  0.206834  0.206834  0.670143  0.553467     0.037233    -0.900497   \n",
       "5   0.0  0.521336  0.521336  0.670143  0.553467     0.037233    -0.900497   \n",
       "6   0.0  1.493425  1.493425  1.379185  0.553467     0.005373    -0.200440   \n",
       "7   0.0 -1.049948 -1.049948 -1.290499  0.553467     0.513329     2.010004   \n",
       "8   0.0 -1.709292 -1.709292 -1.290499  0.553467     0.513329     2.010004   \n",
       "9   0.0  0.585514  0.585514  1.379185  0.553467     0.005373    -0.200440   \n",
       "10  1.0  0.704931  1.704931  1.379185  0.553467    -0.068631    -0.126437   \n",
       "11  1.0 -0.705002  0.294998  0.670143  0.553467    -0.116421    -0.746843   \n",
       "12  1.0 -0.342065  0.657935  0.670143  0.553467    -0.116421    -0.746843   \n",
       "13  1.0  0.406075  1.406075  0.670143  0.553467    -0.116421    -0.746843   \n",
       "14  1.0 -0.289594  0.710406  0.670143  0.553467    -0.116421    -0.746843   \n",
       "15  1.0  0.574644  1.574644  1.379185  0.553467    -0.068631    -0.126437   \n",
       "16  1.0  0.734524  1.734524  1.379185  0.553467    -0.068631    -0.126437   \n",
       "17  1.0 -0.106583  0.893417  0.670143  0.553467    -0.116421    -0.746843   \n",
       "18  1.0 -1.601427 -0.601427 -0.391822  0.553467    -0.426661     0.443354   \n",
       "19  1.0 -1.182217 -0.182217 -0.391822  0.553467    -0.426661     0.443354   \n",
       "\n",
       "    implied_total       dev  check  \n",
       "0        0.681810  0.681810   True  \n",
       "1        3.400211  3.400211   True  \n",
       "2        0.681810  0.681810   True  \n",
       "3        0.681810  0.681810   True  \n",
       "4        0.013613  0.013613   True  \n",
       "5        0.013613  0.013613   True  \n",
       "6        0.681810  0.681810   True  \n",
       "7        3.400211  3.400211   True  \n",
       "8        3.400211  3.400211   True  \n",
       "9        0.681810  0.681810   True  \n",
       "10       0.681810  0.681810   True  \n",
       "11       0.013613  0.013613   True  \n",
       "12       0.013613  0.013613   True  \n",
       "13       0.013613  0.013613   True  \n",
       "14       0.013613  0.013613   True  \n",
       "15       0.681810  0.681810   True  \n",
       "16       0.681810  0.681810   True  \n",
       "17       0.013613  0.013613   True  \n",
       "18       0.893571  0.893571   True  \n",
       "19       0.893571  0.893571   True  "
      ]
     },
     "execution_count": 116,
     "metadata": {},
     "output_type": "execute_result"
    }
   ],
   "source": [
    "# add to data\n",
    "data2[['x1_shap_dev', 'x2_shap_dev']] = sv_dev2\n",
    "data2[\"implied_total\"] = data2.x1_shap_dev + data2.x2_shap_dev + mean_pred\n",
    "data2[\"dev\"] = (data2.pred - data2.ref)**2\n",
    "data2[\"check\"] = np.isclose(data2.dev, data2.implied_total)\n",
    "data2"
   ]
  },
  {
   "cell_type": "markdown",
   "metadata": {},
   "source": [
    "IT WORKS!!!!"
   ]
  }
 ],
 "metadata": {
  "kernelspec": {
   "display_name": "eda",
   "language": "python",
   "name": "python3"
  },
  "language_info": {
   "codemirror_mode": {
    "name": "ipython",
    "version": 3
   },
   "file_extension": ".py",
   "mimetype": "text/x-python",
   "name": "python",
   "nbconvert_exporter": "python",
   "pygments_lexer": "ipython3",
   "version": "3.10.13"
  }
 },
 "nbformat": 4,
 "nbformat_minor": 2
}
