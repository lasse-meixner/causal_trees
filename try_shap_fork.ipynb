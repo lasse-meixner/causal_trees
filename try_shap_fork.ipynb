{
 "cells": [
  {
   "cell_type": "code",
   "execution_count": 1,
   "metadata": {},
   "outputs": [],
   "source": [
    "%load_ext autoreload\n",
    "%autoreload 2"
   ]
  },
  {
   "cell_type": "markdown",
   "metadata": {},
   "source": [
    "I will try get explanations to the squared loss by modifying the default shap code through my local fork:\n",
    "\n",
    "- Fork the shap package\n",
    "- clone it from GitHub\n",
    "- create a new conda environment\n",
    "- install the package in editable mode\n",
    "\n",
    "this works:"
   ]
  },
  {
   "cell_type": "code",
   "execution_count": 2,
   "metadata": {},
   "outputs": [
    {
     "name": "stdout",
     "output_type": "stream",
     "text": [
      "imported from folder\n"
     ]
    },
    {
     "name": "stderr",
     "output_type": "stream",
     "text": [
      "IProgress not found. Please update jupyter and ipywidgets. See https://ipywidgets.readthedocs.io/en/stable/user_install.html\n"
     ]
    }
   ],
   "source": [
    "from shap.explainers import _tree"
   ]
  },
  {
   "cell_type": "markdown",
   "metadata": {},
   "source": [
    "Structure of the treeExplainer\n",
    "\n",
    "- \\_init\\_(): \n",
    "  - creates a treeExplainer object:\n",
    "  - self.model = TreeEnsemble (custom class):\n",
    "    - attribute self.model_output, set to \"raw\" for RFR\n",
    "    - attribute self.objective\n",
    "    - method get_transform() -> this links to custom C++ classes. Here by default the RFR gets \"identity\". We want \"squared_loss\"\n",
    "- shap_values():\n",
    "  - gets transform = self.model.get_transform()\n",
    "  - passes to c function _cext.dense_tree_shap(..., transform)\n",
    "\n",
    "-> Initialising the get_transform() to \"squared_loss\" should do the trick?\n",
    "\n",
    "For details of the changes I made to the shap package, check out the fork.\n",
    "\n"
   ]
  },
  {
   "cell_type": "code",
   "execution_count": 3,
   "metadata": {},
   "outputs": [
    {
     "data": {
      "text/plain": [
       "0.4911965468843005"
      ]
     },
     "execution_count": 3,
     "metadata": {},
     "output_type": "execute_result"
    }
   ],
   "source": [
    "# build a toy model\n",
    "import pandas as pd\n",
    "from sklearn.ensemble import RandomForestRegressor\n",
    "from sklearn.datasets import load_diabetes\n",
    "\n",
    "# Load the Diabetes dataset\n",
    "diabetes = load_diabetes()\n",
    "\n",
    "# create data\n",
    "X = pd.DataFrame(diabetes.data, columns=diabetes.feature_names)\n",
    "y = diabetes.target\n",
    "\n",
    "# train a random forest model\n",
    "model = RandomForestRegressor(n_estimators=50, max_depth=2, random_state=0)\n",
    "model.fit(X, y)\n",
    "model.score(X, y)\n"
   ]
  },
  {
   "cell_type": "code",
   "execution_count": 4,
   "metadata": {},
   "outputs": [],
   "source": [
    "tE = _tree.TreeExplainer(model, data = X, model_output=\"squared_loss\", feature_perturbation=\"interventional\")"
   ]
  },
  {
   "cell_type": "code",
   "execution_count": 5,
   "metadata": {},
   "outputs": [
    {
     "data": {
      "text/plain": [
       "'squared_loss'"
      ]
     },
     "execution_count": 5,
     "metadata": {},
     "output_type": "execute_result"
    }
   ],
   "source": [
    "tE.model_output"
   ]
  },
  {
   "cell_type": "markdown",
   "metadata": {},
   "source": [
    "I change the source code to override the transform argument that will be passed to the c function for shap computation."
   ]
  },
  {
   "cell_type": "code",
   "execution_count": 6,
   "metadata": {},
   "outputs": [
    {
     "data": {
      "text/plain": [
       "'squared_loss'"
      ]
     },
     "execution_count": 6,
     "metadata": {},
     "output_type": "execute_result"
    }
   ],
   "source": [
    "tE.model.get_transform()"
   ]
  },
  {
   "cell_type": "markdown",
   "metadata": {},
   "source": [
    "Let's try compute the shap values for this loss:"
   ]
  },
  {
   "cell_type": "code",
   "execution_count": 7,
   "metadata": {},
   "outputs": [
    {
     "name": "stdout",
     "output_type": "stream",
     "text": [
      "(442, 10)\n"
     ]
    }
   ],
   "source": [
    "print(X.shape)"
   ]
  },
  {
   "cell_type": "code",
   "execution_count": 9,
   "metadata": {},
   "outputs": [
    {
     "data": {
      "text/plain": [
       "26485.97396824045"
      ]
     },
     "execution_count": 9,
     "metadata": {},
     "output_type": "execute_result"
    }
   ],
   "source": [
    "tE.expected_value"
   ]
  },
  {
   "cell_type": "code",
   "execution_count": 11,
   "metadata": {},
   "outputs": [
    {
     "data": {
      "text/plain": [
       "23167.55646157506"
      ]
     },
     "execution_count": 11,
     "metadata": {},
     "output_type": "execute_result"
    }
   ],
   "source": [
    "model.predict(X).mean()**2"
   ]
  },
  {
   "cell_type": "markdown",
   "metadata": {},
   "source": [
    "... not sure if this is the right ballpark..."
   ]
  },
  {
   "cell_type": "code",
   "execution_count": 13,
   "metadata": {},
   "outputs": [
    {
     "data": {
      "text/plain": [
       "(442, 10)"
      ]
     },
     "execution_count": 13,
     "metadata": {},
     "output_type": "execute_result"
    }
   ],
   "source": [
    "# get reference value (mean prediction of model)\n",
    "\n",
    "sv = tE.shap_values(X, y=y)\n",
    "sv.shape"
   ]
  },
  {
   "cell_type": "markdown",
   "metadata": {},
   "source": [
    "So the code is running. Let's check if I get what I want. For this purpose I construct a super simple tree."
   ]
  },
  {
   "cell_type": "code",
   "execution_count": 14,
   "metadata": {},
   "outputs": [
    {
     "data": {
      "text/plain": [
       "[1, 1, 1, 1, 1, 1, 1, 1, 1, 1, 2, 2, 2, 2, 2, 2, 2, 2, 2, 2]"
      ]
     },
     "execution_count": 14,
     "metadata": {},
     "output_type": "execute_result"
    }
   ],
   "source": [
    "[1]*10 + [2]*10"
   ]
  },
  {
   "cell_type": "code",
   "execution_count": 15,
   "metadata": {},
   "outputs": [
    {
     "data": {
      "text/html": [
       "<div>\n",
       "<style scoped>\n",
       "    .dataframe tbody tr th:only-of-type {\n",
       "        vertical-align: middle;\n",
       "    }\n",
       "\n",
       "    .dataframe tbody tr th {\n",
       "        vertical-align: top;\n",
       "    }\n",
       "\n",
       "    .dataframe thead th {\n",
       "        text-align: right;\n",
       "    }\n",
       "</style>\n",
       "<table border=\"1\" class=\"dataframe\">\n",
       "  <thead>\n",
       "    <tr style=\"text-align: right;\">\n",
       "      <th></th>\n",
       "      <th>x1</th>\n",
       "      <th>x2</th>\n",
       "      <th>y</th>\n",
       "    </tr>\n",
       "  </thead>\n",
       "  <tbody>\n",
       "    <tr>\n",
       "      <th>0</th>\n",
       "      <td>0.0</td>\n",
       "      <td>1.0</td>\n",
       "      <td>1.0</td>\n",
       "    </tr>\n",
       "    <tr>\n",
       "      <th>1</th>\n",
       "      <td>0.0</td>\n",
       "      <td>0.0</td>\n",
       "      <td>0.0</td>\n",
       "    </tr>\n",
       "    <tr>\n",
       "      <th>2</th>\n",
       "      <td>0.0</td>\n",
       "      <td>1.0</td>\n",
       "      <td>1.0</td>\n",
       "    </tr>\n",
       "    <tr>\n",
       "      <th>3</th>\n",
       "      <td>0.0</td>\n",
       "      <td>0.0</td>\n",
       "      <td>0.0</td>\n",
       "    </tr>\n",
       "    <tr>\n",
       "      <th>4</th>\n",
       "      <td>0.0</td>\n",
       "      <td>1.0</td>\n",
       "      <td>1.0</td>\n",
       "    </tr>\n",
       "    <tr>\n",
       "      <th>5</th>\n",
       "      <td>0.0</td>\n",
       "      <td>0.0</td>\n",
       "      <td>0.0</td>\n",
       "    </tr>\n",
       "    <tr>\n",
       "      <th>6</th>\n",
       "      <td>0.0</td>\n",
       "      <td>1.0</td>\n",
       "      <td>1.0</td>\n",
       "    </tr>\n",
       "    <tr>\n",
       "      <th>7</th>\n",
       "      <td>0.0</td>\n",
       "      <td>0.0</td>\n",
       "      <td>0.0</td>\n",
       "    </tr>\n",
       "    <tr>\n",
       "      <th>8</th>\n",
       "      <td>0.0</td>\n",
       "      <td>1.0</td>\n",
       "      <td>1.0</td>\n",
       "    </tr>\n",
       "    <tr>\n",
       "      <th>9</th>\n",
       "      <td>0.0</td>\n",
       "      <td>0.0</td>\n",
       "      <td>0.0</td>\n",
       "    </tr>\n",
       "    <tr>\n",
       "      <th>10</th>\n",
       "      <td>1.0</td>\n",
       "      <td>1.0</td>\n",
       "      <td>2.0</td>\n",
       "    </tr>\n",
       "    <tr>\n",
       "      <th>11</th>\n",
       "      <td>1.0</td>\n",
       "      <td>0.0</td>\n",
       "      <td>1.0</td>\n",
       "    </tr>\n",
       "    <tr>\n",
       "      <th>12</th>\n",
       "      <td>1.0</td>\n",
       "      <td>1.0</td>\n",
       "      <td>2.0</td>\n",
       "    </tr>\n",
       "    <tr>\n",
       "      <th>13</th>\n",
       "      <td>1.0</td>\n",
       "      <td>0.0</td>\n",
       "      <td>1.0</td>\n",
       "    </tr>\n",
       "    <tr>\n",
       "      <th>14</th>\n",
       "      <td>1.0</td>\n",
       "      <td>1.0</td>\n",
       "      <td>2.0</td>\n",
       "    </tr>\n",
       "    <tr>\n",
       "      <th>15</th>\n",
       "      <td>1.0</td>\n",
       "      <td>0.0</td>\n",
       "      <td>1.0</td>\n",
       "    </tr>\n",
       "    <tr>\n",
       "      <th>16</th>\n",
       "      <td>1.0</td>\n",
       "      <td>1.0</td>\n",
       "      <td>2.0</td>\n",
       "    </tr>\n",
       "    <tr>\n",
       "      <th>17</th>\n",
       "      <td>1.0</td>\n",
       "      <td>0.0</td>\n",
       "      <td>1.0</td>\n",
       "    </tr>\n",
       "    <tr>\n",
       "      <th>18</th>\n",
       "      <td>1.0</td>\n",
       "      <td>1.0</td>\n",
       "      <td>2.0</td>\n",
       "    </tr>\n",
       "    <tr>\n",
       "      <th>19</th>\n",
       "      <td>1.0</td>\n",
       "      <td>0.0</td>\n",
       "      <td>1.0</td>\n",
       "    </tr>\n",
       "  </tbody>\n",
       "</table>\n",
       "</div>"
      ],
      "text/plain": [
       "     x1   x2    y\n",
       "0   0.0  1.0  1.0\n",
       "1   0.0  0.0  0.0\n",
       "2   0.0  1.0  1.0\n",
       "3   0.0  0.0  0.0\n",
       "4   0.0  1.0  1.0\n",
       "5   0.0  0.0  0.0\n",
       "6   0.0  1.0  1.0\n",
       "7   0.0  0.0  0.0\n",
       "8   0.0  1.0  1.0\n",
       "9   0.0  0.0  0.0\n",
       "10  1.0  1.0  2.0\n",
       "11  1.0  0.0  1.0\n",
       "12  1.0  1.0  2.0\n",
       "13  1.0  0.0  1.0\n",
       "14  1.0  1.0  2.0\n",
       "15  1.0  0.0  1.0\n",
       "16  1.0  1.0  2.0\n",
       "17  1.0  0.0  1.0\n",
       "18  1.0  1.0  2.0\n",
       "19  1.0  0.0  1.0"
      ]
     },
     "execution_count": 15,
     "metadata": {},
     "output_type": "execute_result"
    }
   ],
   "source": [
    "from sklearn.tree import DecisionTreeRegressor\n",
    "\n",
    "x1 = [0]*10 + [1.0]*10\n",
    "x2 = [1.0,0]*10\n",
    "data = pd.DataFrame({\"x1\":x1, \"x2\":x2})\n",
    "data[\"y\"] = data.x1 + data.x2\n",
    "\n",
    "data.head(20)"
   ]
  },
  {
   "cell_type": "code",
   "execution_count": 16,
   "metadata": {},
   "outputs": [
    {
     "data": {
      "text/plain": [
       "1.0"
      ]
     },
     "execution_count": 16,
     "metadata": {},
     "output_type": "execute_result"
    }
   ],
   "source": [
    "# train Decision Tree with depth = 2\n",
    "X = data[[\"x1\", \"x2\"]]\n",
    "y = data.y\n",
    "\n",
    "simple_tree = DecisionTreeRegressor(max_depth=2)\n",
    "simple_tree.fit(X = X, y = y)\n",
    "\n",
    "simple_tree.score(X = X, y = y)"
   ]
  },
  {
   "cell_type": "code",
   "execution_count": 17,
   "metadata": {},
   "outputs": [
    {
     "data": {
      "text/plain": [
       "[Text(0.5, 0.8333333333333334, 'x2 <= 0.5\\nsquared_error = 0.5\\nsamples = 20\\nvalue = 1.0'),\n",
       " Text(0.25, 0.5, 'x1 <= 0.5\\nsquared_error = 0.25\\nsamples = 10\\nvalue = 0.5'),\n",
       " Text(0.125, 0.16666666666666666, 'squared_error = 0.0\\nsamples = 5\\nvalue = 0.0'),\n",
       " Text(0.375, 0.16666666666666666, 'squared_error = 0.0\\nsamples = 5\\nvalue = 1.0'),\n",
       " Text(0.75, 0.5, 'x1 <= 0.5\\nsquared_error = 0.25\\nsamples = 10\\nvalue = 1.5'),\n",
       " Text(0.625, 0.16666666666666666, 'squared_error = 0.0\\nsamples = 5\\nvalue = 1.0'),\n",
       " Text(0.875, 0.16666666666666666, 'squared_error = 0.0\\nsamples = 5\\nvalue = 2.0')]"
      ]
     },
     "execution_count": 17,
     "metadata": {},
     "output_type": "execute_result"
    },
    {
     "data": {
      "image/png": "[encoded data removed]",
      "text/plain": [
       "<Figure size 640x480 with 1 Axes>"
      ]
     },
     "metadata": {},
     "output_type": "display_data"
    }
   ],
   "source": [
    "# visualize the tree\n",
    "\n",
    "from sklearn.tree import plot_tree\n",
    "\n",
    "plot_tree(simple_tree, feature_names=[\"x1\", \"x2\"], filled=True)\n"
   ]
  },
  {
   "cell_type": "markdown",
   "metadata": {},
   "source": [
    "Let's first initalize a TreeExplainer for the purpose of **prediction explanation**:"
   ]
  },
  {
   "cell_type": "code",
   "execution_count": 18,
   "metadata": {},
   "outputs": [],
   "source": [
    "simple_tE = _tree.TreeExplainer(simple_tree, data = X, model_output=\"raw\", feature_perturbation=\"interventional\")"
   ]
  },
  {
   "cell_type": "code",
   "execution_count": 19,
   "metadata": {},
   "outputs": [
    {
     "data": {
      "text/plain": [
       "'identity'"
      ]
     },
     "execution_count": 19,
     "metadata": {},
     "output_type": "execute_result"
    }
   ],
   "source": [
    "simple_tE.model.get_transform()"
   ]
  },
  {
   "cell_type": "code",
   "execution_count": 20,
   "metadata": {},
   "outputs": [
    {
     "data": {
      "text/plain": [
       "(20, 2)"
      ]
     },
     "execution_count": 20,
     "metadata": {},
     "output_type": "execute_result"
    }
   ],
   "source": [
    "prediction_sv = simple_tE.shap_values(data[[\"x1\", \"x2\"]])\n",
    "prediction_sv.shape"
   ]
  },
  {
   "cell_type": "code",
   "execution_count": 21,
   "metadata": {},
   "outputs": [
    {
     "data": {
      "text/plain": [
       "array([[-0.5,  0.5],\n",
       "       [-0.5, -0.5],\n",
       "       [-0.5,  0.5],\n",
       "       [-0.5, -0.5],\n",
       "       [-0.5,  0.5],\n",
       "       [-0.5, -0.5],\n",
       "       [-0.5,  0.5],\n",
       "       [-0.5, -0.5],\n",
       "       [-0.5,  0.5],\n",
       "       [-0.5, -0.5],\n",
       "       [ 0.5,  0.5],\n",
       "       [ 0.5, -0.5],\n",
       "       [ 0.5,  0.5],\n",
       "       [ 0.5, -0.5],\n",
       "       [ 0.5,  0.5],\n",
       "       [ 0.5, -0.5],\n",
       "       [ 0.5,  0.5],\n",
       "       [ 0.5, -0.5],\n",
       "       [ 0.5,  0.5],\n",
       "       [ 0.5, -0.5]])"
      ]
     },
     "execution_count": 21,
     "metadata": {},
     "output_type": "execute_result"
    }
   ],
   "source": [
    "prediction_sv"
   ]
  },
  {
   "cell_type": "markdown",
   "metadata": {},
   "source": [
    "This all works correctly also in my modified shap code. Let's now try to compute the shap values for the squared deviation from the mean prediction:"
   ]
  },
  {
   "cell_type": "code",
   "execution_count": 28,
   "metadata": {},
   "outputs": [
    {
     "name": "stdout",
     "output_type": "stream",
     "text": [
      "imported from folder\n"
     ]
    }
   ],
   "source": [
    "simple_tE_dev = _tree.TreeExplainer(simple_tree, data = X, model_output=\"squared_loss\", feature_perturbation=\"interventional\")"
   ]
  },
  {
   "cell_type": "code",
   "execution_count": 30,
   "metadata": {},
   "outputs": [
    {
     "ename": "TypeError",
     "evalue": "TreeExplainer.__dynamic_expected_value() missing 1 required positional argument: 'y'",
     "output_type": "error",
     "traceback": [
      "\u001b[0;31m---------------------------------------------------------------------------\u001b[0m",
      "\u001b[0;31mTypeError\u001b[0m                                 Traceback (most recent call last)",
      "Cell \u001b[0;32mIn[30], line 1\u001b[0m\n\u001b[0;32m----> 1\u001b[0m \u001b[43msimple_tE_dev\u001b[49m\u001b[38;5;241;43m.\u001b[39;49m\u001b[43mexpected_value\u001b[49m\u001b[43m(\u001b[49m\u001b[43m)\u001b[49m\n",
      "\u001b[0;31mTypeError\u001b[0m: TreeExplainer.__dynamic_expected_value() missing 1 required positional argument: 'y'"
     ]
    }
   ],
   "source": [
    "simple_tE_dev.expected_value()"
   ]
  },
  {
   "cell_type": "code",
   "execution_count": 23,
   "metadata": {},
   "outputs": [
    {
     "data": {
      "text/plain": [
       "'squared_loss'"
      ]
     },
     "execution_count": 23,
     "metadata": {},
     "output_type": "execute_result"
    }
   ],
   "source": [
    "simple_tE_dev.model.get_transform()"
   ]
  },
  {
   "cell_type": "markdown",
   "metadata": {},
   "source": [
    "To compute the deviations, we need to pass our reference value in a vectorized fashion to the y argument:"
   ]
  },
  {
   "cell_type": "code",
   "execution_count": 42,
   "metadata": {},
   "outputs": [
    {
     "data": {
      "text/plain": [
       "0.5"
      ]
     },
     "execution_count": 42,
     "metadata": {},
     "output_type": "execute_result"
    }
   ],
   "source": [
    "((data.y - data.y.mean())**2).mean()"
   ]
  },
  {
   "cell_type": "code",
   "execution_count": 34,
   "metadata": {},
   "outputs": [],
   "source": [
    "# get reference vector\n",
    "import numpy as np\n",
    "\n",
    "ref = np.array([0.5]*20)"
   ]
  },
  {
   "cell_type": "code",
   "execution_count": 35,
   "metadata": {},
   "outputs": [
    {
     "data": {
      "text/plain": [
       "(20, 2)"
      ]
     },
     "execution_count": 35,
     "metadata": {},
     "output_type": "execute_result"
    }
   ],
   "source": [
    "dev_sv = simple_tE_dev.shap_values(data[[\"x1\", \"x2\"]], y=ref)\n",
    "dev_sv.shape"
   ]
  },
  {
   "cell_type": "code",
   "execution_count": 36,
   "metadata": {},
   "outputs": [
    {
     "data": {
      "text/plain": [
       "array([[-0.75,  0.25],\n",
       "       [-0.25, -0.25],\n",
       "       [-0.75,  0.25],\n",
       "       [-0.25, -0.25],\n",
       "       [-0.75,  0.25],\n",
       "       [-0.25, -0.25],\n",
       "       [-0.75,  0.25],\n",
       "       [-0.25, -0.25],\n",
       "       [-0.75,  0.25],\n",
       "       [-0.25, -0.25],\n",
       "       [ 0.75,  0.75],\n",
       "       [ 0.25, -0.75],\n",
       "       [ 0.75,  0.75],\n",
       "       [ 0.25, -0.75],\n",
       "       [ 0.75,  0.75],\n",
       "       [ 0.25, -0.75],\n",
       "       [ 0.75,  0.75],\n",
       "       [ 0.25, -0.75],\n",
       "       [ 0.75,  0.75],\n",
       "       [ 0.25, -0.75]])"
      ]
     },
     "execution_count": 36,
     "metadata": {},
     "output_type": "execute_result"
    }
   ],
   "source": [
    "dev_sv"
   ]
  },
  {
   "cell_type": "code",
   "execution_count": 39,
   "metadata": {},
   "outputs": [
    {
     "data": {
      "text/html": [
       "<div>\n",
       "<style scoped>\n",
       "    .dataframe tbody tr th:only-of-type {\n",
       "        vertical-align: middle;\n",
       "    }\n",
       "\n",
       "    .dataframe tbody tr th {\n",
       "        vertical-align: top;\n",
       "    }\n",
       "\n",
       "    .dataframe thead th {\n",
       "        text-align: right;\n",
       "    }\n",
       "</style>\n",
       "<table border=\"1\" class=\"dataframe\">\n",
       "  <thead>\n",
       "    <tr style=\"text-align: right;\">\n",
       "      <th></th>\n",
       "      <th>x1</th>\n",
       "      <th>x2</th>\n",
       "      <th>y</th>\n",
       "    </tr>\n",
       "  </thead>\n",
       "  <tbody>\n",
       "    <tr>\n",
       "      <th>0</th>\n",
       "      <td>0.0</td>\n",
       "      <td>1.0</td>\n",
       "      <td>1.0</td>\n",
       "    </tr>\n",
       "    <tr>\n",
       "      <th>1</th>\n",
       "      <td>0.0</td>\n",
       "      <td>0.0</td>\n",
       "      <td>0.0</td>\n",
       "    </tr>\n",
       "    <tr>\n",
       "      <th>2</th>\n",
       "      <td>0.0</td>\n",
       "      <td>1.0</td>\n",
       "      <td>1.0</td>\n",
       "    </tr>\n",
       "    <tr>\n",
       "      <th>3</th>\n",
       "      <td>0.0</td>\n",
       "      <td>0.0</td>\n",
       "      <td>0.0</td>\n",
       "    </tr>\n",
       "    <tr>\n",
       "      <th>4</th>\n",
       "      <td>0.0</td>\n",
       "      <td>1.0</td>\n",
       "      <td>1.0</td>\n",
       "    </tr>\n",
       "    <tr>\n",
       "      <th>5</th>\n",
       "      <td>0.0</td>\n",
       "      <td>0.0</td>\n",
       "      <td>0.0</td>\n",
       "    </tr>\n",
       "    <tr>\n",
       "      <th>6</th>\n",
       "      <td>0.0</td>\n",
       "      <td>1.0</td>\n",
       "      <td>1.0</td>\n",
       "    </tr>\n",
       "    <tr>\n",
       "      <th>7</th>\n",
       "      <td>0.0</td>\n",
       "      <td>0.0</td>\n",
       "      <td>0.0</td>\n",
       "    </tr>\n",
       "    <tr>\n",
       "      <th>8</th>\n",
       "      <td>0.0</td>\n",
       "      <td>1.0</td>\n",
       "      <td>1.0</td>\n",
       "    </tr>\n",
       "    <tr>\n",
       "      <th>9</th>\n",
       "      <td>0.0</td>\n",
       "      <td>0.0</td>\n",
       "      <td>0.0</td>\n",
       "    </tr>\n",
       "    <tr>\n",
       "      <th>10</th>\n",
       "      <td>1.0</td>\n",
       "      <td>1.0</td>\n",
       "      <td>2.0</td>\n",
       "    </tr>\n",
       "    <tr>\n",
       "      <th>11</th>\n",
       "      <td>1.0</td>\n",
       "      <td>0.0</td>\n",
       "      <td>1.0</td>\n",
       "    </tr>\n",
       "    <tr>\n",
       "      <th>12</th>\n",
       "      <td>1.0</td>\n",
       "      <td>1.0</td>\n",
       "      <td>2.0</td>\n",
       "    </tr>\n",
       "    <tr>\n",
       "      <th>13</th>\n",
       "      <td>1.0</td>\n",
       "      <td>0.0</td>\n",
       "      <td>1.0</td>\n",
       "    </tr>\n",
       "    <tr>\n",
       "      <th>14</th>\n",
       "      <td>1.0</td>\n",
       "      <td>1.0</td>\n",
       "      <td>2.0</td>\n",
       "    </tr>\n",
       "    <tr>\n",
       "      <th>15</th>\n",
       "      <td>1.0</td>\n",
       "      <td>0.0</td>\n",
       "      <td>1.0</td>\n",
       "    </tr>\n",
       "    <tr>\n",
       "      <th>16</th>\n",
       "      <td>1.0</td>\n",
       "      <td>1.0</td>\n",
       "      <td>2.0</td>\n",
       "    </tr>\n",
       "    <tr>\n",
       "      <th>17</th>\n",
       "      <td>1.0</td>\n",
       "      <td>0.0</td>\n",
       "      <td>1.0</td>\n",
       "    </tr>\n",
       "    <tr>\n",
       "      <th>18</th>\n",
       "      <td>1.0</td>\n",
       "      <td>1.0</td>\n",
       "      <td>2.0</td>\n",
       "    </tr>\n",
       "    <tr>\n",
       "      <th>19</th>\n",
       "      <td>1.0</td>\n",
       "      <td>0.0</td>\n",
       "      <td>1.0</td>\n",
       "    </tr>\n",
       "  </tbody>\n",
       "</table>\n",
       "</div>"
      ],
      "text/plain": [
       "     x1   x2    y\n",
       "0   0.0  1.0  1.0\n",
       "1   0.0  0.0  0.0\n",
       "2   0.0  1.0  1.0\n",
       "3   0.0  0.0  0.0\n",
       "4   0.0  1.0  1.0\n",
       "5   0.0  0.0  0.0\n",
       "6   0.0  1.0  1.0\n",
       "7   0.0  0.0  0.0\n",
       "8   0.0  1.0  1.0\n",
       "9   0.0  0.0  0.0\n",
       "10  1.0  1.0  2.0\n",
       "11  1.0  0.0  1.0\n",
       "12  1.0  1.0  2.0\n",
       "13  1.0  0.0  1.0\n",
       "14  1.0  1.0  2.0\n",
       "15  1.0  0.0  1.0\n",
       "16  1.0  1.0  2.0\n",
       "17  1.0  0.0  1.0\n",
       "18  1.0  1.0  2.0\n",
       "19  1.0  0.0  1.0"
      ]
     },
     "execution_count": 39,
     "metadata": {},
     "output_type": "execute_result"
    }
   ],
   "source": [
    "data.head(20)"
   ]
  },
  {
   "cell_type": "code",
   "execution_count": 38,
   "metadata": {},
   "outputs": [
    {
     "data": {
      "text/plain": [
       "0.75"
      ]
     },
     "execution_count": 38,
     "metadata": {},
     "output_type": "execute_result"
    }
   ],
   "source": [
    "simple_tE_dev.expected_value(ref)"
   ]
  },
  {
   "cell_type": "markdown",
   "metadata": {},
   "source": [
    "### OLD"
   ]
  },
  {
   "cell_type": "markdown",
   "metadata": {},
   "source": [
    "The code runs! However, I am not sure if these values are what I want - one needs to be aware that the computed shap values here are the deviation from the \"baseline\". I am not sure how this is computed for a loss... I will need to check this, so come back to this later.\n",
    "\n",
    "Let's try to by using the square expansion:"
   ]
  },
  {
   "cell_type": "code",
   "execution_count": null,
   "metadata": {},
   "outputs": [],
   "source": [
    "def get_squared_loss_shap_from_shap_values(model, X, y):\n",
    "    tE = _tree.TreeExplainer(model, X, feature_perturbation=\"tree_path_dependent\")\n",
    "    identity_shap = tE.shap_values(X,y, check_additivity=True, custom_transform = \"identity\")\n",
    "    squared_shap = tE.shap_values(X, y, check_additivity=False, custom_transform = \"square\")\n",
    "    # compute row wise transformation: y vector is subtracted and multiplied row wise!\n",
    "    squared_loss_shap = (y**2)[:, np.newaxis] - 2*(y[:, np.newaxis]*identity_shap) + squared_shap\n",
    "    return squared_loss_shap\n",
    "\n",
    "sl_shap = get_squared_loss_shap_from_shap_values(model, X, y)"
   ]
  },
  {
   "cell_type": "code",
   "execution_count": null,
   "metadata": {},
   "outputs": [
    {
     "data": {
      "text/plain": [
       "(442, 10)"
      ]
     },
     "execution_count": 117,
     "metadata": {},
     "output_type": "execute_result"
    }
   ],
   "source": [
    "sl_shap.shape"
   ]
  },
  {
   "cell_type": "code",
   "execution_count": null,
   "metadata": {},
   "outputs": [
    {
     "data": {
      "text/plain": [
       "array([ 211344.992775  ,   64938.89463125,  189397.36990498,\n",
       "        421013.02260472,  197690.57136623,  105344.74271027,\n",
       "        206476.55049391,   46348.3858545 ,  117751.13272823,\n",
       "        937504.96739907,  113731.26054282,   47762.37100432,\n",
       "        340901.76199905,  338456.6977766 ,  152728.97498537,\n",
       "        286950.87790477,  258514.34484023,  198900.87787619,\n",
       "        104981.84270792,  298173.59598763,   53858.64645372,\n",
       "         29666.52871967,   53910.33544337,  566412.33904604,\n",
       "        334461.51536332,  407912.52902697,  203609.92103577,\n",
       "         68217.14922094,  178826.40359236,  790722.38070709,\n",
       "        164035.46414555,   41632.82330105, 1119200.06837586,\n",
       "         85453.1543444 ,   49772.60004987,  103733.36264967,\n",
       "        676527.47144823,  750319.11534856,  598277.3496452 ,\n",
       "         76335.459807  ,  101516.7271275 ,   36606.3054685 ,\n",
       "         43766.28025364,   95311.59541958,  642711.51084037,\n",
       "         33895.86330604,  377905.96690359,  217610.94034373,\n",
       "         64938.89463125,  194106.02609934,  257225.52950443,\n",
       "        491436.9555037 ,   41412.82692656,  119805.6982068 ,\n",
       "        327015.46816071,  178710.25591254,   23130.4873055 ,\n",
       "         17946.97522202,  298373.0299533 ,  287011.74521045,\n",
       "         44084.89324924,  203099.33478217,   32892.18185679,\n",
       "        178476.97285646,   58367.25296278,  262059.58740678,\n",
       "        230407.98002214,  104981.84270792,  274002.57939806,\n",
       "        337541.72881941,   28579.89926153,  690134.65399372,\n",
       "        403897.17941455,  131639.93776026,   73997.98631635,\n",
       "         19462.49225912,  280812.72831247,  423267.57689844,\n",
       "        632089.87563674,  140810.81404047,  196089.82646242,\n",
       "         30148.00781444,   33046.41709408,  442728.08706857,\n",
       "         49772.60004987,  195550.70550452,   36606.3054685 ,\n",
       "        176815.25286274,   22404.19116504,  135895.3764756 ,\n",
       "        107411.37216841,  256078.28939993,   22760.29036151,\n",
       "        103123.37966896,   91438.33650331,  269995.7231122 ,\n",
       "        214812.05088379,  744484.60000125,   92271.20735421,\n",
       "         70608.1095056 ,  155323.87754186,  115460.66056029,\n",
       "        899227.93514296,  383606.81837611,   88530.29156056,\n",
       "         34015.61390845,  195130.03266136,  204954.71038249,\n",
       "        508455.91475744,   73997.20671471,  120231.14891723,\n",
       "         39985.35143339,  598528.88960055,  848690.57806462,\n",
       "        625483.88455523,  517514.63925145,  718398.09546002,\n",
       "        779853.40243027,  318164.33444748,  397659.84170787,\n",
       "        418014.29477115,  285069.35187803,  296547.42802185,\n",
       "         62232.82524045,  142049.81858395,  256875.10535751,\n",
       "        109498.00162655,  122616.79728101,  145394.57562404,\n",
       "        690286.3757618 ,  702173.44572046,  268009.13965666,\n",
       "        126510.53107143,   78511.93029635,  104195.91497991,\n",
       "        709105.55222062,   82105.18921262,  751001.971971  ,\n",
       "       1069359.30910133,  756788.97374103,  138093.36312727,\n",
       "        972143.6439069 ,  538426.55652939,   40278.38539155,\n",
       "        290158.40758124,  652246.30214101,  300392.41413283,\n",
       "        146751.91124717,   92197.69606518,  155114.21175971,\n",
       "        813011.11725016,   85254.93770746,  838575.52328099,\n",
       "         58342.57703941,  374382.68983256,  320287.66418421,\n",
       "          9015.28649061,   73129.82593378,  103123.37966896,\n",
       "        357000.24660609,   34116.98882325,  436224.89256332,\n",
       "        292651.59699777,  160150.922244  ,  459377.67983411,\n",
       "         41632.82330105,   57105.74734056,  452054.33895694,\n",
       "        686542.60178315,  227655.33841309,   27513.2698034 ,\n",
       "         63332.26517311,  829820.64559996,  113353.31805332,\n",
       "        222179.95211354,  175812.17306935,  541781.73051834,\n",
       "        486716.4391598 ,   74998.67138007,  230311.3010037 ,\n",
       "        113819.09821302,   48249.78648145,  186656.44292316,\n",
       "        345264.16671523,  679236.07197223,  100100.20718148,\n",
       "        177327.89353788,  221109.6977846 ,  205770.91153382,\n",
       "         71270.20365359,  847892.34106703,  322302.80363169,\n",
       "         93199.38073341,  131204.71281472,   77960.08870646,\n",
       "        138022.62385942,   60048.18477833,  165628.64067263,\n",
       "        199813.88416991,   79950.15455065,  267720.96646975,\n",
       "         19700.2341383 ,  378913.06415606,  469172.48508883,\n",
       "        757580.41202823,   88643.99694171,  370522.44713621,\n",
       "        383531.92558536,  221544.5767375 ,   67193.60328581,\n",
       "        364007.5623908 ,   45891.35347388,   56068.87473629,\n",
       "         29484.13856305,   49772.60004987,  645057.56673353,\n",
       "        583908.80581931,  833545.12154043,  462978.01040668,\n",
       "        350881.77036657,   69878.78300566,   90817.58134909,\n",
       "        646806.34280321,  241873.89103455,   68072.18371388,\n",
       "        411660.54167529,   68212.15354752,  128932.46313533,\n",
       "        274310.56604396,   34116.98882325,  456726.75049479,\n",
       "        241884.17102797,  661612.17391504,   79346.1403971 ,\n",
       "        575227.06515309,  164079.88555659,   41966.26697158,\n",
       "         60179.00625683,  664252.84714843,  660135.8072172 ,\n",
       "        714259.574328  ,  333552.16242483,   58632.3767987 ,\n",
       "         27513.2698034 ,  347283.14061971,  170770.36753812,\n",
       "         59930.91595168,   31709.87623575,  631740.96282853,\n",
       "        437857.36848824,  871609.99221108,  547410.51403002,\n",
       "         78301.52930371,  208013.91758049,  912462.49993823,\n",
       "        243388.05227438, 1159380.45740224,   44912.61414807,\n",
       "         88592.643827  ,   30660.25046696,   19700.2341383 ,\n",
       "        117425.25693085,  901601.54501225,  148030.70241489,\n",
       "        208212.23031298,   56215.24603678,   25440.01088712,\n",
       "        129170.82096474,  650149.91936871,   85453.1543444 ,\n",
       "        387223.18349071,  162686.00949212,  336741.93321054,\n",
       "        574772.11084762,   45037.93108993,   90728.71020669,\n",
       "        767121.07797543,   48127.17110832,  107769.85082225,\n",
       "        422517.33285212,  676231.10761294,   87517.17250947,\n",
       "        548315.05481884,  348661.61719383,  250635.0151328 ,\n",
       "        537695.71736662,   42715.69576291,  473991.92394819,\n",
       "         73272.04192193,   40921.8625963 , 1049459.50452845,\n",
       "        585454.83822626,   80298.55975448,  392107.03137518,\n",
       "         36606.3054685 ,   66392.37885885,   89531.70704517,\n",
       "         13167.19847319,  181161.77264357,   78360.98243653,\n",
       "        720379.3359474 ,   49382.917776  ,  370936.91108372,\n",
       "        528809.27031226,  665334.18964042,  153269.6188903 ,\n",
       "         24303.1050635 ,  292572.65707382,  143197.44349861,\n",
       "        197077.55249188,  111705.88826358,  310944.46280886,\n",
       "        224096.32724274,  248793.22136867,  211743.3419606 ,\n",
       "        104981.84270792,  464637.2849851 ,  357389.72895329,\n",
       "        114783.80719877,  357606.83979795,  139616.58655569,\n",
       "        495243.50146033,  546971.99332121,  607165.86840087,\n",
       "        610751.21106955,  348826.64394367,  168762.43427181,\n",
       "        534622.09178208,   55215.30630188,  197430.85848927,\n",
       "        581445.45061014,  419160.9474403 ,  681979.05274726,\n",
       "        264304.078161  ,   60179.00625683,  103298.11325213,\n",
       "        895415.59910596,   85812.82261784,  482057.49656104,\n",
       "         88307.08910509,  490807.80641125,  676689.71575015,\n",
       "        306640.841779  ,  122755.90104029,  404688.96054394,\n",
       "        198932.29508883,  181340.00753007,   81282.60416079,\n",
       "        235688.15336184,   87008.70786138,  552459.81012931,\n",
       "         58632.3767987 ,   67924.46598089,  116748.18387254,\n",
       "        706614.13016031,   42830.58733302,   35301.78861036,\n",
       "        466866.68365605,   91438.33650331,  953288.24268473,\n",
       "        757815.61186939,  351450.68480796,  978493.37027961,\n",
       "         34021.81072816,  687961.24069001,  421381.34235991,\n",
       "        511729.36756837,  552616.59870194,  147007.47787571,\n",
       "        270216.03954863,   46979.3411336 ,  383802.28608744,\n",
       "         58367.25296278,  301775.43423804,  203714.08659873,\n",
       "        463696.35339785,  134881.93560307,  542540.30537872,\n",
       "        594352.01757052,   20606.86359643,   25097.42289819,\n",
       "        119841.92456238,  159771.08406173,   87316.02318075,\n",
       "         46992.52745346,  504195.36288102,   60048.18477833,\n",
       "        404455.99104184,  120012.94534532,   31431.47579288,\n",
       "        726221.97766565,   46979.3411336 ,  152943.96133116,\n",
       "         55599.11788242,  717738.66316393,  658729.07427204,\n",
       "         23446.75197085,  387979.41902915,  570715.51527588,\n",
       "        514834.00191725,  297357.15271004,   97278.22487772,\n",
       "        283779.05398256,  719460.35009685,  842488.5913562 ,\n",
       "        746701.75081605,   60179.00625683,  192298.49033529,\n",
       "        352653.57890191,  323577.44939645,  432847.89251083,\n",
       "        183211.31664327,  639012.55213054,  139561.70709248,\n",
       "        166915.09497753,  297931.73025598,  638155.52342406,\n",
       "         29546.65503364,   79984.54783535,   22480.12251271,\n",
       "        228805.17708063,  432004.24882437,  511609.35667193,\n",
       "         83891.74193997,  118167.98772723,  248139.62870725,\n",
       "        140999.88459996,   49117.66385959,  906018.14058677,\n",
       "         99093.78009474,  353339.92360178,   50952.90878102,\n",
       "        281442.45994926,   60179.00625683,   28956.98574869,\n",
       "         48365.97059173,   28579.89926153,  298363.02854035,\n",
       "        119089.19008689,  189576.77374509,  465077.9407726 ,\n",
       "         36826.25223362])"
      ]
     },
     "execution_count": 118,
     "metadata": {},
     "output_type": "execute_result"
    }
   ],
   "source": [
    "sl_shap.sum(axis=1)"
   ]
  },
  {
   "cell_type": "code",
   "execution_count": null,
   "metadata": {},
   "outputs": [
    {
     "data": {
      "text/html": [
       "<div>\n",
       "<style scoped>\n",
       "    .dataframe tbody tr th:only-of-type {\n",
       "        vertical-align: middle;\n",
       "    }\n",
       "\n",
       "    .dataframe tbody tr th {\n",
       "        vertical-align: top;\n",
       "    }\n",
       "\n",
       "    .dataframe thead th {\n",
       "        text-align: right;\n",
       "    }\n",
       "</style>\n",
       "<table border=\"1\" class=\"dataframe\">\n",
       "  <thead>\n",
       "    <tr style=\"text-align: right;\">\n",
       "      <th></th>\n",
       "      <th>prediction</th>\n",
       "      <th>output</th>\n",
       "      <th>prediction_error_squared</th>\n",
       "      <th>sum_shap_manual</th>\n",
       "      <th>sum_shap_squared_error</th>\n",
       "    </tr>\n",
       "  </thead>\n",
       "  <tbody>\n",
       "    <tr>\n",
       "      <th>136</th>\n",
       "      <td>98.348188</td>\n",
       "      <td>85.0</td>\n",
       "      <td>178.174133</td>\n",
       "      <td>82105.189213</td>\n",
       "      <td>-6911.341961</td>\n",
       "    </tr>\n",
       "    <tr>\n",
       "      <th>279</th>\n",
       "      <td>100.228499</td>\n",
       "      <td>200.0</td>\n",
       "      <td>9954.352356</td>\n",
       "      <td>422517.332852</td>\n",
       "      <td>6114.535172</td>\n",
       "    </tr>\n",
       "    <tr>\n",
       "      <th>312</th>\n",
       "      <td>98.348188</td>\n",
       "      <td>144.0</td>\n",
       "      <td>2084.087904</td>\n",
       "      <td>224096.327243</td>\n",
       "      <td>-34.224215</td>\n",
       "    </tr>\n",
       "    <tr>\n",
       "      <th>311</th>\n",
       "      <td>193.029316</td>\n",
       "      <td>180.0</td>\n",
       "      <td>169.763084</td>\n",
       "      <td>310944.462809</td>\n",
       "      <td>-2332.046216</td>\n",
       "    </tr>\n",
       "    <tr>\n",
       "      <th>185</th>\n",
       "      <td>166.164374</td>\n",
       "      <td>101.0</td>\n",
       "      <td>4246.395673</td>\n",
       "      <td>100100.207181</td>\n",
       "      <td>-804.686880</td>\n",
       "    </tr>\n",
       "    <tr>\n",
       "      <th>354</th>\n",
       "      <td>217.852365</td>\n",
       "      <td>272.0</td>\n",
       "      <td>2931.966411</td>\n",
       "      <td>706614.130160</td>\n",
       "      <td>-12333.289307</td>\n",
       "    </tr>\n",
       "    <tr>\n",
       "      <th>133</th>\n",
       "      <td>98.348188</td>\n",
       "      <td>83.0</td>\n",
       "      <td>235.566887</td>\n",
       "      <td>78511.930296</td>\n",
       "      <td>-7144.464596</td>\n",
       "    </tr>\n",
       "    <tr>\n",
       "      <th>249</th>\n",
       "      <td>213.522198</td>\n",
       "      <td>215.0</td>\n",
       "      <td>2.183898</td>\n",
       "      <td>437857.368488</td>\n",
       "      <td>-5359.907870</td>\n",
       "    </tr>\n",
       "    <tr>\n",
       "      <th>409</th>\n",
       "      <td>167.833418</td>\n",
       "      <td>181.0</td>\n",
       "      <td>173.358888</td>\n",
       "      <td>323577.449396</td>\n",
       "      <td>-2377.051142</td>\n",
       "    </tr>\n",
       "    <tr>\n",
       "      <th>34</th>\n",
       "      <td>98.348188</td>\n",
       "      <td>65.0</td>\n",
       "      <td>1112.101669</td>\n",
       "      <td>49772.600050</td>\n",
       "      <td>-9242.568315</td>\n",
       "    </tr>\n",
       "  </tbody>\n",
       "</table>\n",
       "</div>"
      ],
      "text/plain": [
       "     prediction  output  prediction_error_squared  sum_shap_manual  \\\n",
       "136   98.348188    85.0                178.174133     82105.189213   \n",
       "279  100.228499   200.0               9954.352356    422517.332852   \n",
       "312   98.348188   144.0               2084.087904    224096.327243   \n",
       "311  193.029316   180.0                169.763084    310944.462809   \n",
       "185  166.164374   101.0               4246.395673    100100.207181   \n",
       "354  217.852365   272.0               2931.966411    706614.130160   \n",
       "133   98.348188    83.0                235.566887     78511.930296   \n",
       "249  213.522198   215.0                  2.183898    437857.368488   \n",
       "409  167.833418   181.0                173.358888    323577.449396   \n",
       "34    98.348188    65.0               1112.101669     49772.600050   \n",
       "\n",
       "     sum_shap_squared_error  \n",
       "136            -6911.341961  \n",
       "279             6114.535172  \n",
       "312              -34.224215  \n",
       "311            -2332.046216  \n",
       "185             -804.686880  \n",
       "354           -12333.289307  \n",
       "133            -7144.464596  \n",
       "249            -5359.907870  \n",
       "409            -2377.051142  \n",
       "34             -9242.568315  "
      ]
     },
     "execution_count": 123,
     "metadata": {},
     "output_type": "execute_result"
    }
   ],
   "source": [
    "# get df with prediction, output, prediction error squared, and sum of shap values\n",
    "df = pd.DataFrame({\"prediction\": model.predict(X), \"output\": y, \"prediction_error_squared\": (model.predict(X) - y)**2, \"sum_shap_manual\": sl_shap.sum(axis=1), \"sum_shap_squared_error\" : tE.shap_values(X,y, check_additivity=False, custom_transform=\"squared_loss\").sum(axis=1)})\n",
    "df.sample(10)"
   ]
  },
  {
   "cell_type": "markdown",
   "metadata": {},
   "source": [
    "Maybe the latter can be fixed - could it be that this is an offset problem?"
   ]
  },
  {
   "cell_type": "markdown",
   "metadata": {},
   "source": [
    "Also, notice how somehow this works if you do not add y to the method but it computes something else? Whats going on..."
   ]
  },
  {
   "cell_type": "code",
   "execution_count": null,
   "metadata": {},
   "outputs": [
    {
     "data": {
      "text/plain": [
       "array([  1737.82920945,  -8076.95513789,    216.73086749,  -2697.15928587,\n",
       "        -1149.46874026,  -5512.60614783,   -733.59212091,  -9093.19026306,\n",
       "         -348.5864217 , -12165.56046038,  -5046.36087733,  -2144.66308467,\n",
       "         3898.72370935,  -2435.34959983,  -3099.9067312 ,  -2160.02630765,\n",
       "         -265.40513405,   -339.77665233,  -5503.93647544,   1381.45544473,\n",
       "        -8775.15664927, -11107.54939759,  -8799.70251172,  -9397.62353104,\n",
       "        -2444.1827462 ,  -1988.49776829,   -850.15343863,   2038.4889583 ,\n",
       "        -2610.67261943,  -6188.05608721,  -1358.09201598,  -9941.93622157,\n",
       "       -21475.5276086 ,  -6631.94343172,  -9242.56831519,  -1785.641031  ,\n",
       "       -10133.93294529,  -6488.92099359, -10554.9282848 ,   2201.97929775,\n",
       "        -2758.88699916, -10408.18149249,  -9383.07057025,  -6095.41273423,\n",
       "       -10131.99307632, -10358.10102757,   3003.25349475,   -427.90517333,\n",
       "        -8076.95513819,   -465.50453593,    876.76426091,  -5380.99595411,\n",
       "        -9790.36290803,  -4715.61509342,  -2412.46689664,  -1899.2052982 ,\n",
       "         7437.53907164, -12506.28521163,   -456.70368658,  -2079.59428382,\n",
       "        -9594.66772356,  -1359.10525487, -10616.76585307,  -1952.59026554,\n",
       "        -8436.75456241,  -1973.68661654,  -1870.88822305,  -5503.93647627,\n",
       "         1602.50734784,   3928.86058829, -11224.11071162, -13107.4294715 ,\n",
       "        -2786.0263197 ,  -3983.60247421,  -3327.76353234,  -6503.10815618,\n",
       "        -2017.85634185,   6493.20957835,  -3047.05127388,  -3647.62506415,\n",
       "         -280.75992702,  -8930.56172513, -10757.86544568,  -1503.64607765,\n",
       "        -9242.56831519,  -1457.49585465, -10408.18149249,  -1383.31943926,\n",
       "       -11819.51186487,  -3903.02825489,  -5396.0448301 ,   -982.20833702,\n",
       "        -1300.79024138,  -5624.00295567,  -6328.53537194,  -1161.10452806,\n",
       "         -340.17001649, -13155.85085356,  -5607.87757924,  -3377.82031913,\n",
       "         1076.06791935,  -4940.51645408,  -7690.58796351,  -3268.19204943,\n",
       "         -747.39534722, -10467.16708358,  -1199.83739182,  -1673.20174644,\n",
       "        -7514.26714667,  -7122.86233253,  -4696.67692372,  -8635.06294587,\n",
       "        -4193.12359938, -14600.58007689, -11684.41313608,  -3916.48593021,\n",
       "       -13526.83835437,  -5987.05808695,  -2199.59498905,  -2433.54196128,\n",
       "         3990.28487795,  -1604.3245843 ,    322.61717292,   7782.5911771 ,\n",
       "         -336.04051607,  -1967.07229535,  -5279.48351237,  -3318.72361184,\n",
       "        -3444.1016709 , -10867.28006689, -14916.78495021,   1597.63423369,\n",
       "        -4375.92952006,  -7144.46459605,   -875.86951693, -11815.50724249,\n",
       "        -6911.34196059, -13039.9261095 , -25935.14640619, -13089.09931714,\n",
       "        -1552.93388999, -15878.91758175,  -5710.29863781,  -7609.48045304,\n",
       "        -1897.1644117 ,  -8022.45447432,  -1787.27790881,   6379.54609142,\n",
       "        -1976.61790017,   -852.51634755,  -8653.5755326 ,  -6091.98340632,\n",
       "        -7913.08539027,  -8426.48761975,  -3555.68468844,  -1228.27809169,\n",
       "       -13625.58655661,  -3951.91575256,  -5624.00295567,  -2967.86220473,\n",
       "       -10557.46375802,  -5209.8720714 ,  -2156.29409475,   2227.44787061,\n",
       "        -1569.10672532,  -9941.93622157,  -8659.76172654,  -5881.29724241,\n",
       "       -11645.02517884,  -1727.18607454, -11340.67203433,  -8193.51645562,\n",
       "       -16243.48497117,  -5052.73369378,  -1361.26821055,  -2067.32191221,\n",
       "        -6952.03777288,  -6013.31711168,  -7377.58723029,  -1984.85123693,\n",
       "        -1630.57249794,  -9295.41564679,  -1252.26165366,  -1429.38250334,\n",
       "        -9496.40989522,   -804.68687971,    979.1535633 ,   -150.78553226,\n",
       "        -2118.96833278,  -7534.34899658,  -4103.7007783 ,  -1065.34307363,\n",
       "        -6197.66118948,   -561.33390115,  -4711.56037733,   3114.81527931,\n",
       "        -8377.56247326,  -1777.39906768,  -1724.75131472,  -1135.7338066 ,\n",
       "         1489.35912998, -12273.16257995,  -2834.73509485,  -6086.52008513,\n",
       "        -5881.91916679,   5792.0173991 ,  -3485.85923968,  -3773.76963109,\n",
       "         1911.19634178,  -7515.04953595,  -2099.30801929,   2426.31532957,\n",
       "        -4791.2486618 , -10918.36986606,  -9242.56831519, -12961.91437887,\n",
       "        -9494.21991301, -16858.73361264,   -475.41591667,    -86.62446898,\n",
       "        -7727.2711847 ,  -4384.54470529,   3043.38266052,    474.50039163,\n",
       "        -7803.90424043,  -4593.49555614,  -7843.83250243,  -4251.10753124,\n",
       "         1718.82242495, -10557.46375353,  -5969.15682334,  -1802.34035341,\n",
       "        -5288.00465513,   -634.7582674 ,  -9136.88668653,  -2939.76485438,\n",
       "         2475.38188554,  -8426.63909108,   -438.18155219, -10028.55350051,\n",
       "       -14214.38917922,   3669.26041177,  -8543.20040881, -11340.67203449,\n",
       "        -2308.56117679,  -2248.88925139,   -994.15473273, -10692.76847482,\n",
       "       -10969.48197479,  -5359.90786977, -18547.00779589,  -9407.60422939,\n",
       "         1940.07930007,   2029.92195029, -19863.22290997,  -1251.5981971 ,\n",
       "       -19682.18763703,  -8032.87974726,  -6317.57565777, -10879.3680549 ,\n",
       "       -12273.16257385,  -4832.11443578, -19264.66713682,  -3297.94111096,\n",
       "        -1741.61271764,  -3490.20575247, -11573.79466994,   -652.32597327,\n",
       "       -13139.62987961,  -6631.94343247,  -3973.70773524,  -2251.90854944,\n",
       "         -961.29151881,  -3921.91572345,  -3869.46672186,  -3380.03989655,\n",
       "       -13493.02714034,  -9226.35943067,  -3624.86356832,   6114.53517179,\n",
       "       -10200.50569252,  -1367.24547247,   5979.67412636,   4278.54454148,\n",
       "        -1441.40367462,  -3542.32643647,  -9677.56221423,  -3398.18350715,\n",
       "        -7494.14855005,   6587.90606438, -23545.22244759,  -9306.88199271,\n",
       "        -7027.90327832,  -3282.37274378, -10408.18149249,   4218.31627791,\n",
       "        -6445.09668967, -13205.65311548,  -1837.85861897,  -7115.51436176,\n",
       "       -13157.45820631,  -9031.86423154,  -3520.45875   ,  -7871.63223155,\n",
       "        10165.23461231,  -1820.90927782, -11525.29752465,  -2159.01409007,\n",
       "        -3531.06374642,  -1222.59739954,   2240.05300457,  -2332.04621602,\n",
       "          -34.22421453,     88.53907194,  -1448.8983515 ,  -5503.93647627,\n",
       "        -5601.4191802 ,  -2503.16871205,    159.95230487,  -2899.44912522,\n",
       "         2118.86864878,  -7337.61533433,  -9214.47485886,  -4615.33643549,\n",
       "        -5055.80320956,  -2937.4001299 ,  -1275.70977077,  -7880.28893734,\n",
       "         5075.69616509,  -1217.51004295,  -6136.24400114,   6376.64826062,\n",
       "       -14125.68925188,  -1963.05962114,  -8426.63909108,  -5629.16746556,\n",
       "       -17488.89506254,  -3856.41487467,   7693.74491136,   -578.82578572,\n",
       "         7878.86135269,  -7223.27353071,  -2357.92931427,    442.77611105,\n",
       "         -803.51184264,  -2259.34647856,   1395.89636881,  -4486.1306297 ,\n",
       "          248.89900039,  -6473.05045739,  -9351.34724084,  -8543.20040881,\n",
       "        -7759.95038868,   -957.2552997 , -12333.28930662,  -9754.34223092,\n",
       "       -10442.7321126 ,  -5859.00145564,  -6328.53537194,  -8383.95823486,\n",
       "       -12844.86378422,   3960.8221728 , -22025.7485203 ,  -2594.34623652,\n",
       "        -1342.87066608,  -2622.55504441,  -7700.15234329,  -8954.90855979,\n",
       "         -471.5759241 ,  -1816.68018963,  -9475.69095065,  -2720.35513291,\n",
       "        -8436.75456241,   2763.24740993,  -2113.60286559,  -3689.19609646,\n",
       "         3747.16133517,  -4776.4791806 ,  -3947.89414796, -12156.60125935,\n",
       "         2354.51366981,  -4714.33160692,   3787.00961459,  -6519.14273685,\n",
       "        -1140.18704971,   8216.2134116 ,  -8377.56247326,  -1860.03763102,\n",
       "        -1512.56286576, -10413.68586694, -14320.79800157,  -9475.69095065,\n",
       "        -3064.81847457,  -8776.32304427, -11169.80308408,  -4502.94955512,\n",
       "       -11806.91730525,  -2703.5141502 ,  -6280.57393187,  -7021.6706592 ,\n",
       "        -2242.43398916,  -5978.85141657,  -1832.49167837, -13332.03173248,\n",
       "        -8675.43095687, -15132.62154128,  -8426.63909108,  -1337.10057452,\n",
       "        -2594.21084534,  -2377.05114229,  -2864.36056581,  -1646.91001157,\n",
       "       -12302.47809377,  -3779.29741595,   -707.64758795,  -2246.40511313,\n",
       "        -8803.47243151,   -596.05230546,  -6970.34551934, -11923.47862298,\n",
       "         -213.98187225,  -4822.08511317,  -7704.89024495,  -2701.71537808,\n",
       "          651.10946964,    700.10178288,   -875.89706449,  -6641.62263767,\n",
       "       -21314.54322277,  -5853.46624937,   3257.27790498,  -9000.75804136,\n",
       "         -970.28947962,  -8426.63909108, -10331.84096533,  -9359.12963292,\n",
       "       -11224.1107166 ,  -1468.64183341,  -4728.41368386,  -1432.96002797,\n",
       "        -5561.83929796,  -8676.07334601])"
      ]
     },
     "execution_count": 125,
     "metadata": {},
     "output_type": "execute_result"
    }
   ],
   "source": [
    "tE.shap_values(X,y, check_additivity=False, custom_transform=\"squared_loss\").sum(axis=1)"
   ]
  },
  {
   "cell_type": "code",
   "execution_count": null,
   "metadata": {},
   "outputs": [
    {
     "data": {
      "text/plain": [
       "array([ 18468.49102782, -16819.05396764,   9672.46550728,    671.9982456 ,\n",
       "       -16638.24102704, -16819.05396764, -16819.05396764, -15800.55035737,\n",
       "         2922.61122601,  11388.55138042, -16819.05396758,  -2293.44458028,\n",
       "       -16638.24102604,   1380.83823753, -16638.24102604,   3326.7569697 ,\n",
       "        16843.05872967,   8158.63174563, -16445.60394811, -14588.25602988,\n",
       "       -16445.60395148, -16819.05396566, -16522.22171246,  24525.92957113,\n",
       "         1678.00734453,  -1846.94656583, -16819.05396764,   6100.9947629 ,\n",
       "        -9845.7990364 ,   4016.84245127,   1034.47346009, -16819.05396764,\n",
       "        22221.67840788, -16445.60394949, -16819.05396764,  -1470.54296227,\n",
       "        15655.27730249,   4991.53366639,  26297.98028513,   6898.71087531,\n",
       "        -4276.42203906, -16819.05396764, -15989.37838609, -16819.05395969,\n",
       "        18038.49337769, -16215.64681016, -13934.37363359, -16445.60395148,\n",
       "       -16819.05396758,   7104.76689503, -16143.1404304 ,   9480.37126298,\n",
       "       -16445.60394811, -16410.48607411,   1836.10451589, -16819.05396764,\n",
       "        11388.55138042, -16819.05396764,  -9845.79903968,    -73.89076823,\n",
       "       -16522.22171246,   2926.21736548, -16522.22171246, -16638.24102604,\n",
       "       -16445.60395148,   1679.00327502,  -7286.73422413, -16445.60395148,\n",
       "       -16445.60395148, -16819.05396764, -16819.05395969,  25848.42111592,\n",
       "         1380.83823978, -12444.12127042,  -5080.30116655,  -8344.69633022,\n",
       "         6205.1506906 , -16819.05396764,    -73.89076601, -16819.05396764,\n",
       "         8158.63175329, -13106.06479758, -16819.05396764,  -3221.54786068,\n",
       "       -16819.05396764,   1823.00530521, -16819.05396764,   1380.83823753,\n",
       "       -16638.24101806, -16638.24101953, -16819.05396764,  11950.07044865,\n",
       "        -1014.86565083, -16638.24102604, -16819.05396764,  -8729.18146591,\n",
       "         9892.07358036,  20849.46799712, -13274.51667207,  -5100.68712749,\n",
       "         9634.30877231, -16410.48605662,   5163.30222431,   5199.83127491,\n",
       "          987.88536388, -16445.60395148, -16819.05396764,    750.28082383,\n",
       "        22349.95516387, -15556.64407375, -16819.05396764, -13850.62788181,\n",
       "         2468.25460354,  18875.40284003,  28567.25573324,   3009.56690809,\n",
       "        24412.75188995,   3806.07839168,     64.55774198,    -73.89077267,\n",
       "       -14055.53050024,  12669.33114373,  27863.92424406,  16165.3530354 ,\n",
       "         4050.47801782,    386.06658371, -16819.05396764,  -7135.63667592,\n",
       "       -16638.24102604,  17156.85596615,  33777.2640075 , -16819.05396764,\n",
       "       -16445.60395148, -16819.05396764,   1034.47346009,  18994.07576343,\n",
       "       -16819.05396764,  20036.21145859,  33777.26402094,  19809.57863273,\n",
       "         -393.37703233,  16940.77067615,   8158.6317644 , -11919.73023174,\n",
       "        10752.59988687,  10594.79848514,  14718.76794238,  23543.36895062,\n",
       "        -2007.96978718,   2816.38247705,   7823.50367272, -13945.58160497,\n",
       "         6195.41272666, -16410.48608212,  10199.92746717,  24525.92958995,\n",
       "       -16445.60394612,  -6531.40623248, -16638.24102604,  20354.9464594 ,\n",
       "       -16638.24102604,  29550.08012379,   1053.12470101,  13739.35676005,\n",
       "        -2975.52503254, -16819.05396764, -16819.05396764,  26152.12413284,\n",
       "        20129.88192941,   1679.0032461 , -16819.05396764, -16819.05396764,\n",
       "        24274.61177463, -16445.60395148,   4498.43751102, -16638.24102796,\n",
       "        13014.47015926,  13579.07970163, -16819.05396429,  -4283.50882222,\n",
       "         -949.2302031 , -16638.24102796,   2554.45686889,  -4439.1118195 ,\n",
       "        13579.07972438,   1121.48943784,  11388.55134399, -16819.05396764,\n",
       "        -9095.044262  , -16445.60394949,    671.99824202,  -6531.40622625,\n",
       "       -16638.24102789,   2816.38247705,  -8729.18146923,  13985.02042961,\n",
       "       -16638.24102604,   -984.20938992,    117.49313893,    -73.89076958,\n",
       "       -16638.24101998, -16819.053973  ,   2438.97508233,  17649.54738219,\n",
       "         3864.10182058,  15212.30934754,  10199.92744805,  20808.88330674,\n",
       "        20687.71698534, -15465.06353263,  -1281.74919788,   5562.09611827,\n",
       "        -7584.3139644 , -16445.60395148, -16819.05396764,  33777.26402094,\n",
       "        21716.76444424,  25848.42112871,  -5490.59649935,  -8729.18146591,\n",
       "       -16819.05396764,  -8729.18146591,  -8729.18146923, -16445.60395148,\n",
       "       -16638.24102604,  16450.68858363, -16819.05396764, -16593.3857477 ,\n",
       "       -16638.24102796, -16638.24101953,  21381.20939096,  -6531.40622959,\n",
       "         3945.26045226,   1034.47346009,  20873.7740168 , -13292.98200014,\n",
       "         5425.66318121, -16819.05396764,  -4190.85190959,  16343.78672564,\n",
       "        27871.26046739, -16638.24101656, -16819.05396764, -16819.05396758,\n",
       "          117.49313893, -16819.05396764,    -73.89076601, -16445.60395148,\n",
       "        23012.95881224,  19104.23282031,  28030.47343885,  33777.26400885,\n",
       "         6479.65934158,  19083.03510619,  28773.81379293, -10569.7106029 ,\n",
       "        18175.60472159, -13292.98201235, -15747.16423278, -16593.3857477 ,\n",
       "       -16819.05396429, -16215.64679295,  27871.26046739, -16819.05396764,\n",
       "          313.08844578,  -4950.30914666, -16819.05396758,   2448.13520701,\n",
       "        33777.26400885, -16445.60395148,  16908.5278286 ,  -3644.78185138,\n",
       "        -6465.97992425,   2144.94789942,  -5354.18256596,  -5755.01197968,\n",
       "        20354.9464594 , -16445.60394949,  -7366.13788639, -16445.60395141,\n",
       "        15885.6286328 ,   -513.50579701, -13361.78935304, -16819.05396764,\n",
       "        -8729.18146923,   1679.00324971, -16445.60395148,   2247.67087894,\n",
       "       -16819.05396864,  11950.07043147,  29337.50463206,  20354.94645538,\n",
       "       -16819.05396764,   4644.0059529 , -16819.05396764,  10116.38965396,\n",
       "       -16819.05396764, -16819.05396429, -16638.24102604, -16638.24102796,\n",
       "        22797.28260158, -16215.64678099,  17649.54743252,  20354.9464594 ,\n",
       "       -15111.70379164,  -1320.0935949 , -16522.22171347,   1129.57451994,\n",
       "       -16819.05396764,   3365.64760997,   9384.3300888 ,  10772.12238442,\n",
       "       -16819.05396764,  17048.41439274,   2922.61127993, -16445.60395148,\n",
       "        13820.39328196,   1129.57451858,   4212.1263324 ,   4335.63162867,\n",
       "        11388.55134399,  26508.0992384 ,  29550.08012379,   3291.60099148,\n",
       "         4238.58135983,  16940.77067615,   1591.69238434,  19260.99469287,\n",
       "        10741.9930949 , -16445.60393792,   7823.50373397, -16819.05396764,\n",
       "        33000.89390734,   2718.27522133, -16819.05396764, -16819.05396764,\n",
       "        23543.3689387 ,  -6869.6269858 , -16445.60395148,   1380.83823978,\n",
       "       -16410.48608212,   7823.50369945,   7882.08813504,   5406.50440929,\n",
       "        -5490.59649935,  -7992.82843347,  13318.21226569,  -8344.69632413,\n",
       "       -16445.60395148, -16090.44031023,  28773.81380466, -16819.05396764,\n",
       "       -16445.60395148,   1121.48944008,  20972.30427151, -16638.2410229 ,\n",
       "       -16638.24102796,  15748.22469347, -16819.05396764,   5581.40871196,\n",
       "        19025.34667955, -16293.13791002,  29993.74826166,  -2975.5250291 ,\n",
       "        -2849.16787223,    377.38662251,  23543.3689387 ,  24153.35437669,\n",
       "         3836.80701109,   6894.70762917, -16819.05396764,   1591.6923875 ,\n",
       "       -16445.60395148, -16819.05396429,  -9845.7990364 ,   3535.85026175,\n",
       "        15331.3048193 ,   4969.93116269,   1978.84342   , -16819.05396864,\n",
       "         4319.49410961, -16445.60395148,  18319.93493885, -16445.60395148,\n",
       "         -513.50579923, -16410.4861012 , -16638.24102604,  -2293.44454834,\n",
       "         -513.50580057, -15885.36450762,  26840.36367804, -16819.05396764,\n",
       "       -16819.05395771, -16819.05396764,  16450.68856194,   2438.97510369,\n",
       "       -16819.05396764,   1380.83823978,   8691.29999958,  16450.68860377,\n",
       "         6687.81899677, -16819.05395969,  -3364.69245327,  23543.3689632 ,\n",
       "         7373.29609801,  27871.26047566, -16819.05396764,   2387.21576166,\n",
       "         1987.17473202,   1679.0032461 ,   1121.48943784,    117.49307591,\n",
       "        29993.74826166, -15696.06783715,   4014.17166369,   2607.6350868 ,\n",
       "        13592.05405617,    117.49305332, -16445.60395148, -16819.05396764,\n",
       "       -15902.97395396,  12669.33111578,  23658.89989746,  -3783.23311602,\n",
       "         5723.4996527 , -16445.60395148,   2144.9478775 , -10896.50792716,\n",
       "        33777.26402874, -16638.24102796, -15230.72375582, -16445.60395249,\n",
       "        16940.77069952, -16819.05396764, -15326.48765727, -16819.05396764,\n",
       "       -16819.05396764,  17072.50620343, -15703.31517125, -16819.05396864,\n",
       "        13418.31302495, -13435.21349049])"
      ]
     },
     "execution_count": 124,
     "metadata": {},
     "output_type": "execute_result"
    }
   ],
   "source": [
    "tE.shap_values(X, check_additivity=False, custom_transform=\"squared_loss\").sum(axis=1)"
   ]
  },
  {
   "cell_type": "code",
   "execution_count": null,
   "metadata": {},
   "outputs": [],
   "source": []
  }
 ],
 "metadata": {
  "kernelspec": {
   "display_name": "eda",
   "language": "python",
   "name": "python3"
  },
  "language_info": {
   "codemirror_mode": {
    "name": "ipython",
    "version": 3
   },
   "file_extension": ".py",
   "mimetype": "text/x-python",
   "name": "python",
   "nbconvert_exporter": "python",
   "pygments_lexer": "ipython3",
   "version": "3.10.13"
  }
 },
 "nbformat": 4,
 "nbformat_minor": 2
}
