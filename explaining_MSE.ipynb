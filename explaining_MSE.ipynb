{
 "cells": [
  {
   "cell_type": "markdown",
   "metadata": {},
   "source": [
    "# Explaining the loss of a model"
   ]
  },
  {
   "cell_type": "markdown",
   "metadata": {},
   "source": [
    "## Introduction"
   ]
  },
  {
   "cell_type": "markdown",
   "metadata": {},
   "source": [
    "In theory, SHAP values can be used to explain anything about a machine learning model that can be formulated as the \"value of the game\" $v(S)$ for a coalition $S$.\n",
    "\n",
    "Typically, when people talk about using shap explanations on a machine learning model, they refer to explaining the contribution to the prediction output.\n",
    "\n",
    "There are however many alternative applications in the machine learning literature, including for example **feature selection**, where $v(S)$ is the model performance, **data valuation**, where $v(S)$ is the goodness of fit on test data, or **monitoring**, where $v(S)$ is the model loss.\n"
   ]
  },
  {
   "cell_type": "markdown",
   "metadata": {},
   "source": [
    "### Motivation"
   ]
  },
  {
   "cell_type": "markdown",
   "metadata": {},
   "source": [
    "In this notebook, I will look closer at how shap values can be used to explain the loss of a model. \n",
    "\n",
    "In particular, I will be interested in explaining the contribution of each feature/covariate to the MSE at the leaf level of a tree ensemble regression model. This will allow to characterize the hetereogeneity of CATEs within the leafs of the tree ensemble."
   ]
  },
  {
   "cell_type": "markdown",
   "metadata": {},
   "source": [
    "### Existing approaches and shortcomings"
   ]
  },
  {
   "cell_type": "markdown",
   "metadata": {},
   "source": [
    "In the existing implementation of [treeSHAP](https://shap-lrjball.readthedocs.io/en/latest/generated/shap.TreeExplainer.html) in the mainstream package for shap values, `shap`, there is the possibility to compute the `log_loss` of binary classification models, but not more general loss functions. (Note that when computing any loss, one has to pass the label to the shap explainer as well.)\n",
    "\n",
    "It also mentions that it is possible to pass \"the name of a supported prediction method on the model object\" for which the shap values will then be computed. Besides raw output and probabilities for classification, however, there are no default methods to get the MSE.\n",
    "\n",
    "Instead of having to modify the `shap` package, there might be an easy way by creating a wrapper class for our RandomForestRegressor that exhibits a method that returns the leaf node MSE for any observation.\n",
    "\n",
    "A complication is that this \"custom\" model output shap explanation is only supported for `feature_perturbation=\"interventional`, as opposed to the default `feature_perturbation=\"tree_path_dependent\"`, which uses the background training samples that went down each tree path to compute \"observational conditional expectations\" from which to sample \"inactive\" features. \n",
    "\n",
    "The `interventional` method requires to pass a background dataset (with regards to which runtime scales linearly), and the documentation suggests to use anywhere from 100 to 1000 random background samples. It claims that the `interventional` approach *\"breaks the dependencies between features according to the rules dictated by causal inference [(Janzing et al. 2019)](https://proceedings.neurips.cc/paper/2019/file/2172fde49301047270b2897085e4319d-Paper.pdf)\"*. It is not yet clear to me how this can be done without integrating any causal knowledge about our Xs into the model - the formulation is probably unfortunate at best. \n",
    "\n",
    "The most convincing way I have seen this done is as demonstrated by (Heskes, Bucur, Sijben and Claassen 2020) from Radboud University, which suggest and demonstrate to use Pearls do-calculus to compute interventional conditional distributions, and so naturally asks for a DAG.\n",
    "\n",
    "In any case, this is important to be aware of. I think one can make a case for being interested in the interpretation that the `interventional` approach, but if not, then there is no way around touching the `shap` package (which might be very difficult)."
   ]
  },
  {
   "cell_type": "markdown",
   "metadata": {},
   "source": [
    "### Idea behind explaining loss"
   ]
  },
  {
   "cell_type": "markdown",
   "metadata": {},
   "source": [
    "Let $\\Pi$ denote the partition of a fit regression tree, and $l(x, \\Pi)$ the leaf node that $x$ falls into under partition $\\Pi$.\n",
    "\n",
    "For each input vector $x_i$, a standard fitted decision tree regressor provides output \n",
    "$$\n",
    "f(x_i) = \\frac{1}{\\#\\{k \\in l(x_i, \\Pi)\\}} \\sum_{k \\in l(x_i, \\Pi)}\\bar{Y_k}\n",
    "$$\n",
    "\n",
    "Similarly, for each input vector $x$, we can consider the loss at each input vector:\n",
    "\n",
    "$$\n",
    "\\begin{align*}\n",
    "\\text{loss}(x_i) &= (y-f(x_i))^2 \\\\\n",
    "&= (y - \\frac{1}{\\#\\{k \\in l(x_i, \\Pi)\\}} \\sum_{k \\in l(x_i, \\Pi)}\\bar{Y_k})^2\n",
    "\\end{align*}\n",
    "$$\n",
    "\n",
    "The overall MSE loss of the data is just the average of the squared error at each input vector:\n",
    "$$\n",
    "\\text{MSE} = \\frac{1}{n} \\sum_{i=1}^n \\text{loss}(x_i)\n",
    "$$\n",
    "\n",
    "These are feasible to compute for any input vector $x_i$ and any partition $\\Pi$ since we know the outcome $y_i$ for each collection of covariates in an input vector $x_i$. This will not be the case for CATE in causal trees, for the standard \"fundamental problem of causal inference\". In that case we will resort to corresponding estimators from our estimation data (Athey & Wager, PNAS 2016).\n",
    "\n",
    "Let's now see how we can use shap to explain such loss."
   ]
  },
  {
   "cell_type": "markdown",
   "metadata": {},
   "source": [
    "### Why is shap contribution to loss not a simple function of contribution to prediction?\n",
    "\n",
    "One might wonder why the contribution of a particular feature value to the loss is not immediately understood by looking at the contribution of that feature value to the prediction, since the \"role\" of the feature only plays into f(x) in the squared error formula.\n",
    "The reason is that it is a nonlinear transformation, which means, by the linearity property of the Shapley value solution concept\n",
    "$$\n",
    "\\phi(N,v+w) = \\phi(N,v) + \\phi(N,w) \\quad \\text{for any games} (N,v) \\text{ and } (N,w) \\quad\\quad \\text{(see shap\\_intro.ipynb)}\n",
    "$$\n",
    "that the contribution to loss cannot be easily disentangled from the distribution to prediction:\n",
    "\n",
    "\\begin{align*}\n",
    "\\text{Squared error}(x_i) &= (y_i-\\hat{f}(x_i))^2 \\\\\n",
    "&= y_i^2 - 2y_i\\hat{f}(x_i) + \\hat{f}(x_i)^2 \\\\\n",
    "\\end{align*}\n",
    "\n",
    "So whilst scalar shifts or multiplications of the prediction $\\hat{f}(x_i)$ is a simple linear transformation of the known contribution to the prediction $\\phi(N,\\hat{f}(x_i))$ we get for free, the contribution to the squared error is not known and has to be computed on its own:\n",
    "\n",
    "\\begin{align*}\n",
    "\\phi(N, (y_i-\\hat{f}(x_i))^2) &= \\phi(N, y_i^2 - 2y_i\\hat{f}(x_i) + \\hat{f}(x_i)^2) \\\\\n",
    "&= y_i^2 - 2y_i\\phi(N, \\hat{f}(x_i)) + \\phi(N, \\hat{f}(x_i)^2)\n",
    "\\end{align*}\n",
    "\n",
    "**In other words, we know the contribution to the squared error of an observation as soon as we know the outcome, the contribution to the prediction, and to the prediction squared.**\n"
   ]
  },
  {
   "cell_type": "markdown",
   "metadata": {},
   "source": [
    "## Defining a custom tree regressor"
   ]
  },
  {
   "cell_type": "markdown",
   "metadata": {},
   "source": [
    "Let's now turn to a demonstration of how we can use shap to explain squared loss using the `shap` package. I will begin with an exposition on a single tree."
   ]
  },
  {
   "cell_type": "code",
   "execution_count": 2,
   "metadata": {},
   "outputs": [],
   "source": [
    "# imports\n",
    "import pandas as pd\n",
    "import numpy as np\n",
    "\n",
    "from sklearn.tree import DecisionTreeRegressor\n",
    "from sklearn.metrics import mean_squared_error\n",
    "from sklearn.model_selection import GridSearchCV"
   ]
  },
  {
   "cell_type": "code",
   "execution_count": 3,
   "metadata": {},
   "outputs": [
    {
     "data": {
      "text/plain": [
       "(442, 11)"
      ]
     },
     "execution_count": 3,
     "metadata": {},
     "output_type": "execute_result"
    }
   ],
   "source": [
    "from sklearn.datasets import load_diabetes\n",
    "\n",
    "# Load the Diabetes dataset\n",
    "diabetes = load_diabetes()\n",
    "\n",
    "# create joint dataframe\n",
    "df = pd.DataFrame(diabetes.data, columns=diabetes.feature_names)\n",
    "df['target'] = diabetes.target\n",
    "\n",
    "df.shape\n"
   ]
  },
  {
   "cell_type": "code",
   "execution_count": 4,
   "metadata": {},
   "outputs": [
    {
     "data": {
      "text/html": [
       "<div>\n",
       "<style scoped>\n",
       "    .dataframe tbody tr th:only-of-type {\n",
       "        vertical-align: middle;\n",
       "    }\n",
       "\n",
       "    .dataframe tbody tr th {\n",
       "        vertical-align: top;\n",
       "    }\n",
       "\n",
       "    .dataframe thead th {\n",
       "        text-align: right;\n",
       "    }\n",
       "</style>\n",
       "<table border=\"1\" class=\"dataframe\">\n",
       "  <thead>\n",
       "    <tr style=\"text-align: right;\">\n",
       "      <th></th>\n",
       "      <th>age</th>\n",
       "      <th>sex</th>\n",
       "      <th>bmi</th>\n",
       "      <th>bp</th>\n",
       "      <th>s1</th>\n",
       "      <th>s2</th>\n",
       "      <th>s3</th>\n",
       "      <th>s4</th>\n",
       "      <th>s5</th>\n",
       "      <th>s6</th>\n",
       "      <th>target</th>\n",
       "    </tr>\n",
       "  </thead>\n",
       "  <tbody>\n",
       "    <tr>\n",
       "      <th>0</th>\n",
       "      <td>0.038076</td>\n",
       "      <td>0.050680</td>\n",
       "      <td>0.061696</td>\n",
       "      <td>0.021872</td>\n",
       "      <td>-0.044223</td>\n",
       "      <td>-0.034821</td>\n",
       "      <td>-0.043401</td>\n",
       "      <td>-0.002592</td>\n",
       "      <td>0.019907</td>\n",
       "      <td>-0.017646</td>\n",
       "      <td>151.0</td>\n",
       "    </tr>\n",
       "    <tr>\n",
       "      <th>1</th>\n",
       "      <td>-0.001882</td>\n",
       "      <td>-0.044642</td>\n",
       "      <td>-0.051474</td>\n",
       "      <td>-0.026328</td>\n",
       "      <td>-0.008449</td>\n",
       "      <td>-0.019163</td>\n",
       "      <td>0.074412</td>\n",
       "      <td>-0.039493</td>\n",
       "      <td>-0.068332</td>\n",
       "      <td>-0.092204</td>\n",
       "      <td>75.0</td>\n",
       "    </tr>\n",
       "    <tr>\n",
       "      <th>2</th>\n",
       "      <td>0.085299</td>\n",
       "      <td>0.050680</td>\n",
       "      <td>0.044451</td>\n",
       "      <td>-0.005670</td>\n",
       "      <td>-0.045599</td>\n",
       "      <td>-0.034194</td>\n",
       "      <td>-0.032356</td>\n",
       "      <td>-0.002592</td>\n",
       "      <td>0.002861</td>\n",
       "      <td>-0.025930</td>\n",
       "      <td>141.0</td>\n",
       "    </tr>\n",
       "    <tr>\n",
       "      <th>3</th>\n",
       "      <td>-0.089063</td>\n",
       "      <td>-0.044642</td>\n",
       "      <td>-0.011595</td>\n",
       "      <td>-0.036656</td>\n",
       "      <td>0.012191</td>\n",
       "      <td>0.024991</td>\n",
       "      <td>-0.036038</td>\n",
       "      <td>0.034309</td>\n",
       "      <td>0.022688</td>\n",
       "      <td>-0.009362</td>\n",
       "      <td>206.0</td>\n",
       "    </tr>\n",
       "    <tr>\n",
       "      <th>4</th>\n",
       "      <td>0.005383</td>\n",
       "      <td>-0.044642</td>\n",
       "      <td>-0.036385</td>\n",
       "      <td>0.021872</td>\n",
       "      <td>0.003935</td>\n",
       "      <td>0.015596</td>\n",
       "      <td>0.008142</td>\n",
       "      <td>-0.002592</td>\n",
       "      <td>-0.031988</td>\n",
       "      <td>-0.046641</td>\n",
       "      <td>135.0</td>\n",
       "    </tr>\n",
       "  </tbody>\n",
       "</table>\n",
       "</div>"
      ],
      "text/plain": [
       "        age       sex       bmi        bp        s1        s2        s3  \\\n",
       "0  0.038076  0.050680  0.061696  0.021872 -0.044223 -0.034821 -0.043401   \n",
       "1 -0.001882 -0.044642 -0.051474 -0.026328 -0.008449 -0.019163  0.074412   \n",
       "2  0.085299  0.050680  0.044451 -0.005670 -0.045599 -0.034194 -0.032356   \n",
       "3 -0.089063 -0.044642 -0.011595 -0.036656  0.012191  0.024991 -0.036038   \n",
       "4  0.005383 -0.044642 -0.036385  0.021872  0.003935  0.015596  0.008142   \n",
       "\n",
       "         s4        s5        s6  target  \n",
       "0 -0.002592  0.019907 -0.017646   151.0  \n",
       "1 -0.039493 -0.068332 -0.092204    75.0  \n",
       "2 -0.002592  0.002861 -0.025930   141.0  \n",
       "3  0.034309  0.022688 -0.009362   206.0  \n",
       "4 -0.002592 -0.031988 -0.046641   135.0  "
      ]
     },
     "execution_count": 4,
     "metadata": {},
     "output_type": "execute_result"
    }
   ],
   "source": [
    "df.head()"
   ]
  },
  {
   "cell_type": "markdown",
   "metadata": {},
   "source": [
    "I now define a custom tree regressor class that extends the standard sklearn model for a simple method that computes the squared loss for each observation, and can be used similar to a `.predict()` method."
   ]
  },
  {
   "cell_type": "code",
   "execution_count": 5,
   "metadata": {},
   "outputs": [],
   "source": [
    "# define a new estimator with our new custom loss\n",
    "\n",
    "class CustomDecisionTree(DecisionTreeRegressor):\n",
    "    def __init__(\n",
    "        self,\n",
    "        *,\n",
    "        criterion=\"squared_error\",\n",
    "        splitter=\"best\",\n",
    "        max_depth=None,\n",
    "        min_samples_split=2,\n",
    "        min_samples_leaf=1,\n",
    "        min_weight_fraction_leaf=0.0,\n",
    "        max_features=None,\n",
    "        random_state=None,\n",
    "        max_leaf_nodes=None,\n",
    "        min_impurity_decrease=0.0,\n",
    "        ccp_alpha=0.0,\n",
    "    ):\n",
    "        super().__init__(\n",
    "            criterion=criterion,\n",
    "            splitter=splitter,\n",
    "            max_depth=max_depth,\n",
    "            min_samples_split=min_samples_split,\n",
    "            min_samples_leaf=min_samples_leaf,\n",
    "            min_weight_fraction_leaf=min_weight_fraction_leaf,\n",
    "            max_features=max_features,\n",
    "            max_leaf_nodes=max_leaf_nodes,\n",
    "            random_state=random_state,\n",
    "            min_impurity_decrease=min_impurity_decrease,\n",
    "            ccp_alpha=ccp_alpha,\n",
    "        ) # setting them all this way respects the scikit-learn demanded init structure\n",
    "    \n",
    "    def leaf_mean_loss(self, X, y):\n",
    "        \"\"\"\n",
    "        Computes the squared loss between the outcome and the mean value of the leaf node to which x traverses through the partition.\n",
    "\n",
    "        Parameters:\n",
    "            X (array-like or sparse matrix): Input samples.\n",
    "\n",
    "        Returns:\n",
    "            array-like: Array of squared errors between the predicted values and the mean value of the leaf nodes.\n",
    "        \"\"\"\n",
    "        # check that tree is fitted\n",
    "        assert self.tree_ is not None\n",
    "\n",
    "        # return squared loss\n",
    "        sq_loss = (y - self.predict(X))**2\n",
    "        \n",
    "        return sq_loss\n",
    "\n",
    "\n"
   ]
  },
  {
   "cell_type": "markdown",
   "metadata": {},
   "source": [
    "Let's try to train our custom tree on the diabetes dataset."
   ]
  },
  {
   "cell_type": "code",
   "execution_count": 6,
   "metadata": {},
   "outputs": [
    {
     "data": {
      "text/plain": [
       "{'max_depth': 2}"
      ]
     },
     "execution_count": 6,
     "metadata": {},
     "output_type": "execute_result"
    }
   ],
   "source": [
    "# instantiate GridSearchCV\n",
    "grid = GridSearchCV(\n",
    "    estimator=CustomDecisionTree(),\n",
    "    param_grid={'max_depth': np.arange(2, 10)},\n",
    "    cv = 4)\n",
    "grid.fit(df.drop(\"target\",axis = 1), df.target)\n",
    "\n",
    "# get the best estimator\n",
    "best_estimator = grid.best_estimator_\n",
    "\n",
    "# get the best parameters\n",
    "grid.best_params_"
   ]
  },
  {
   "cell_type": "code",
   "execution_count": 7,
   "metadata": {},
   "outputs": [],
   "source": [
    "# compute the loss for each observation\n",
    "loss = best_estimator.leaf_mean_loss(df.drop(\"target\",axis = 1), df.target)"
   ]
  },
  {
   "cell_type": "code",
   "execution_count": 8,
   "metadata": {},
   "outputs": [
    {
     "name": "stdout",
     "output_type": "stream",
     "text": [
      "3360.050096675736\n",
      "3360.050096675736\n"
     ]
    }
   ],
   "source": [
    "# lets check this adds up to the MSE\n",
    "print(np.sum(loss) / len(loss))\n",
    "print(mean_squared_error(df.target, best_estimator.predict(df.drop(\"target\",axis = 1))))"
   ]
  },
  {
   "cell_type": "markdown",
   "metadata": {},
   "source": [
    "Having now defined a custom loss function, we should be able to use default shap code to explain the loss of our model using our model method name using the `model_output = 'leaf_mean_loss'` argument, as explained in their [documentation](https://shap-lrjball.readthedocs.io/en/latest/generated/shapTreeExplainer.html)."
   ]
  },
  {
   "cell_type": "markdown",
   "metadata": {},
   "source": [
    "### SHAP explanations"
   ]
  },
  {
   "cell_type": "markdown",
   "metadata": {},
   "source": [
    "(NOTE: Deprecations in numpy 1.23 -> 1.24 have caused some issues in the shap package, see [here](https://github.com/shap/shap/issues/2911). It is best to go with numpy 1.23 and shap 0.42)"
   ]
  },
  {
   "cell_type": "markdown",
   "metadata": {},
   "source": [
    "#### SHAP for predictions"
   ]
  },
  {
   "cell_type": "markdown",
   "metadata": {},
   "source": [
    "Let's first compute the standard \"prediction\" shap explanation on our diabetes data using our custom tree regressor."
   ]
  },
  {
   "cell_type": "code",
   "execution_count": 9,
   "metadata": {},
   "outputs": [
    {
     "name": "stderr",
     "output_type": "stream",
     "text": [
      "Using `tqdm.autonotebook.tqdm` in notebook mode. Use `tqdm.tqdm` instead to force console mode (e.g. in jupyter console)\n"
     ]
    },
    {
     "name": "stdout",
     "output_type": "stream",
     "text": [
      "0.42.1\n"
     ]
    }
   ],
   "source": [
    "import shap\n",
    "print(shap.__version__)\n",
    "\n",
    "# compute SHAP values\n",
    "explainer = shap.TreeExplainer(best_estimator)\n",
    "prediction_shap_values = explainer(df.drop(\"target\",axis = 1))"
   ]
  },
  {
   "cell_type": "code",
   "execution_count": 10,
   "metadata": {},
   "outputs": [
    {
     "name": "stderr",
     "output_type": "stream",
     "text": [
      "No data for colormapping provided via 'c'. Parameters 'vmin', 'vmax' will be ignored\n"
     ]
    },
    {
     "data": {
      "image/png": "[encoded data removed]",
      "text/plain": [
       "<Figure size 800x550 with 2 Axes>"
      ]
     },
     "metadata": {},
     "output_type": "display_data"
    }
   ],
   "source": [
    "# make beeswarm plot of shap values\n",
    "shap.plots.beeswarm(prediction_shap_values)"
   ]
  },
  {
   "cell_type": "markdown",
   "metadata": {},
   "source": [
    "We can see that only BMI and s5 have any influence on the predictions."
   ]
  },
  {
   "cell_type": "markdown",
   "metadata": {},
   "source": [
    "#### SHAP for loss using \"model method name\""
   ]
  },
  {
   "cell_type": "code",
   "execution_count": 11,
   "metadata": {},
   "outputs": [
    {
     "name": "stderr",
     "output_type": "stream",
     "text": [
      "feature_dependence = \"independent\" has been renamed to feature_perturbation = \"interventional\"! See GitHub issue #882.\n"
     ]
    },
    {
     "ename": "ExplainerError",
     "evalue": "Currently TreeExplainer can only handle models with categorical splits when feature_perturbation=\"tree_path_dependent\" and no background data is passed. Please try again using shap.TreeExplainer(model, feature_perturbation=\"tree_path_dependent\").",
     "output_type": "error",
     "traceback": [
      "\u001b[0;31m---------------------------------------------------------------------------\u001b[0m",
      "\u001b[0;31mValueError\u001b[0m                                Traceback (most recent call last)",
      "File \u001b[0;32m~/miniconda3/envs/eda/lib/python3.10/site-packages/shap/explainers/_tree.py:198\u001b[0m, in \u001b[0;36mTree.__init__\u001b[0;34m(self, model, data, model_output, feature_perturbation, feature_names, approximate, **deprecated_options)\u001b[0m\n\u001b[1;32m    197\u001b[0m \u001b[39mtry\u001b[39;00m:\n\u001b[0;32m--> 198\u001b[0m     \u001b[39mself\u001b[39m\u001b[39m.\u001b[39mexpected_value \u001b[39m=\u001b[39m \u001b[39mself\u001b[39;49m\u001b[39m.\u001b[39;49mmodel\u001b[39m.\u001b[39;49mpredict(\u001b[39mself\u001b[39;49m\u001b[39m.\u001b[39;49mdata)\u001b[39m.\u001b[39mmean(\u001b[39m0\u001b[39m)\n\u001b[1;32m    199\u001b[0m \u001b[39mexcept\u001b[39;00m \u001b[39mValueError\u001b[39;00m:\n",
      "File \u001b[0;32m~/miniconda3/envs/eda/lib/python3.10/site-packages/shap/explainers/_tree.py:1264\u001b[0m, in \u001b[0;36mTreeEnsemble.predict\u001b[0;34m(self, X, y, output, tree_limit)\u001b[0m\n\u001b[1;32m   1263\u001b[0m     \u001b[39massert\u001b[39;00m X\u001b[39m.\u001b[39mshape[\u001b[39m0\u001b[39m] \u001b[39m==\u001b[39m \u001b[39mlen\u001b[39m(y), \u001b[39m\"\u001b[39m\u001b[39mThe number of labels (\u001b[39m\u001b[39m%d\u001b[39;00m\u001b[39m) does not match the number of samples to explain (\u001b[39m\u001b[39m%d\u001b[39;00m\u001b[39m)!\u001b[39m\u001b[39m\"\u001b[39m \u001b[39m%\u001b[39m (\u001b[39mlen\u001b[39m(y), X\u001b[39m.\u001b[39mshape[\u001b[39m0\u001b[39m])\n\u001b[0;32m-> 1264\u001b[0m transform \u001b[39m=\u001b[39m \u001b[39mself\u001b[39;49m\u001b[39m.\u001b[39;49mget_transform()\n\u001b[1;32m   1265\u001b[0m assert_import(\u001b[39m\"\u001b[39m\u001b[39mcext\u001b[39m\u001b[39m\"\u001b[39m)\n",
      "File \u001b[0;32m~/miniconda3/envs/eda/lib/python3.10/site-packages/shap/explainers/_tree.py:1217\u001b[0m, in \u001b[0;36mTreeEnsemble.get_transform\u001b[0;34m(self)\u001b[0m\n\u001b[1;32m   1212\u001b[0m     emsg \u001b[39m=\u001b[39m (\n\u001b[1;32m   1213\u001b[0m         \u001b[39mf\u001b[39m\u001b[39m\"\u001b[39m\u001b[39mUnrecognized model_output parameter value: \u001b[39m\u001b[39m{\u001b[39;00m\u001b[39mstr\u001b[39m(\u001b[39mself\u001b[39m\u001b[39m.\u001b[39mmodel_output)\u001b[39m}\u001b[39;00m\u001b[39m! \u001b[39m\u001b[39m\"\u001b[39m\n\u001b[1;32m   1214\u001b[0m         \u001b[39mf\u001b[39m\u001b[39m\"\u001b[39m\u001b[39mIf `model.\u001b[39m\u001b[39m{\u001b[39;00m\u001b[39mstr\u001b[39m(\u001b[39mself\u001b[39m\u001b[39m.\u001b[39mmodel_output)\u001b[39m}\u001b[39;00m\u001b[39m` is a valid function, open a Github issue to ask \u001b[39m\u001b[39m\"\u001b[39m\n\u001b[1;32m   1215\u001b[0m         \u001b[39m\"\u001b[39m\u001b[39mthat this method be supported. If you want \u001b[39m\u001b[39m'\u001b[39m\u001b[39mpredict_proba\u001b[39m\u001b[39m'\u001b[39m\u001b[39m just use \u001b[39m\u001b[39m'\u001b[39m\u001b[39mprobability\u001b[39m\u001b[39m'\u001b[39m\u001b[39m for now.\u001b[39m\u001b[39m\"\u001b[39m\n\u001b[1;32m   1216\u001b[0m     )\n\u001b[0;32m-> 1217\u001b[0m     \u001b[39mraise\u001b[39;00m \u001b[39mValueError\u001b[39;00m(emsg)\n\u001b[1;32m   1219\u001b[0m \u001b[39mreturn\u001b[39;00m transform\n",
      "\u001b[0;31mValueError\u001b[0m: Unrecognized model_output parameter value: leaf_mean_loss! If `model.leaf_mean_loss` is a valid function, open a Github issue to ask that this method be supported. If you want 'predict_proba' just use 'probability' for now.",
      "\nDuring handling of the above exception, another exception occurred:\n",
      "\u001b[0;31mExplainerError\u001b[0m                            Traceback (most recent call last)",
      "\u001b[1;32m/Users/lasse/Library/Mobile Documents/com~apple~CloudDocs/Oxford MPhil/Thesis/Shap/code/explaining_MSE.ipynb Cell 31\u001b[0m line \u001b[0;36m3\n\u001b[1;32m      <a href='vscode-notebook-cell:/Users/lasse/Library/Mobile%20Documents/com~apple~CloudDocs/Oxford%20MPhil/Thesis/Shap/code/explaining_MSE.ipynb#X40sZmlsZQ%3D%3D?line=0'>1</a>\u001b[0m \u001b[39m# now we specify our custom loss function\u001b[39;00m\n\u001b[0;32m----> <a href='vscode-notebook-cell:/Users/lasse/Library/Mobile%20Documents/com~apple~CloudDocs/Oxford%20MPhil/Thesis/Shap/code/explaining_MSE.ipynb#X40sZmlsZQ%3D%3D?line=2'>3</a>\u001b[0m loss_explainer \u001b[39m=\u001b[39m shap\u001b[39m.\u001b[39;49mTreeExplainer(best_estimator, df\u001b[39m.\u001b[39;49mdrop(\u001b[39m\"\u001b[39;49m\u001b[39mtarget\u001b[39;49m\u001b[39m\"\u001b[39;49m,axis \u001b[39m=\u001b[39;49m \u001b[39m1\u001b[39;49m), feature_dependence\u001b[39m=\u001b[39;49m\u001b[39m\"\u001b[39;49m\u001b[39mindependent\u001b[39;49m\u001b[39m\"\u001b[39;49m, model_output\u001b[39m=\u001b[39;49m\u001b[39m\"\u001b[39;49m\u001b[39mleaf_mean_loss\u001b[39;49m\u001b[39m\"\u001b[39;49m)\n\u001b[1;32m      <a href='vscode-notebook-cell:/Users/lasse/Library/Mobile%20Documents/com~apple~CloudDocs/Oxford%20MPhil/Thesis/Shap/code/explaining_MSE.ipynb#X40sZmlsZQ%3D%3D?line=3'>4</a>\u001b[0m loss_shap_values \u001b[39m=\u001b[39m loss_explainer\u001b[39m.\u001b[39mshap_values(df\u001b[39m.\u001b[39mdrop(\u001b[39m\"\u001b[39m\u001b[39mtarget\u001b[39m\u001b[39m\"\u001b[39m,axis \u001b[39m=\u001b[39m \u001b[39m1\u001b[39m), df\u001b[39m.\u001b[39mtarget)\n",
      "File \u001b[0;32m~/miniconda3/envs/eda/lib/python3.10/site-packages/shap/explainers/_tree.py:200\u001b[0m, in \u001b[0;36mTree.__init__\u001b[0;34m(self, model, data, model_output, feature_perturbation, feature_names, approximate, **deprecated_options)\u001b[0m\n\u001b[1;32m    198\u001b[0m     \u001b[39mself\u001b[39m\u001b[39m.\u001b[39mexpected_value \u001b[39m=\u001b[39m \u001b[39mself\u001b[39m\u001b[39m.\u001b[39mmodel\u001b[39m.\u001b[39mpredict(\u001b[39mself\u001b[39m\u001b[39m.\u001b[39mdata)\u001b[39m.\u001b[39mmean(\u001b[39m0\u001b[39m)\n\u001b[1;32m    199\u001b[0m \u001b[39mexcept\u001b[39;00m \u001b[39mValueError\u001b[39;00m:\n\u001b[0;32m--> 200\u001b[0m     \u001b[39mraise\u001b[39;00m ExplainerError(\u001b[39m\"\u001b[39m\u001b[39mCurrently TreeExplainer can only handle models with categorical splits when \u001b[39m\u001b[39m\"\u001b[39m \\\n\u001b[1;32m    201\u001b[0m                     \u001b[39m\"\u001b[39m\u001b[39mfeature_perturbation=\u001b[39m\u001b[39m\\\"\u001b[39;00m\u001b[39mtree_path_dependent\u001b[39m\u001b[39m\\\"\u001b[39;00m\u001b[39m and no background data is passed. Please try again using \u001b[39m\u001b[39m\"\u001b[39m \\\n\u001b[1;32m    202\u001b[0m                     \u001b[39m\"\u001b[39m\u001b[39mshap.TreeExplainer(model, feature_perturbation=\u001b[39m\u001b[39m\\\"\u001b[39;00m\u001b[39mtree_path_dependent\u001b[39m\u001b[39m\\\"\u001b[39;00m\u001b[39m).\u001b[39m\u001b[39m\"\u001b[39m)\n\u001b[1;32m    203\u001b[0m \u001b[39mif\u001b[39;00m \u001b[39mhasattr\u001b[39m(\u001b[39mself\u001b[39m\u001b[39m.\u001b[39mexpected_value, \u001b[39m'\u001b[39m\u001b[39m__len__\u001b[39m\u001b[39m'\u001b[39m) \u001b[39mand\u001b[39;00m \u001b[39mlen\u001b[39m(\u001b[39mself\u001b[39m\u001b[39m.\u001b[39mexpected_value) \u001b[39m==\u001b[39m \u001b[39m1\u001b[39m:\n\u001b[1;32m    204\u001b[0m     \u001b[39mself\u001b[39m\u001b[39m.\u001b[39mexpected_value \u001b[39m=\u001b[39m \u001b[39mself\u001b[39m\u001b[39m.\u001b[39mexpected_value[\u001b[39m0\u001b[39m]\n",
      "\u001b[0;31mExplainerError\u001b[0m: Currently TreeExplainer can only handle models with categorical splits when feature_perturbation=\"tree_path_dependent\" and no background data is passed. Please try again using shap.TreeExplainer(model, feature_perturbation=\"tree_path_dependent\")."
     ]
    }
   ],
   "source": [
    "# now we specify our custom loss function\n",
    "\n",
    "loss_explainer = shap.TreeExplainer(best_estimator, df.drop(\"target\",axis = 1), feature_dependence=\"independent\", model_output=\"leaf_mean_loss\")\n",
    "loss_shap_values = loss_explainer.shap_values(df.drop(\"target\",axis = 1), df.target)"
   ]
  },
  {
   "cell_type": "markdown",
   "metadata": {},
   "source": [
    "**What is happening here?**\n",
    "\n",
    "Unrecognized parameter value: leaf_mean_loss... Even though it is a well defined model method name. So it seems that the documentation is a bit misleading here.\n",
    "\n",
    "I checked the source code, and found out that the model method name is actually simply not implemented.\n",
    "\n",
    "Because the output predictions are computed using a tree in the C-extension, these arguments are not actually passed to the python model, so one has to translate this for adapter to the C-extension.\n",
    "\n",
    "I opened a [issue on github](https://github.com/shap/shap/issues/3420) to ask how this could be done."
   ]
  },
  {
   "cell_type": "markdown",
   "metadata": {},
   "source": [
    "### *a cheap workaround (just for my memory...)?*"
   ]
  },
  {
   "cell_type": "markdown",
   "metadata": {},
   "source": [
    "[Update]: Reading the [shap source code](https://github.com/shap/shap/blob/d534ef30e33d21672b22addee245a3f3e6dd23e0/shap/explainers/_tree.py#L1238-L1273) I tried some cheap workarounds here, but they didn't work."
   ]
  },
  {
   "cell_type": "markdown",
   "metadata": {},
   "source": [
    "Reading the source-code, I discovered that this adapter is pretty messy. Glancing over, it seems that if you pass \"log_loss\" and the criterion is \"squared_error\", the transform passed to the c-extension is \"squared_loss\". Would this give you the MSE?\n",
    "\n",
    "(from the source)\n",
    "```python\n",
    "    elif self.model_output == \"log_loss\":\n",
    "        if self.objective == \"squared_error\":\n",
    "            transform = \"squared_loss\"\n",
    "```\n",
    "\n",
    "Let's see if this actually works"
   ]
  },
  {
   "cell_type": "code",
   "execution_count": null,
   "metadata": {},
   "outputs": [
    {
     "ename": "NotImplementedError",
     "evalue": "model_output = \"log_loss\" is not yet supported when model.objective = \"None\"!",
     "output_type": "error",
     "traceback": [
      "\u001b[0;31m---------------------------------------------------------------------------\u001b[0m",
      "\u001b[0;31mNotImplementedError\u001b[0m                       Traceback (most recent call last)",
      "\u001b[1;32m/Users/lasse/Library/Mobile Documents/com~apple~CloudDocs/Oxford MPhil/Thesis/Shap/code/explaining_MSE.ipynb Cell 33\u001b[0m line \u001b[0;36m2\n\u001b[1;32m      <a href='vscode-notebook-cell:/Users/lasse/Library/Mobile%20Documents/com~apple~CloudDocs/Oxford%20MPhil/Thesis/Shap/code/explaining_MSE.ipynb#X55sZmlsZQ%3D%3D?line=0'>1</a>\u001b[0m loss_explainer \u001b[39m=\u001b[39m shap\u001b[39m.\u001b[39mTreeExplainer(best_estimator, df\u001b[39m.\u001b[39mdrop(\u001b[39m\"\u001b[39m\u001b[39mtarget\u001b[39m\u001b[39m\"\u001b[39m,axis \u001b[39m=\u001b[39m \u001b[39m1\u001b[39m), model_output\u001b[39m=\u001b[39m\u001b[39m\"\u001b[39m\u001b[39mlog_loss\u001b[39m\u001b[39m\"\u001b[39m)\n\u001b[0;32m----> <a href='vscode-notebook-cell:/Users/lasse/Library/Mobile%20Documents/com~apple~CloudDocs/Oxford%20MPhil/Thesis/Shap/code/explaining_MSE.ipynb#X55sZmlsZQ%3D%3D?line=1'>2</a>\u001b[0m loss_shap_values \u001b[39m=\u001b[39m loss_explainer(X \u001b[39m=\u001b[39;49m df\u001b[39m.\u001b[39;49mdrop(\u001b[39m\"\u001b[39;49m\u001b[39mtarget\u001b[39;49m\u001b[39m\"\u001b[39;49m,axis \u001b[39m=\u001b[39;49m \u001b[39m1\u001b[39;49m), y\u001b[39m=\u001b[39;49mdf\u001b[39m.\u001b[39;49mtarget)\n",
      "File \u001b[0;32m~/miniconda3/envs/eda/lib/python3.10/site-packages/shap/explainers/_tree.py:233\u001b[0m, in \u001b[0;36mTree.__call__\u001b[0;34m(self, X, y, interactions, check_additivity)\u001b[0m\n\u001b[1;32m    230\u001b[0m     feature_names \u001b[39m=\u001b[39m \u001b[39mgetattr\u001b[39m(\u001b[39mself\u001b[39m, \u001b[39m\"\u001b[39m\u001b[39mdata_feature_names\u001b[39m\u001b[39m\"\u001b[39m, \u001b[39mNone\u001b[39;00m)\n\u001b[1;32m    232\u001b[0m \u001b[39mif\u001b[39;00m \u001b[39mnot\u001b[39;00m interactions:\n\u001b[0;32m--> 233\u001b[0m     v \u001b[39m=\u001b[39m \u001b[39mself\u001b[39;49m\u001b[39m.\u001b[39;49mshap_values(X, y\u001b[39m=\u001b[39;49my, from_call\u001b[39m=\u001b[39;49m\u001b[39mTrue\u001b[39;49;00m, check_additivity\u001b[39m=\u001b[39;49mcheck_additivity, approximate\u001b[39m=\u001b[39;49m\u001b[39mself\u001b[39;49m\u001b[39m.\u001b[39;49mapproximate)\n\u001b[1;32m    234\u001b[0m     \u001b[39mif\u001b[39;00m \u001b[39mtype\u001b[39m(v) \u001b[39mis\u001b[39;00m \u001b[39mlist\u001b[39m:\n\u001b[1;32m    235\u001b[0m         v \u001b[39m=\u001b[39m np\u001b[39m.\u001b[39mstack(v, axis\u001b[39m=\u001b[39m\u001b[39m-\u001b[39m\u001b[39m1\u001b[39m)  \u001b[39m# put outputs at the end\u001b[39;00m\n",
      "File \u001b[0;32m~/miniconda3/envs/eda/lib/python3.10/site-packages/shap/explainers/_tree.py:419\u001b[0m, in \u001b[0;36mTree.shap_values\u001b[0;34m(self, X, y, tree_limit, approximate, check_additivity, from_call)\u001b[0m\n\u001b[1;32m    414\u001b[0m         \u001b[39mreturn\u001b[39;00m out\n\u001b[1;32m    416\u001b[0m X, y, X_missing, flat_output, tree_limit, check_additivity \u001b[39m=\u001b[39m \u001b[39mself\u001b[39m\u001b[39m.\u001b[39m_validate_inputs(\n\u001b[1;32m    417\u001b[0m     X, y, tree_limit, check_additivity\n\u001b[1;32m    418\u001b[0m )\n\u001b[0;32m--> 419\u001b[0m transform \u001b[39m=\u001b[39m \u001b[39mself\u001b[39;49m\u001b[39m.\u001b[39;49mmodel\u001b[39m.\u001b[39;49mget_transform()\n\u001b[1;32m    421\u001b[0m \u001b[39m# run the core algorithm using the C extension\u001b[39;00m\n\u001b[1;32m    422\u001b[0m assert_import(\u001b[39m\"\u001b[39m\u001b[39mcext\u001b[39m\u001b[39m\"\u001b[39m)\n",
      "File \u001b[0;32m~/miniconda3/envs/eda/lib/python3.10/site-packages/shap/explainers/_tree.py:1210\u001b[0m, in \u001b[0;36mTreeEnsemble.get_transform\u001b[0;34m(self)\u001b[0m\n\u001b[1;32m   1205\u001b[0m     \u001b[39melse\u001b[39;00m:\n\u001b[1;32m   1206\u001b[0m         emsg \u001b[39m=\u001b[39m (\n\u001b[1;32m   1207\u001b[0m             \u001b[39m\"\u001b[39m\u001b[39mmodel_output = \u001b[39m\u001b[39m\\\"\u001b[39;00m\u001b[39mlog_loss\u001b[39m\u001b[39m\\\"\u001b[39;00m\u001b[39m is not yet supported when model.objective = \u001b[39m\u001b[39m\"\u001b[39m\n\u001b[1;32m   1208\u001b[0m             \u001b[39mf\u001b[39m\u001b[39m\"\u001b[39m\u001b[39m\\\"\u001b[39;00m\u001b[39m{\u001b[39;00m\u001b[39mself\u001b[39m\u001b[39m.\u001b[39mobjective\u001b[39m}\u001b[39;00m\u001b[39m\\\"\u001b[39;00m\u001b[39m!\u001b[39m\u001b[39m\"\u001b[39m\n\u001b[1;32m   1209\u001b[0m         )\n\u001b[0;32m-> 1210\u001b[0m         \u001b[39mraise\u001b[39;00m \u001b[39mNotImplementedError\u001b[39;00m(emsg)\n\u001b[1;32m   1211\u001b[0m \u001b[39melse\u001b[39;00m:\n\u001b[1;32m   1212\u001b[0m     emsg \u001b[39m=\u001b[39m (\n\u001b[1;32m   1213\u001b[0m         \u001b[39mf\u001b[39m\u001b[39m\"\u001b[39m\u001b[39mUnrecognized model_output parameter value: \u001b[39m\u001b[39m{\u001b[39;00m\u001b[39mstr\u001b[39m(\u001b[39mself\u001b[39m\u001b[39m.\u001b[39mmodel_output)\u001b[39m}\u001b[39;00m\u001b[39m! \u001b[39m\u001b[39m\"\u001b[39m\n\u001b[1;32m   1214\u001b[0m         \u001b[39mf\u001b[39m\u001b[39m\"\u001b[39m\u001b[39mIf `model.\u001b[39m\u001b[39m{\u001b[39;00m\u001b[39mstr\u001b[39m(\u001b[39mself\u001b[39m\u001b[39m.\u001b[39mmodel_output)\u001b[39m}\u001b[39;00m\u001b[39m` is a valid function, open a Github issue to ask \u001b[39m\u001b[39m\"\u001b[39m\n\u001b[1;32m   1215\u001b[0m         \u001b[39m\"\u001b[39m\u001b[39mthat this method be supported. If you want \u001b[39m\u001b[39m'\u001b[39m\u001b[39mpredict_proba\u001b[39m\u001b[39m'\u001b[39m\u001b[39m just use \u001b[39m\u001b[39m'\u001b[39m\u001b[39mprobability\u001b[39m\u001b[39m'\u001b[39m\u001b[39m for now.\u001b[39m\u001b[39m\"\u001b[39m\n\u001b[1;32m   1216\u001b[0m     )\n",
      "\u001b[0;31mNotImplementedError\u001b[0m: model_output = \"log_loss\" is not yet supported when model.objective = \"None\"!"
     ]
    }
   ],
   "source": [
    "loss_explainer = shap.TreeExplainer(best_estimator, df.drop(\"target\",axis = 1), model_output=\"log_loss\")\n",
    "loss_shap_values = loss_explainer(X = df.drop(\"target\",axis = 1), y=df.target)"
   ]
  },
  {
   "cell_type": "markdown",
   "metadata": {},
   "source": [
    "For some reason model.objective is not set to our criterion (squared_error, see below)... Is this just because we are a custom model that the shap explainer does not know about?\n",
    "\n",
    "(again, from .tree source)\n",
    "```python\n",
    "[...]\n",
    "elif safe_isinstance(\n",
    "    model,\n",
    "    [\n",
    "        \"sklearn.tree.DecisionTreeRegressor\",\n",
    "        \"sklearn.tree.tree.DecisionTreeRegressor\",\n",
    "        \"econml.grf._base_grftree.GRFTree\",\n",
    "    ],\n",
    "):\n",
    "    self.internal_dtype = model.tree_.value.dtype.type\n",
    "    self.input_dtype = np.float32\n",
    "    self.trees = [SingleTree(model.tree_, data=data, data_missing=data_missing)]\n",
    "    self.objective = objective_name_map.get(model.criterion, None)\n",
    "    self.tree_output = \"raw_value\"\n",
    "```"
   ]
  },
  {
   "cell_type": "code",
   "execution_count": null,
   "metadata": {},
   "outputs": [
    {
     "data": {
      "text/plain": [
       "__main__.CustomDecisionTree"
      ]
     },
     "execution_count": 29,
     "metadata": {},
     "output_type": "execute_result"
    }
   ],
   "source": [
    "type(best_estimator)"
   ]
  },
  {
   "cell_type": "code",
   "execution_count": null,
   "metadata": {},
   "outputs": [
    {
     "data": {
      "text/plain": [
       "'squared_error'"
      ]
     },
     "execution_count": 30,
     "metadata": {},
     "output_type": "execute_result"
    }
   ],
   "source": [
    "best_estimator.criterion"
   ]
  },
  {
   "cell_type": "markdown",
   "metadata": {},
   "source": [
    "so lets go back to a basic tree and see if we can get it to work using the log_loss argument to get the squared loss"
   ]
  },
  {
   "cell_type": "code",
   "execution_count": null,
   "metadata": {},
   "outputs": [],
   "source": [
    "# train standard decision tree\n",
    "\n",
    "gscv = GridSearchCV(\n",
    "    estimator=DecisionTreeRegressor(),\n",
    "    param_grid={'max_depth': np.arange(2, 10)},\n",
    "    cv = 4)\n",
    "\n",
    "gscv.fit(df.drop(\"target\",axis = 1), df.target)\n",
    "\n",
    "best_tree = gscv.best_estimator_"
   ]
  },
  {
   "cell_type": "code",
   "execution_count": null,
   "metadata": {},
   "outputs": [
    {
     "name": "stderr",
     "output_type": "stream",
     "text": [
      "feature_dependence = \"independent\" has been renamed to feature_perturbation = \"interventional\"! See GitHub issue #882.\n"
     ]
    },
    {
     "ename": "NotImplementedError",
     "evalue": "model_output = \"log_loss\" is not yet supported when model.objective = \"None\"!",
     "output_type": "error",
     "traceback": [
      "\u001b[0;31m---------------------------------------------------------------------------\u001b[0m",
      "\u001b[0;31mNotImplementedError\u001b[0m                       Traceback (most recent call last)",
      "\u001b[1;32m/Users/lasse/Library/Mobile Documents/com~apple~CloudDocs/Oxford MPhil/Thesis/Shap/code/explaining_MSE.ipynb Cell 39\u001b[0m line \u001b[0;36m4\n\u001b[1;32m      <a href='vscode-notebook-cell:/Users/lasse/Library/Mobile%20Documents/com~apple~CloudDocs/Oxford%20MPhil/Thesis/Shap/code/explaining_MSE.ipynb#Y103sZmlsZQ%3D%3D?line=0'>1</a>\u001b[0m \u001b[39m# get treeshap explainer\u001b[39;00m\n\u001b[1;32m      <a href='vscode-notebook-cell:/Users/lasse/Library/Mobile%20Documents/com~apple~CloudDocs/Oxford%20MPhil/Thesis/Shap/code/explaining_MSE.ipynb#Y103sZmlsZQ%3D%3D?line=2'>3</a>\u001b[0m tree_explainer \u001b[39m=\u001b[39m shap\u001b[39m.\u001b[39mTreeExplainer(best_tree, df\u001b[39m.\u001b[39mdrop(\u001b[39m\"\u001b[39m\u001b[39mtarget\u001b[39m\u001b[39m\"\u001b[39m,axis \u001b[39m=\u001b[39m \u001b[39m1\u001b[39m), feature_dependence\u001b[39m=\u001b[39m\u001b[39m\"\u001b[39m\u001b[39mindependent\u001b[39m\u001b[39m\"\u001b[39m, model_output\u001b[39m=\u001b[39m\u001b[39m\"\u001b[39m\u001b[39mlog_loss\u001b[39m\u001b[39m\"\u001b[39m)\n\u001b[0;32m----> <a href='vscode-notebook-cell:/Users/lasse/Library/Mobile%20Documents/com~apple~CloudDocs/Oxford%20MPhil/Thesis/Shap/code/explaining_MSE.ipynb#Y103sZmlsZQ%3D%3D?line=3'>4</a>\u001b[0m shape_values \u001b[39m=\u001b[39m tree_explainer\u001b[39m.\u001b[39;49mshap_values(df\u001b[39m.\u001b[39;49mdrop(\u001b[39m\"\u001b[39;49m\u001b[39mtarget\u001b[39;49m\u001b[39m\"\u001b[39;49m,axis \u001b[39m=\u001b[39;49m \u001b[39m1\u001b[39;49m), df\u001b[39m.\u001b[39;49mtarget)\n",
      "File \u001b[0;32m~/miniconda3/envs/eda/lib/python3.10/site-packages/shap/explainers/_tree.py:419\u001b[0m, in \u001b[0;36mTree.shap_values\u001b[0;34m(self, X, y, tree_limit, approximate, check_additivity, from_call)\u001b[0m\n\u001b[1;32m    414\u001b[0m         \u001b[39mreturn\u001b[39;00m out\n\u001b[1;32m    416\u001b[0m X, y, X_missing, flat_output, tree_limit, check_additivity \u001b[39m=\u001b[39m \u001b[39mself\u001b[39m\u001b[39m.\u001b[39m_validate_inputs(\n\u001b[1;32m    417\u001b[0m     X, y, tree_limit, check_additivity\n\u001b[1;32m    418\u001b[0m )\n\u001b[0;32m--> 419\u001b[0m transform \u001b[39m=\u001b[39m \u001b[39mself\u001b[39;49m\u001b[39m.\u001b[39;49mmodel\u001b[39m.\u001b[39;49mget_transform()\n\u001b[1;32m    421\u001b[0m \u001b[39m# run the core algorithm using the C extension\u001b[39;00m\n\u001b[1;32m    422\u001b[0m assert_import(\u001b[39m\"\u001b[39m\u001b[39mcext\u001b[39m\u001b[39m\"\u001b[39m)\n",
      "File \u001b[0;32m~/miniconda3/envs/eda/lib/python3.10/site-packages/shap/explainers/_tree.py:1210\u001b[0m, in \u001b[0;36mTreeEnsemble.get_transform\u001b[0;34m(self)\u001b[0m\n\u001b[1;32m   1205\u001b[0m     \u001b[39melse\u001b[39;00m:\n\u001b[1;32m   1206\u001b[0m         emsg \u001b[39m=\u001b[39m (\n\u001b[1;32m   1207\u001b[0m             \u001b[39m\"\u001b[39m\u001b[39mmodel_output = \u001b[39m\u001b[39m\\\"\u001b[39;00m\u001b[39mlog_loss\u001b[39m\u001b[39m\\\"\u001b[39;00m\u001b[39m is not yet supported when model.objective = \u001b[39m\u001b[39m\"\u001b[39m\n\u001b[1;32m   1208\u001b[0m             \u001b[39mf\u001b[39m\u001b[39m\"\u001b[39m\u001b[39m\\\"\u001b[39;00m\u001b[39m{\u001b[39;00m\u001b[39mself\u001b[39m\u001b[39m.\u001b[39mobjective\u001b[39m}\u001b[39;00m\u001b[39m\\\"\u001b[39;00m\u001b[39m!\u001b[39m\u001b[39m\"\u001b[39m\n\u001b[1;32m   1209\u001b[0m         )\n\u001b[0;32m-> 1210\u001b[0m         \u001b[39mraise\u001b[39;00m \u001b[39mNotImplementedError\u001b[39;00m(emsg)\n\u001b[1;32m   1211\u001b[0m \u001b[39melse\u001b[39;00m:\n\u001b[1;32m   1212\u001b[0m     emsg \u001b[39m=\u001b[39m (\n\u001b[1;32m   1213\u001b[0m         \u001b[39mf\u001b[39m\u001b[39m\"\u001b[39m\u001b[39mUnrecognized model_output parameter value: \u001b[39m\u001b[39m{\u001b[39;00m\u001b[39mstr\u001b[39m(\u001b[39mself\u001b[39m\u001b[39m.\u001b[39mmodel_output)\u001b[39m}\u001b[39;00m\u001b[39m! \u001b[39m\u001b[39m\"\u001b[39m\n\u001b[1;32m   1214\u001b[0m         \u001b[39mf\u001b[39m\u001b[39m\"\u001b[39m\u001b[39mIf `model.\u001b[39m\u001b[39m{\u001b[39;00m\u001b[39mstr\u001b[39m(\u001b[39mself\u001b[39m\u001b[39m.\u001b[39mmodel_output)\u001b[39m}\u001b[39;00m\u001b[39m` is a valid function, open a Github issue to ask \u001b[39m\u001b[39m\"\u001b[39m\n\u001b[1;32m   1215\u001b[0m         \u001b[39m\"\u001b[39m\u001b[39mthat this method be supported. If you want \u001b[39m\u001b[39m'\u001b[39m\u001b[39mpredict_proba\u001b[39m\u001b[39m'\u001b[39m\u001b[39m just use \u001b[39m\u001b[39m'\u001b[39m\u001b[39mprobability\u001b[39m\u001b[39m'\u001b[39m\u001b[39m for now.\u001b[39m\u001b[39m\"\u001b[39m\n\u001b[1;32m   1216\u001b[0m     )\n",
      "\u001b[0;31mNotImplementedError\u001b[0m: model_output = \"log_loss\" is not yet supported when model.objective = \"None\"!"
     ]
    }
   ],
   "source": [
    "# get treeshap explainer\n",
    "\n",
    "tree_explainer = shap.TreeExplainer(best_tree, df.drop(\"target\",axis = 1), feature_dependence=\"independent\", model_output=\"log_loss\")\n",
    "shape_values = tree_explainer.shap_values(df.drop(\"target\",axis = 1), df.target)"
   ]
  },
  {
   "cell_type": "markdown",
   "metadata": {},
   "source": [
    "No... It checks that we are not a classification model."
   ]
  },
  {
   "cell_type": "code",
   "execution_count": null,
   "metadata": {},
   "outputs": [],
   "source": [
    "# try with clasisfication\n",
    "from sklearn.tree import DecisionTreeClassifier\n",
    "\n",
    "# define binary y as target over target.mean()\n",
    "\n",
    "df['target_binary'] = (df.target > df.target.mean()).astype(int)\n",
    "\n",
    "# train classifier\n",
    "\n",
    "gscv = GridSearchCV(\n",
    "    estimator=DecisionTreeClassifier(),\n",
    "    param_grid={'max_depth': np.arange(2, 10)},\n",
    "    cv = 4)\n",
    "\n",
    "gscv.fit(df.drop([\"target\", \"target_binary\"],axis = 1), df.target_binary)\n",
    "\n",
    "best_clf = gscv.best_estimator_\n"
   ]
  },
  {
   "cell_type": "code",
   "execution_count": null,
   "metadata": {},
   "outputs": [
    {
     "name": "stderr",
     "output_type": "stream",
     "text": [
      "feature_dependence = \"independent\" has been renamed to feature_perturbation = \"interventional\"! See GitHub issue #882.\n"
     ]
    },
    {
     "data": {
      "text/plain": [
       "[array([[ 0.        ,  0.        , -0.10934881, ...,  0.        ,\n",
       "         -0.11823457,  0.        ],\n",
       "        [ 0.        ,  0.        ,  0.11022653, ...,  0.        ,\n",
       "          0.12788771,  0.        ],\n",
       "        [ 0.        ,  0.        , -0.10934881, ...,  0.        ,\n",
       "         -0.11823457,  0.        ],\n",
       "        ...,\n",
       "        [ 0.        ,  0.        ,  0.11022653, ...,  0.        ,\n",
       "          0.12788771,  0.        ],\n",
       "        [ 0.        ,  0.        ,  0.07238968, ...,  0.        ,\n",
       "          0.0747089 ,  0.        ],\n",
       "        [ 0.        ,  0.        ,  0.11022653, ...,  0.        ,\n",
       "          0.12788771,  0.        ]]),\n",
       " array([[ 0.        ,  0.        ,  0.11646402, ...,  0.        ,\n",
       "          0.12153013,  0.        ],\n",
       "        [ 0.        ,  0.        , -0.09942289, ...,  0.        ,\n",
       "         -0.11848999,  0.        ],\n",
       "        [ 0.        ,  0.        ,  0.11646402, ...,  0.        ,\n",
       "          0.12153013,  0.        ],\n",
       "        ...,\n",
       "        [ 0.        ,  0.        , -0.09942289, ...,  0.        ,\n",
       "         -0.11848999,  0.        ],\n",
       "        [ 0.        ,  0.        , -0.06527447, ...,  0.        ,\n",
       "         -0.07141334,  0.        ],\n",
       "        [ 0.        ,  0.        , -0.09942289, ...,  0.        ,\n",
       "         -0.11848999,  0.        ]])]"
      ]
     },
     "execution_count": 36,
     "metadata": {},
     "output_type": "execute_result"
    }
   ],
   "source": [
    "# get ACTUAL log loss by using a classifier\n",
    "\n",
    "explainer = shap.TreeExplainer(best_clf, df.drop([\"target\", \"target_binary\"],axis = 1), feature_dependence=\"independent\", model_output=\"log_loss\")\n",
    "explainer.shap_values(df.drop([\"target\", \"target_binary\"],axis = 1), df.target_binary)"
   ]
  },
  {
   "cell_type": "markdown",
   "metadata": {},
   "source": [
    "So it might be that this workaround could nevertheless work if we only play around with how the instance attributes are set in the shap implementation of the tree within the shap explainer, if it is true that the underlying C-extension is set up to compute the MSE when the criterion is \"squared_error\" and the model_output is \"log_loss\"... In any case the the shap code needs to be fixed or the documentation adjusted...\n",
    "\n"
   ]
  }
 ],
 "metadata": {
  "kernelspec": {
   "display_name": "causal_trees",
   "language": "python",
   "name": "python3"
  },
  "language_info": {
   "codemirror_mode": {
    "name": "ipython",
    "version": 3
   },
   "file_extension": ".py",
   "mimetype": "text/x-python",
   "name": "python",
   "nbconvert_exporter": "python",
   "pygments_lexer": "ipython3",
   "version": "3.10.8"
  }
 },
 "nbformat": 4,
 "nbformat_minor": 2
}
